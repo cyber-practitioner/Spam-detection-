{
 "cells": [
  {
   "cell_type": "code",
   "execution_count": 1,
   "id": "1e1f2ab6",
   "metadata": {},
   "outputs": [
    {
     "name": "stderr",
     "output_type": "stream",
     "text": [
      "[nltk_data] Downloading package stopwords to\n",
      "[nltk_data]     C:\\Users\\FIREBLZE\\AppData\\Roaming\\nltk_data...\n",
      "[nltk_data]   Package stopwords is already up-to-date!\n"
     ]
    }
   ],
   "source": [
    "import pandas as pd\n",
    "import numpy as np\n",
    "import tensorflow as tf\n",
    "import matplotlib.pyplot as plt\n",
    "import seaborn as sns\n",
    "import re\n",
    "from sklearn.metrics import *\n",
    "import keras\n",
    "from keras.models import Sequential\n",
    "from keras.layers import Dense, Dropout\n",
    "\n",
    "import nltk \n",
    "nltk.download('stopwords')\n",
    "from nltk.corpus import stopwords\n",
    "from nltk.stem import SnowballStemmer\n",
    "\n",
    "from sklearn.model_selection import train_test_split\n",
    "from sklearn.preprocessing import LabelEncoder"
   ]
  },
  {
   "cell_type": "code",
   "execution_count": 2,
   "id": "27591de1",
   "metadata": {},
   "outputs": [
    {
     "name": "stdout",
     "output_type": "stream",
     "text": [
      "<class 'pandas.core.frame.DataFrame'>\n",
      "RangeIndex: 5171 entries, 0 to 5170\n",
      "Data columns (total 4 columns):\n",
      " #   Column      Non-Null Count  Dtype \n",
      "---  ------      --------------  ----- \n",
      " 0   Unnamed: 0  5171 non-null   int64 \n",
      " 1   label       5171 non-null   object\n",
      " 2   text        5171 non-null   object\n",
      " 3   label_num   5171 non-null   int64 \n",
      "dtypes: int64(2), object(2)\n",
      "memory usage: 161.7+ KB\n"
     ]
    }
   ],
   "source": [
    "data = pd.read_csv('spam_ham_dataset.csv')\n",
    "data.info()"
   ]
  },
  {
   "cell_type": "code",
   "execution_count": 3,
   "id": "cffda39e",
   "metadata": {},
   "outputs": [],
   "source": [
    "stop_words = stopwords.words('english')\n",
    "stemmer = SnowballStemmer('english')\n",
    "\n",
    "text_cleaning_re = \"@\\S+|https?:\\S+|http?:\\S+|[^A-Za-z0-9]:\\S+|subject:\\S+|nbsp\""
   ]
  },
  {
   "cell_type": "code",
   "execution_count": 4,
   "id": "b5dfd05e",
   "metadata": {},
   "outputs": [
    {
     "data": {
      "text/html": [
       "<div>\n",
       "<style scoped>\n",
       "    .dataframe tbody tr th:only-of-type {\n",
       "        vertical-align: middle;\n",
       "    }\n",
       "\n",
       "    .dataframe tbody tr th {\n",
       "        vertical-align: top;\n",
       "    }\n",
       "\n",
       "    .dataframe thead th {\n",
       "        text-align: right;\n",
       "    }\n",
       "</style>\n",
       "<table border=\"1\" class=\"dataframe\">\n",
       "  <thead>\n",
       "    <tr style=\"text-align: right;\">\n",
       "      <th></th>\n",
       "      <th>Unnamed: 0</th>\n",
       "      <th>label</th>\n",
       "      <th>text</th>\n",
       "      <th>label_num</th>\n",
       "    </tr>\n",
       "  </thead>\n",
       "  <tbody>\n",
       "    <tr>\n",
       "      <th>0</th>\n",
       "      <td>605</td>\n",
       "      <td>ham</td>\n",
       "      <td>subject: enron methanol ; meter # : 988291 fol...</td>\n",
       "      <td>0</td>\n",
       "    </tr>\n",
       "    <tr>\n",
       "      <th>1</th>\n",
       "      <td>2349</td>\n",
       "      <td>ham</td>\n",
       "      <td>subject: hpl nom january 9 , 2001 ( see attach...</td>\n",
       "      <td>0</td>\n",
       "    </tr>\n",
       "    <tr>\n",
       "      <th>2</th>\n",
       "      <td>3624</td>\n",
       "      <td>ham</td>\n",
       "      <td>subject: neon retreat ho ho ho , ' around wond...</td>\n",
       "      <td>0</td>\n",
       "    </tr>\n",
       "    <tr>\n",
       "      <th>3</th>\n",
       "      <td>4685</td>\n",
       "      <td>spam</td>\n",
       "      <td>subject: photoshop , windows , office . cheap ...</td>\n",
       "      <td>1</td>\n",
       "    </tr>\n",
       "    <tr>\n",
       "      <th>4</th>\n",
       "      <td>2030</td>\n",
       "      <td>ham</td>\n",
       "      <td>subject: : indian springs deal book teco pvr r...</td>\n",
       "      <td>0</td>\n",
       "    </tr>\n",
       "  </tbody>\n",
       "</table>\n",
       "</div>"
      ],
      "text/plain": [
       "   Unnamed: 0 label                                               text  \\\n",
       "0         605   ham  subject: enron methanol ; meter # : 988291 fol...   \n",
       "1        2349   ham  subject: hpl nom january 9 , 2001 ( see attach...   \n",
       "2        3624   ham  subject: neon retreat ho ho ho , ' around wond...   \n",
       "3        4685  spam  subject: photoshop , windows , office . cheap ...   \n",
       "4        2030   ham  subject: : indian springs deal book teco pvr r...   \n",
       "\n",
       "   label_num  \n",
       "0          0  \n",
       "1          0  \n",
       "2          0  \n",
       "3          1  \n",
       "4          0  "
      ]
     },
     "execution_count": 4,
     "metadata": {},
     "output_type": "execute_result"
    }
   ],
   "source": [
    "def preprocess(text, stem=False):\n",
    "    text = re.sub(text_cleaning_re, ' ', str(text).lower()).strip()\n",
    "    tokens = []\n",
    "    for token in text.split():\n",
    "        if token not in stop_words:\n",
    "            if stem:\n",
    "                tokens.append(stemmer.stem(token))\n",
    "            else:\n",
    "                tokens.append(token)\n",
    "    return \" \".join(tokens)\n",
    "\n",
    "data.text = data.text.apply(lambda x: preprocess(x))\n",
    "data.head()"
   ]
  },
  {
   "cell_type": "code",
   "execution_count": 5,
   "id": "d70e99ef",
   "metadata": {},
   "outputs": [
    {
     "data": {
      "text/html": [
       "<div>\n",
       "<style scoped>\n",
       "    .dataframe tbody tr th:only-of-type {\n",
       "        vertical-align: middle;\n",
       "    }\n",
       "\n",
       "    .dataframe tbody tr th {\n",
       "        vertical-align: top;\n",
       "    }\n",
       "\n",
       "    .dataframe thead th {\n",
       "        text-align: right;\n",
       "    }\n",
       "</style>\n",
       "<table border=\"1\" class=\"dataframe\">\n",
       "  <thead>\n",
       "    <tr style=\"text-align: right;\">\n",
       "      <th></th>\n",
       "      <th>text</th>\n",
       "      <th>Label</th>\n",
       "    </tr>\n",
       "  </thead>\n",
       "  <tbody>\n",
       "    <tr>\n",
       "      <th>0</th>\n",
       "      <td>subject: enron methanol ; meter # : 988291 fol...</td>\n",
       "      <td>0</td>\n",
       "    </tr>\n",
       "    <tr>\n",
       "      <th>1</th>\n",
       "      <td>subject: hpl nom january 9 , 2001 ( see attach...</td>\n",
       "      <td>0</td>\n",
       "    </tr>\n",
       "    <tr>\n",
       "      <th>2</th>\n",
       "      <td>subject: neon retreat ho ho ho , ' around wond...</td>\n",
       "      <td>0</td>\n",
       "    </tr>\n",
       "    <tr>\n",
       "      <th>3</th>\n",
       "      <td>subject: photoshop , windows , office . cheap ...</td>\n",
       "      <td>1</td>\n",
       "    </tr>\n",
       "    <tr>\n",
       "      <th>4</th>\n",
       "      <td>subject: : indian springs deal book teco pvr r...</td>\n",
       "      <td>0</td>\n",
       "    </tr>\n",
       "    <tr>\n",
       "      <th>...</th>\n",
       "      <td>...</td>\n",
       "      <td>...</td>\n",
       "    </tr>\n",
       "    <tr>\n",
       "      <th>5166</th>\n",
       "      <td>subject: put 10 ft transport volumes decreased...</td>\n",
       "      <td>0</td>\n",
       "    </tr>\n",
       "    <tr>\n",
       "      <th>5167</th>\n",
       "      <td>subject: 3 / 4 / 2000 following noms hpl ' tak...</td>\n",
       "      <td>0</td>\n",
       "    </tr>\n",
       "    <tr>\n",
       "      <th>5168</th>\n",
       "      <td>subject: calpine daily gas nomination &gt; &gt; juli...</td>\n",
       "      <td>0</td>\n",
       "    </tr>\n",
       "    <tr>\n",
       "      <th>5169</th>\n",
       "      <td>subject: industrial worksheets august 2000 act...</td>\n",
       "      <td>0</td>\n",
       "    </tr>\n",
       "    <tr>\n",
       "      <th>5170</th>\n",
       "      <td>subject: important online banking alert dear v...</td>\n",
       "      <td>1</td>\n",
       "    </tr>\n",
       "  </tbody>\n",
       "</table>\n",
       "<p>5171 rows × 2 columns</p>\n",
       "</div>"
      ],
      "text/plain": [
       "                                                   text  Label\n",
       "0     subject: enron methanol ; meter # : 988291 fol...      0\n",
       "1     subject: hpl nom january 9 , 2001 ( see attach...      0\n",
       "2     subject: neon retreat ho ho ho , ' around wond...      0\n",
       "3     subject: photoshop , windows , office . cheap ...      1\n",
       "4     subject: : indian springs deal book teco pvr r...      0\n",
       "...                                                 ...    ...\n",
       "5166  subject: put 10 ft transport volumes decreased...      0\n",
       "5167  subject: 3 / 4 / 2000 following noms hpl ' tak...      0\n",
       "5168  subject: calpine daily gas nomination > > juli...      0\n",
       "5169  subject: industrial worksheets august 2000 act...      0\n",
       "5170  subject: important online banking alert dear v...      1\n",
       "\n",
       "[5171 rows x 2 columns]"
      ]
     },
     "execution_count": 5,
     "metadata": {},
     "output_type": "execute_result"
    }
   ],
   "source": [
    "data = data.drop(['Unnamed: 0', 'label'], axis=1)\n",
    "data = data.rename(columns = {\"label_num\" : \"Label\"})\n",
    "data"
   ]
  },
  {
   "cell_type": "code",
   "execution_count": 6,
   "id": "3bd77d06",
   "metadata": {},
   "outputs": [
    {
     "data": {
      "text/plain": [
       "<AxesSubplot:xlabel='Label', ylabel='count'>"
      ]
     },
     "execution_count": 6,
     "metadata": {},
     "output_type": "execute_result"
    },
    {
     "data": {
      "image/png": "[encoded data removed]",
      "text/plain": [
       "<Figure size 432x288 with 1 Axes>"
      ]
     },
     "metadata": {
      "needs_background": "light"
     },
     "output_type": "display_data"
    }
   ],
   "source": [
    "sns.countplot(x=\"Label\", data=data)"
   ]
  },
  {
   "cell_type": "code",
   "execution_count": 7,
   "id": "78d36d6b",
   "metadata": {},
   "outputs": [
    {
     "name": "stdout",
     "output_type": "stream",
     "text": [
      "Train Data size: 3878\n",
      "Test Data size 1293\n"
     ]
    }
   ],
   "source": [
    "x = data['text']\n",
    "y = data['Label']\n",
    "x_train, x_test, y_train, y_test = train_test_split(x, y, test_size=0.25,\n",
    "                                         random_state=7)\n",
    "print(\"Train Data size:\", len(x_train))\n",
    "print(\"Test Data size\", len(x_test))"
   ]
  },
  {
   "cell_type": "code",
   "execution_count": 8,
   "id": "ff8f9d4f",
   "metadata": {},
   "outputs": [
    {
     "name": "stdout",
     "output_type": "stream",
     "text": [
      "Vocabulary Size : 43372\n"
     ]
    }
   ],
   "source": [
    "from keras.preprocessing.text import Tokenizer\n",
    "\n",
    "tokenizer = Tokenizer()\n",
    "tokenizer.fit_on_texts(x_train)\n",
    "\n",
    "word_index = tokenizer.word_index\n",
    "vocab_size = len(tokenizer.word_index) + 1000\n",
    "print(\"Vocabulary Size :\", vocab_size)"
   ]
  },
  {
   "cell_type": "code",
   "execution_count": 9,
   "id": "0462684d",
   "metadata": {},
   "outputs": [
    {
     "name": "stdout",
     "output_type": "stream",
     "text": [
      "Training X Shape: (3878, 50)\n",
      "Testing X Shape: (1293, 50)\n"
     ]
    }
   ],
   "source": [
    "from keras.preprocessing.sequence import pad_sequences\n",
    "\n",
    "x_train = pad_sequences(tokenizer.texts_to_sequences(x_train),\n",
    "                        maxlen = 50)\n",
    "x_test = pad_sequences(tokenizer.texts_to_sequences(x_test),\n",
    "                       maxlen = 50)\n",
    "\n",
    "print(\"Training X Shape:\",x_train.shape)\n",
    "print(\"Testing X Shape:\",x_test.shape)"
   ]
  },
  {
   "cell_type": "code",
   "execution_count": 10,
   "id": "5e8b29db",
   "metadata": {},
   "outputs": [],
   "source": [
    "from keras.layers import SimpleRNN\n",
    "rnn = Sequential()\n",
    "rnn.add(SimpleRNN(50, activation='relu', input_dim=50 , return_sequences = True))\n",
    "rnn.add(SimpleRNN(55, activation='relu' ,  return_sequences = False))\n",
    "# Adding dropout to prevent overfitting\n",
    "rnn.add(Dropout(0.1))\n",
    "rnn.add(Dense(1, activation='sigmoid'))"
   ]
  },
  {
   "cell_type": "code",
   "execution_count": 11,
   "id": "a06e67a1",
   "metadata": {},
   "outputs": [
    {
     "name": "stdout",
     "output_type": "stream",
     "text": [
      "(3878, 50)\n",
      "(1293,)\n"
     ]
    }
   ],
   "source": [
    "rnn.compile(optimizer='adam', loss='binary_crossentropy', metrics=['accuracy'])\n",
    "print(x_train.shape)\n",
    "print(y_test.shape)"
   ]
  },
  {
   "cell_type": "code",
   "execution_count": 12,
   "id": "170f2b99",
   "metadata": {},
   "outputs": [],
   "source": [
    "x_train1 = x_train.reshape(3878,1,50)\n",
    "y_train1 = np.array(y_train).reshape(3878,1,1)\n",
    "x_test1 = x_test.reshape(1293,1,50)\n",
    "y_test1 = np.array(y_test).reshape(1293,1,1)"
   ]
  },
  {
   "cell_type": "code",
   "execution_count": 13,
   "id": "62e5dd3f",
   "metadata": {},
   "outputs": [
    {
     "name": "stdout",
     "output_type": "stream",
     "text": [
      "Epoch 1/100\n",
      "97/97 - 1s - loss: 398.2971 - accuracy: 0.5970 - val_loss: 162.5631 - val_accuracy: 0.6504\n",
      "Epoch 2/100\n",
      "97/97 - 0s - loss: 171.9382 - accuracy: 0.6310 - val_loss: 110.9832 - val_accuracy: 0.6481\n",
      "Epoch 3/100\n",
      "97/97 - 0s - loss: 107.0059 - accuracy: 0.6594 - val_loss: 93.1241 - val_accuracy: 0.6806\n",
      "Epoch 4/100\n",
      "97/97 - 0s - loss: 72.8306 - accuracy: 0.6821 - val_loss: 76.4094 - val_accuracy: 0.6613\n",
      "Epoch 5/100\n",
      "97/97 - 0s - loss: 48.3674 - accuracy: 0.6970 - val_loss: 63.0638 - val_accuracy: 0.6775\n",
      "Epoch 6/100\n",
      "97/97 - 0s - loss: 36.8493 - accuracy: 0.7001 - val_loss: 51.1793 - val_accuracy: 0.6334\n",
      "Epoch 7/100\n",
      "97/97 - 0s - loss: 27.9794 - accuracy: 0.7109 - val_loss: 42.4073 - val_accuracy: 0.6698\n",
      "Epoch 8/100\n",
      "97/97 - 0s - loss: 20.4860 - accuracy: 0.7274 - val_loss: 35.2045 - val_accuracy: 0.6543\n",
      "Epoch 9/100\n",
      "97/97 - 0s - loss: 14.1099 - accuracy: 0.7295 - val_loss: 30.6425 - val_accuracy: 0.6334\n",
      "Epoch 10/100\n",
      "97/97 - 0s - loss: 11.0992 - accuracy: 0.7329 - val_loss: 26.5753 - val_accuracy: 0.6667\n",
      "Epoch 11/100\n",
      "97/97 - 0s - loss: 7.8259 - accuracy: 0.7442 - val_loss: 22.1617 - val_accuracy: 0.6953\n",
      "Epoch 12/100\n",
      "97/97 - 0s - loss: 5.6398 - accuracy: 0.7390 - val_loss: 19.4079 - val_accuracy: 0.6017\n",
      "Epoch 13/100\n",
      "97/97 - 0s - loss: 4.4018 - accuracy: 0.7481 - val_loss: 16.6539 - val_accuracy: 0.6481\n",
      "Epoch 14/100\n",
      "97/97 - 0s - loss: 3.4849 - accuracy: 0.7427 - val_loss: 16.1788 - val_accuracy: 0.6698\n",
      "Epoch 15/100\n",
      "97/97 - 0s - loss: 2.5646 - accuracy: 0.7522 - val_loss: 14.4284 - val_accuracy: 0.7038\n",
      "Epoch 16/100\n",
      "97/97 - 0s - loss: 2.4415 - accuracy: 0.7594 - val_loss: 14.7304 - val_accuracy: 0.7022\n",
      "Epoch 17/100\n",
      "97/97 - 0s - loss: 1.8772 - accuracy: 0.7718 - val_loss: 12.2813 - val_accuracy: 0.7386\n",
      "Epoch 18/100\n",
      "97/97 - 0s - loss: 1.4769 - accuracy: 0.7710 - val_loss: 12.2244 - val_accuracy: 0.6852\n",
      "Epoch 19/100\n",
      "97/97 - 0s - loss: 1.7167 - accuracy: 0.7726 - val_loss: 12.2048 - val_accuracy: 0.7254\n",
      "Epoch 20/100\n",
      "97/97 - 0s - loss: 1.5376 - accuracy: 0.7713 - val_loss: 13.7052 - val_accuracy: 0.7200\n",
      "Epoch 21/100\n",
      "97/97 - 0s - loss: 1.4073 - accuracy: 0.7695 - val_loss: 12.5177 - val_accuracy: 0.6953\n",
      "Epoch 22/100\n",
      "97/97 - 0s - loss: 1.2180 - accuracy: 0.7790 - val_loss: 11.4457 - val_accuracy: 0.6829\n",
      "Epoch 23/100\n",
      "97/97 - 0s - loss: 0.9391 - accuracy: 0.7860 - val_loss: 11.5499 - val_accuracy: 0.7169\n",
      "Epoch 24/100\n",
      "97/97 - 0s - loss: 0.8788 - accuracy: 0.7844 - val_loss: 11.1672 - val_accuracy: 0.7239\n",
      "Epoch 25/100\n",
      "97/97 - 0s - loss: 0.7864 - accuracy: 0.8022 - val_loss: 11.8550 - val_accuracy: 0.7022\n",
      "Epoch 26/100\n",
      "97/97 - 0s - loss: 1.0308 - accuracy: 0.7857 - val_loss: 10.7521 - val_accuracy: 0.7254\n",
      "Epoch 27/100\n",
      "97/97 - 0s - loss: 0.8233 - accuracy: 0.7901 - val_loss: 10.4690 - val_accuracy: 0.7046\n",
      "Epoch 28/100\n",
      "97/97 - 0s - loss: 0.7006 - accuracy: 0.8058 - val_loss: 10.3793 - val_accuracy: 0.7525\n",
      "Epoch 29/100\n",
      "97/97 - 0s - loss: 0.6676 - accuracy: 0.7968 - val_loss: 11.0431 - val_accuracy: 0.7417\n",
      "Epoch 30/100\n",
      "97/97 - 0s - loss: 0.6896 - accuracy: 0.8009 - val_loss: 10.7637 - val_accuracy: 0.7401\n",
      "Epoch 31/100\n",
      "97/97 - 0s - loss: 0.6955 - accuracy: 0.7937 - val_loss: 10.9411 - val_accuracy: 0.7378\n",
      "Epoch 32/100\n",
      "97/97 - 0s - loss: 0.6790 - accuracy: 0.8100 - val_loss: 10.2608 - val_accuracy: 0.7193\n",
      "Epoch 33/100\n",
      "97/97 - 0s - loss: 0.6517 - accuracy: 0.7983 - val_loss: 9.9969 - val_accuracy: 0.7440\n",
      "Epoch 34/100\n",
      "97/97 - 0s - loss: 0.7056 - accuracy: 0.7955 - val_loss: 10.8123 - val_accuracy: 0.7401\n",
      "Epoch 35/100\n",
      "97/97 - 0s - loss: 0.6263 - accuracy: 0.8045 - val_loss: 9.7994 - val_accuracy: 0.7425\n",
      "Epoch 36/100\n",
      "97/97 - 0s - loss: 0.5284 - accuracy: 0.8115 - val_loss: 10.5090 - val_accuracy: 0.7432\n",
      "Epoch 37/100\n",
      "97/97 - 0s - loss: 0.6663 - accuracy: 0.8063 - val_loss: 9.5438 - val_accuracy: 0.7440\n",
      "Epoch 38/100\n",
      "97/97 - 0s - loss: 0.5754 - accuracy: 0.8087 - val_loss: 9.8300 - val_accuracy: 0.7270\n",
      "Epoch 39/100\n",
      "97/97 - 0s - loss: 0.6580 - accuracy: 0.8092 - val_loss: 8.5918 - val_accuracy: 0.7370\n",
      "Epoch 40/100\n",
      "97/97 - 0s - loss: 0.5401 - accuracy: 0.8002 - val_loss: 8.8888 - val_accuracy: 0.7417\n",
      "Epoch 41/100\n",
      "97/97 - 0s - loss: 0.5500 - accuracy: 0.8092 - val_loss: 8.7099 - val_accuracy: 0.7502\n",
      "Epoch 42/100\n",
      "97/97 - 0s - loss: 0.5265 - accuracy: 0.8025 - val_loss: 9.1964 - val_accuracy: 0.7502\n",
      "Epoch 43/100\n",
      "97/97 - 0s - loss: 0.5884 - accuracy: 0.7955 - val_loss: 7.5210 - val_accuracy: 0.7440\n",
      "Epoch 44/100\n",
      "97/97 - 0s - loss: 0.5233 - accuracy: 0.8089 - val_loss: 7.4416 - val_accuracy: 0.7471\n",
      "Epoch 45/100\n",
      "97/97 - 0s - loss: 0.5208 - accuracy: 0.8030 - val_loss: 8.2965 - val_accuracy: 0.7432\n",
      "Epoch 46/100\n",
      "97/97 - 0s - loss: 0.5357 - accuracy: 0.8009 - val_loss: 6.9520 - val_accuracy: 0.7533\n",
      "Epoch 47/100\n",
      "97/97 - 0s - loss: 0.5884 - accuracy: 0.7976 - val_loss: 7.2350 - val_accuracy: 0.7494\n",
      "Epoch 48/100\n",
      "97/97 - 0s - loss: 0.4942 - accuracy: 0.8045 - val_loss: 8.3089 - val_accuracy: 0.7239\n",
      "Epoch 49/100\n",
      "97/97 - 0s - loss: 0.5050 - accuracy: 0.7991 - val_loss: 7.9272 - val_accuracy: 0.7479\n",
      "Epoch 50/100\n",
      "97/97 - 0s - loss: 0.4716 - accuracy: 0.8081 - val_loss: 8.4299 - val_accuracy: 0.7541\n",
      "Epoch 51/100\n",
      "97/97 - 0s - loss: 0.5210 - accuracy: 0.8156 - val_loss: 7.7125 - val_accuracy: 0.7610\n",
      "Epoch 52/100\n",
      "97/97 - 0s - loss: 0.4711 - accuracy: 0.8115 - val_loss: 7.1575 - val_accuracy: 0.7332\n",
      "Epoch 53/100\n",
      "97/97 - 0s - loss: 0.4593 - accuracy: 0.8061 - val_loss: 7.8823 - val_accuracy: 0.7595\n",
      "Epoch 54/100\n",
      "97/97 - 0s - loss: 0.5226 - accuracy: 0.8084 - val_loss: 7.0345 - val_accuracy: 0.7440\n",
      "Epoch 55/100\n",
      "97/97 - 0s - loss: 0.5674 - accuracy: 0.8027 - val_loss: 7.4533 - val_accuracy: 0.7502\n",
      "Epoch 56/100\n",
      "97/97 - 0s - loss: 0.4708 - accuracy: 0.8074 - val_loss: 7.0015 - val_accuracy: 0.7579\n",
      "Epoch 57/100\n",
      "97/97 - 0s - loss: 0.4795 - accuracy: 0.8133 - val_loss: 7.6483 - val_accuracy: 0.7649\n",
      "Epoch 58/100\n",
      "97/97 - 0s - loss: 0.4755 - accuracy: 0.8094 - val_loss: 7.2013 - val_accuracy: 0.7517\n",
      "Epoch 59/100\n",
      "97/97 - 0s - loss: 0.5032 - accuracy: 0.8210 - val_loss: 6.4100 - val_accuracy: 0.7672\n",
      "Epoch 60/100\n",
      "97/97 - 0s - loss: 0.4915 - accuracy: 0.8228 - val_loss: 4.9230 - val_accuracy: 0.7626\n",
      "Epoch 61/100\n",
      "97/97 - 0s - loss: 0.4545 - accuracy: 0.8118 - val_loss: 4.6361 - val_accuracy: 0.7579\n",
      "Epoch 62/100\n",
      "97/97 - 0s - loss: 0.5111 - accuracy: 0.8027 - val_loss: 4.3432 - val_accuracy: 0.7587\n",
      "Epoch 63/100\n",
      "97/97 - 0s - loss: 0.4204 - accuracy: 0.8133 - val_loss: 5.2580 - val_accuracy: 0.7602\n",
      "Epoch 64/100\n",
      "97/97 - 0s - loss: 0.4334 - accuracy: 0.8161 - val_loss: 5.4607 - val_accuracy: 0.7525\n",
      "Epoch 65/100\n",
      "97/97 - 0s - loss: 0.4116 - accuracy: 0.8285 - val_loss: 5.0223 - val_accuracy: 0.7664\n",
      "Epoch 66/100\n",
      "97/97 - 0s - loss: 0.4683 - accuracy: 0.8208 - val_loss: 4.8431 - val_accuracy: 0.7448\n",
      "Epoch 67/100\n",
      "97/97 - 0s - loss: 0.4602 - accuracy: 0.8154 - val_loss: 5.2750 - val_accuracy: 0.7664\n",
      "Epoch 68/100\n",
      "97/97 - 0s - loss: 0.4591 - accuracy: 0.8218 - val_loss: 4.8840 - val_accuracy: 0.7718\n",
      "Epoch 69/100\n",
      "97/97 - 0s - loss: 0.3830 - accuracy: 0.8301 - val_loss: 5.2292 - val_accuracy: 0.7711\n",
      "Epoch 70/100\n",
      "97/97 - 0s - loss: 0.3939 - accuracy: 0.8298 - val_loss: 5.7543 - val_accuracy: 0.7726\n",
      "Epoch 71/100\n",
      "97/97 - 0s - loss: 0.5403 - accuracy: 0.8182 - val_loss: 6.2062 - val_accuracy: 0.7602\n",
      "Epoch 72/100\n",
      "97/97 - 0s - loss: 0.4356 - accuracy: 0.8205 - val_loss: 5.5200 - val_accuracy: 0.7633\n",
      "Epoch 73/100\n",
      "97/97 - 0s - loss: 0.4724 - accuracy: 0.7981 - val_loss: 4.4294 - val_accuracy: 0.7626\n",
      "Epoch 74/100\n",
      "97/97 - 0s - loss: 0.4372 - accuracy: 0.8141 - val_loss: 5.2194 - val_accuracy: 0.7680\n",
      "Epoch 75/100\n",
      "97/97 - 0s - loss: 0.3943 - accuracy: 0.8272 - val_loss: 5.7414 - val_accuracy: 0.7765\n",
      "Epoch 76/100\n",
      "97/97 - 0s - loss: 0.3924 - accuracy: 0.8394 - val_loss: 5.4980 - val_accuracy: 0.7564\n",
      "Epoch 77/100\n",
      "97/97 - 0s - loss: 0.4004 - accuracy: 0.8329 - val_loss: 6.4595 - val_accuracy: 0.7718\n",
      "Epoch 78/100\n",
      "97/97 - 0s - loss: 0.3960 - accuracy: 0.8311 - val_loss: 4.8241 - val_accuracy: 0.7688\n",
      "Epoch 79/100\n",
      "97/97 - 0s - loss: 0.3823 - accuracy: 0.8345 - val_loss: 4.8001 - val_accuracy: 0.7765\n",
      "Epoch 80/100\n",
      "97/97 - 0s - loss: 0.3932 - accuracy: 0.8249 - val_loss: 5.0957 - val_accuracy: 0.7657\n",
      "Epoch 81/100\n",
      "97/97 - 0s - loss: 0.3807 - accuracy: 0.8360 - val_loss: 5.2783 - val_accuracy: 0.7587\n",
      "Epoch 82/100\n",
      "97/97 - 0s - loss: 0.3755 - accuracy: 0.8404 - val_loss: 4.6617 - val_accuracy: 0.7579\n"
     ]
    },
    {
     "name": "stdout",
     "output_type": "stream",
     "text": [
      "Epoch 83/100\n",
      "97/97 - 0s - loss: 0.3724 - accuracy: 0.8388 - val_loss: 4.8440 - val_accuracy: 0.7765\n",
      "Epoch 84/100\n",
      "97/97 - 0s - loss: 0.3710 - accuracy: 0.8442 - val_loss: 5.2494 - val_accuracy: 0.7633\n",
      "Epoch 85/100\n",
      "97/97 - 0s - loss: 0.3817 - accuracy: 0.8427 - val_loss: 4.5739 - val_accuracy: 0.7711\n",
      "Epoch 86/100\n",
      "97/97 - 0s - loss: 0.3621 - accuracy: 0.8409 - val_loss: 5.5412 - val_accuracy: 0.7850\n",
      "Epoch 87/100\n",
      "97/97 - 0s - loss: 0.3623 - accuracy: 0.8422 - val_loss: 6.1603 - val_accuracy: 0.7819\n",
      "Epoch 88/100\n",
      "97/97 - 0s - loss: 0.3680 - accuracy: 0.8504 - val_loss: 5.4925 - val_accuracy: 0.7780\n",
      "Epoch 89/100\n",
      "97/97 - 0s - loss: 0.3351 - accuracy: 0.8548 - val_loss: 5.7152 - val_accuracy: 0.7796\n",
      "Epoch 90/100\n",
      "97/97 - 0s - loss: 0.3430 - accuracy: 0.8517 - val_loss: 5.2696 - val_accuracy: 0.7734\n",
      "Epoch 91/100\n",
      "97/97 - 0s - loss: 0.3503 - accuracy: 0.8530 - val_loss: 4.3895 - val_accuracy: 0.7742\n",
      "Epoch 92/100\n",
      "97/97 - 0s - loss: 0.3467 - accuracy: 0.8515 - val_loss: 4.3241 - val_accuracy: 0.7680\n",
      "Epoch 93/100\n",
      "97/97 - 0s - loss: 0.3467 - accuracy: 0.8484 - val_loss: 4.5840 - val_accuracy: 0.7842\n",
      "Epoch 94/100\n",
      "97/97 - 0s - loss: 0.3317 - accuracy: 0.8556 - val_loss: 5.0247 - val_accuracy: 0.7780\n",
      "Epoch 95/100\n",
      "97/97 - 0s - loss: 0.3773 - accuracy: 0.8491 - val_loss: 3.2665 - val_accuracy: 0.7742\n",
      "Epoch 96/100\n",
      "97/97 - 0s - loss: 0.3617 - accuracy: 0.8520 - val_loss: 3.5694 - val_accuracy: 0.7742\n",
      "Epoch 97/100\n",
      "97/97 - 0s - loss: 0.3506 - accuracy: 0.8535 - val_loss: 3.4733 - val_accuracy: 0.7688\n",
      "Epoch 98/100\n",
      "97/97 - 0s - loss: 0.3557 - accuracy: 0.8510 - val_loss: 3.6520 - val_accuracy: 0.7819\n",
      "Epoch 99/100\n",
      "97/97 - 0s - loss: 0.3723 - accuracy: 0.8561 - val_loss: 4.2506 - val_accuracy: 0.7858\n",
      "Epoch 100/100\n",
      "97/97 - 0s - loss: 0.4299 - accuracy: 0.8491 - val_loss: 2.6834 - val_accuracy: 0.7649\n"
     ]
    }
   ],
   "source": [
    "\n",
    "history2 = rnn.fit(x_train1, y_train1,\n",
    "                  batch_size=40,\n",
    "                  epochs=100,\n",
    "                  verbose=2,\n",
    "                  validation_data=(x_test1, y_test1))"
   ]
  },
  {
   "cell_type": "code",
   "execution_count": 14,
   "id": "c3f372d9",
   "metadata": {},
   "outputs": [
    {
     "data": {
      "image/png": "[encoded data removed]",
      "text/plain": [
       "<Figure size 432x288 with 1 Axes>"
      ]
     },
     "metadata": {
      "needs_background": "light"
     },
     "output_type": "display_data"
    },
    {
     "data": {
      "image/png": "[encoded data removed]",
      "text/plain": [
       "<Figure size 432x288 with 1 Axes>"
      ]
     },
     "metadata": {
      "needs_background": "light"
     },
     "output_type": "display_data"
    }
   ],
   "source": [
    "metrics_RNN = pd.DataFrame(history2.history)\n",
    "# Rename column\n",
    "metrics_RNN.rename(columns = {'loss': 'Training_Loss', 'accuracy': 'Training_Accuracy',\n",
    "                         'val_loss': 'Validation_Loss', 'val_accuracy': 'Validation_Accuracy'}, inplace = True)\n",
    "def plot_graphs2(var1, var2, string):\n",
    "    metrics_RNN[[var1, var2]].plot()\n",
    "    plt.title('RNN Model: Training and Validation ' + string)\n",
    "    plt.xlabel ('Number of epochs')\n",
    "    plt.ylabel(string)\n",
    "    plt.legend([var1, var2])\n",
    "# Plot\n",
    "plot_graphs2('Training_Loss', 'Validation_Loss', 'loss')\n",
    "plot_graphs2('Training_Accuracy', 'Validation_Accuracy', 'accuracy')"
   ]
  },
  {
   "cell_type": "code",
   "execution_count": 15,
   "id": "aa64adeb",
   "metadata": {},
   "outputs": [
    {
     "name": "stdout",
     "output_type": "stream",
     "text": [
      "Our accuracy is %76.48878693580627\n"
     ]
    }
   ],
   "source": [
    "trainPredict = rnn.predict(x_train1)\n",
    "testPredict= rnn.predict(x_test1)\n",
    "\n",
    "predicted=np.concatenate((trainPredict,testPredict),axis=0)\n",
    "trainScore = rnn.evaluate(x_test1, y_test1, verbose=0)\n",
    "print(\"Our accuracy is %{}\".format(trainScore[1]*100))"
   ]
  },
  {
   "cell_type": "code",
   "execution_count": 25,
   "id": "b152124c",
   "metadata": {},
   "outputs": [],
   "source": [
    "from sklearn.metrics import precision_recall_curve\n",
    "y_pred=rnn.predict_proba(x_test1)\n",
    "p,r,_ = precision_recall_curve(y_test,y_pred)\n",
    "auc_score = auc(r, p)"
   ]
  },
  {
   "cell_type": "code",
   "execution_count": 26,
   "id": "4b825a29",
   "metadata": {},
   "outputs": [
    {
     "data": {
      "text/plain": [
       "<sklearn.metrics._plot.precision_recall_curve.PrecisionRecallDisplay at 0x17f06f68820>"
      ]
     },
     "execution_count": 26,
     "metadata": {},
     "output_type": "execute_result"
    },
    {
     "data": {
      "image/png": "[encoded data removed]",
      "text/plain": [
       "<Figure size 432x288 with 1 Axes>"
      ]
     },
     "metadata": {
      "needs_background": "light"
     },
     "output_type": "display_data"
    }
   ],
   "source": [
    "disp = PrecisionRecallDisplay(precision=p, recall=r)\n",
    "disp.plot()\n"
   ]
  },
  {
   "cell_type": "code",
   "execution_count": 27,
   "id": "e666afdd",
   "metadata": {},
   "outputs": [
    {
     "name": "stdout",
     "output_type": "stream",
     "text": [
      "0.5698116096882355\n"
     ]
    }
   ],
   "source": [
    "print(auc_score)"
   ]
  },
  {
   "cell_type": "code",
   "execution_count": null,
   "id": "9d2bcea8",
   "metadata": {},
   "outputs": [],
   "source": []
  }
 ],
 "metadata": {
  "kernelspec": {
   "display_name": "Python 3",
   "language": "python",
   "name": "python3"
  },
  "language_info": {
   "codemirror_mode": {
    "name": "ipython",
    "version": 3
   },
   "file_extension": ".py",
   "mimetype": "text/x-python",
   "name": "python",
   "nbconvert_exporter": "python",
   "pygments_lexer": "ipython3",
   "version": "3.8.8"
  }
 },
 "nbformat": 4,
 "nbformat_minor": 5
}
