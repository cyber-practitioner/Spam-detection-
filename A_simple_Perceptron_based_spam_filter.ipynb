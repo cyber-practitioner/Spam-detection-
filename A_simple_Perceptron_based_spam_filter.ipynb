{
 "cells": [
  {
   "cell_type": "code",
   "execution_count": 1,
   "metadata": {
    "id": "XaVrO8JN5zKq"
   },
   "outputs": [
    {
     "name": "stderr",
     "output_type": "stream",
     "text": [
      "[nltk_data] Downloading package stopwords to\n",
      "[nltk_data]     C:\\Users\\FIREBLZE\\AppData\\Roaming\\nltk_data...\n",
      "[nltk_data]   Package stopwords is already up-to-date!\n"
     ]
    }
   ],
   "source": [
    "import pandas as pd\n",
    "import numpy as np\n",
    "import tensorflow as tf\n",
    "import matplotlib.pyplot as plt\n",
    "import seaborn as sns\n",
    "import re\n",
    "from sklearn.metrics import *\n",
    "\n",
    "\n",
    "import nltk \n",
    "nltk.download('stopwords')\n",
    "from nltk.corpus import stopwords\n",
    "from nltk.stem import SnowballStemmer\n",
    "\n",
    "from sklearn.model_selection import train_test_split\n",
    "from sklearn.preprocessing import LabelEncoder"
   ]
  },
  {
   "cell_type": "code",
   "execution_count": 2,
   "metadata": {
    "id": "RG4snSqK56y4"
   },
   "outputs": [
    {
     "name": "stdout",
     "output_type": "stream",
     "text": [
      "<class 'pandas.core.frame.DataFrame'>\n",
      "RangeIndex: 5171 entries, 0 to 5170\n",
      "Data columns (total 4 columns):\n",
      " #   Column      Non-Null Count  Dtype \n",
      "---  ------      --------------  ----- \n",
      " 0   Unnamed: 0  5171 non-null   int64 \n",
      " 1   label       5171 non-null   object\n",
      " 2   text        5171 non-null   object\n",
      " 3   label_num   5171 non-null   int64 \n",
      "dtypes: int64(2), object(2)\n",
      "memory usage: 161.7+ KB\n"
     ]
    }
   ],
   "source": [
    "data = pd.read_csv('spam_ham_dataset.csv')\n",
    "data.info()"
   ]
  },
  {
   "cell_type": "code",
   "execution_count": 3,
   "metadata": {},
   "outputs": [
    {
     "data": {
      "text/html": [
       "<div>\n",
       "<style scoped>\n",
       "    .dataframe tbody tr th:only-of-type {\n",
       "        vertical-align: middle;\n",
       "    }\n",
       "\n",
       "    .dataframe tbody tr th {\n",
       "        vertical-align: top;\n",
       "    }\n",
       "\n",
       "    .dataframe thead th {\n",
       "        text-align: right;\n",
       "    }\n",
       "</style>\n",
       "<table border=\"1\" class=\"dataframe\">\n",
       "  <thead>\n",
       "    <tr style=\"text-align: right;\">\n",
       "      <th></th>\n",
       "      <th>Unnamed: 0</th>\n",
       "      <th>label</th>\n",
       "      <th>text</th>\n",
       "      <th>label_num</th>\n",
       "    </tr>\n",
       "  </thead>\n",
       "  <tbody>\n",
       "    <tr>\n",
       "      <th>0</th>\n",
       "      <td>605</td>\n",
       "      <td>ham</td>\n",
       "      <td>Subject: enron methanol ; meter # : 988291\\r\\n...</td>\n",
       "      <td>0</td>\n",
       "    </tr>\n",
       "    <tr>\n",
       "      <th>1</th>\n",
       "      <td>2349</td>\n",
       "      <td>ham</td>\n",
       "      <td>Subject: hpl nom for january 9 , 2001\\r\\n( see...</td>\n",
       "      <td>0</td>\n",
       "    </tr>\n",
       "    <tr>\n",
       "      <th>2</th>\n",
       "      <td>3624</td>\n",
       "      <td>ham</td>\n",
       "      <td>Subject: neon retreat\\r\\nho ho ho , we ' re ar...</td>\n",
       "      <td>0</td>\n",
       "    </tr>\n",
       "    <tr>\n",
       "      <th>3</th>\n",
       "      <td>4685</td>\n",
       "      <td>spam</td>\n",
       "      <td>Subject: photoshop , windows , office . cheap ...</td>\n",
       "      <td>1</td>\n",
       "    </tr>\n",
       "    <tr>\n",
       "      <th>4</th>\n",
       "      <td>2030</td>\n",
       "      <td>ham</td>\n",
       "      <td>Subject: re : indian springs\\r\\nthis deal is t...</td>\n",
       "      <td>0</td>\n",
       "    </tr>\n",
       "  </tbody>\n",
       "</table>\n",
       "</div>"
      ],
      "text/plain": [
       "   Unnamed: 0 label                                               text  \\\n",
       "0         605   ham  Subject: enron methanol ; meter # : 988291\\r\\n...   \n",
       "1        2349   ham  Subject: hpl nom for january 9 , 2001\\r\\n( see...   \n",
       "2        3624   ham  Subject: neon retreat\\r\\nho ho ho , we ' re ar...   \n",
       "3        4685  spam  Subject: photoshop , windows , office . cheap ...   \n",
       "4        2030   ham  Subject: re : indian springs\\r\\nthis deal is t...   \n",
       "\n",
       "   label_num  \n",
       "0          0  \n",
       "1          0  \n",
       "2          0  \n",
       "3          1  \n",
       "4          0  "
      ]
     },
     "execution_count": 3,
     "metadata": {},
     "output_type": "execute_result"
    }
   ],
   "source": [
    "data.head()"
   ]
  },
  {
   "cell_type": "code",
   "execution_count": 4,
   "metadata": {},
   "outputs": [
    {
     "data": {
      "text/plain": [
       "<AxesSubplot:xlabel='label', ylabel='count'>"
      ]
     },
     "execution_count": 4,
     "metadata": {},
     "output_type": "execute_result"
    },
    {
     "data": {
      "image/png": "[encoded data removed]",
      "text/plain": [
       "<Figure size 432x288 with 1 Axes>"
      ]
     },
     "metadata": {
      "needs_background": "light"
     },
     "output_type": "display_data"
    }
   ],
   "source": [
    "sns.countplot(x=\"label\", data=data)"
   ]
  },
  {
   "cell_type": "code",
   "execution_count": 5,
   "metadata": {},
   "outputs": [],
   "source": [
    "stop_words = stopwords.words('english')\n",
    "stemmer = SnowballStemmer('english')\n",
    "\n",
    "text_cleaning_re = \"@\\S+|https?:\\S+|http?:\\S+|[^A-Za-z0-9]:\\S+|subject:\\S+|nbsp\""
   ]
  },
  {
   "cell_type": "code",
   "execution_count": 6,
   "metadata": {},
   "outputs": [
    {
     "data": {
      "text/html": [
       "<div>\n",
       "<style scoped>\n",
       "    .dataframe tbody tr th:only-of-type {\n",
       "        vertical-align: middle;\n",
       "    }\n",
       "\n",
       "    .dataframe tbody tr th {\n",
       "        vertical-align: top;\n",
       "    }\n",
       "\n",
       "    .dataframe thead th {\n",
       "        text-align: right;\n",
       "    }\n",
       "</style>\n",
       "<table border=\"1\" class=\"dataframe\">\n",
       "  <thead>\n",
       "    <tr style=\"text-align: right;\">\n",
       "      <th></th>\n",
       "      <th>Unnamed: 0</th>\n",
       "      <th>label</th>\n",
       "      <th>text</th>\n",
       "      <th>label_num</th>\n",
       "    </tr>\n",
       "  </thead>\n",
       "  <tbody>\n",
       "    <tr>\n",
       "      <th>0</th>\n",
       "      <td>605</td>\n",
       "      <td>ham</td>\n",
       "      <td>subject: enron methanol ; meter # : 988291 fol...</td>\n",
       "      <td>0</td>\n",
       "    </tr>\n",
       "    <tr>\n",
       "      <th>1</th>\n",
       "      <td>2349</td>\n",
       "      <td>ham</td>\n",
       "      <td>subject: hpl nom january 9 , 2001 ( see attach...</td>\n",
       "      <td>0</td>\n",
       "    </tr>\n",
       "    <tr>\n",
       "      <th>2</th>\n",
       "      <td>3624</td>\n",
       "      <td>ham</td>\n",
       "      <td>subject: neon retreat ho ho ho , ' around wond...</td>\n",
       "      <td>0</td>\n",
       "    </tr>\n",
       "    <tr>\n",
       "      <th>3</th>\n",
       "      <td>4685</td>\n",
       "      <td>spam</td>\n",
       "      <td>subject: photoshop , windows , office . cheap ...</td>\n",
       "      <td>1</td>\n",
       "    </tr>\n",
       "    <tr>\n",
       "      <th>4</th>\n",
       "      <td>2030</td>\n",
       "      <td>ham</td>\n",
       "      <td>subject: : indian springs deal book teco pvr r...</td>\n",
       "      <td>0</td>\n",
       "    </tr>\n",
       "  </tbody>\n",
       "</table>\n",
       "</div>"
      ],
      "text/plain": [
       "   Unnamed: 0 label                                               text  \\\n",
       "0         605   ham  subject: enron methanol ; meter # : 988291 fol...   \n",
       "1        2349   ham  subject: hpl nom january 9 , 2001 ( see attach...   \n",
       "2        3624   ham  subject: neon retreat ho ho ho , ' around wond...   \n",
       "3        4685  spam  subject: photoshop , windows , office . cheap ...   \n",
       "4        2030   ham  subject: : indian springs deal book teco pvr r...   \n",
       "\n",
       "   label_num  \n",
       "0          0  \n",
       "1          0  \n",
       "2          0  \n",
       "3          1  \n",
       "4          0  "
      ]
     },
     "execution_count": 6,
     "metadata": {},
     "output_type": "execute_result"
    }
   ],
   "source": [
    "def preprocess(text, stem=False):\n",
    "    text = re.sub(text_cleaning_re, ' ', str(text).lower()).strip()\n",
    "    tokens = []\n",
    "    for token in text.split():\n",
    "        if token not in stop_words:\n",
    "            if stem:\n",
    "                tokens.append(stemmer.stem(token))\n",
    "            else:\n",
    "                tokens.append(token)\n",
    "    return \" \".join(tokens)\n",
    "\n",
    "data.text = data.text.apply(lambda x: preprocess(x))\n",
    "data.head()\n"
   ]
  },
  {
   "cell_type": "code",
   "execution_count": 7,
   "metadata": {},
   "outputs": [
    {
     "data": {
      "text/html": [
       "<div>\n",
       "<style scoped>\n",
       "    .dataframe tbody tr th:only-of-type {\n",
       "        vertical-align: middle;\n",
       "    }\n",
       "\n",
       "    .dataframe tbody tr th {\n",
       "        vertical-align: top;\n",
       "    }\n",
       "\n",
       "    .dataframe thead th {\n",
       "        text-align: right;\n",
       "    }\n",
       "</style>\n",
       "<table border=\"1\" class=\"dataframe\">\n",
       "  <thead>\n",
       "    <tr style=\"text-align: right;\">\n",
       "      <th></th>\n",
       "      <th>text</th>\n",
       "      <th>Label</th>\n",
       "    </tr>\n",
       "  </thead>\n",
       "  <tbody>\n",
       "    <tr>\n",
       "      <th>0</th>\n",
       "      <td>subject: enron methanol ; meter # : 988291 fol...</td>\n",
       "      <td>0</td>\n",
       "    </tr>\n",
       "    <tr>\n",
       "      <th>1</th>\n",
       "      <td>subject: hpl nom january 9 , 2001 ( see attach...</td>\n",
       "      <td>0</td>\n",
       "    </tr>\n",
       "    <tr>\n",
       "      <th>2</th>\n",
       "      <td>subject: neon retreat ho ho ho , ' around wond...</td>\n",
       "      <td>0</td>\n",
       "    </tr>\n",
       "    <tr>\n",
       "      <th>3</th>\n",
       "      <td>subject: photoshop , windows , office . cheap ...</td>\n",
       "      <td>1</td>\n",
       "    </tr>\n",
       "    <tr>\n",
       "      <th>4</th>\n",
       "      <td>subject: : indian springs deal book teco pvr r...</td>\n",
       "      <td>0</td>\n",
       "    </tr>\n",
       "    <tr>\n",
       "      <th>...</th>\n",
       "      <td>...</td>\n",
       "      <td>...</td>\n",
       "    </tr>\n",
       "    <tr>\n",
       "      <th>5166</th>\n",
       "      <td>subject: put 10 ft transport volumes decreased...</td>\n",
       "      <td>0</td>\n",
       "    </tr>\n",
       "    <tr>\n",
       "      <th>5167</th>\n",
       "      <td>subject: 3 / 4 / 2000 following noms hpl ' tak...</td>\n",
       "      <td>0</td>\n",
       "    </tr>\n",
       "    <tr>\n",
       "      <th>5168</th>\n",
       "      <td>subject: calpine daily gas nomination &gt; &gt; juli...</td>\n",
       "      <td>0</td>\n",
       "    </tr>\n",
       "    <tr>\n",
       "      <th>5169</th>\n",
       "      <td>subject: industrial worksheets august 2000 act...</td>\n",
       "      <td>0</td>\n",
       "    </tr>\n",
       "    <tr>\n",
       "      <th>5170</th>\n",
       "      <td>subject: important online banking alert dear v...</td>\n",
       "      <td>1</td>\n",
       "    </tr>\n",
       "  </tbody>\n",
       "</table>\n",
       "<p>5171 rows × 2 columns</p>\n",
       "</div>"
      ],
      "text/plain": [
       "                                                   text  Label\n",
       "0     subject: enron methanol ; meter # : 988291 fol...      0\n",
       "1     subject: hpl nom january 9 , 2001 ( see attach...      0\n",
       "2     subject: neon retreat ho ho ho , ' around wond...      0\n",
       "3     subject: photoshop , windows , office . cheap ...      1\n",
       "4     subject: : indian springs deal book teco pvr r...      0\n",
       "...                                                 ...    ...\n",
       "5166  subject: put 10 ft transport volumes decreased...      0\n",
       "5167  subject: 3 / 4 / 2000 following noms hpl ' tak...      0\n",
       "5168  subject: calpine daily gas nomination > > juli...      0\n",
       "5169  subject: industrial worksheets august 2000 act...      0\n",
       "5170  subject: important online banking alert dear v...      1\n",
       "\n",
       "[5171 rows x 2 columns]"
      ]
     },
     "execution_count": 7,
     "metadata": {},
     "output_type": "execute_result"
    }
   ],
   "source": [
    "data = data.drop(['Unnamed: 0', 'label'], axis=1)\n",
    "data = data.rename(columns = {\"label_num\" : \"Label\"})\n",
    "data"
   ]
  },
  {
   "cell_type": "code",
   "execution_count": 8,
   "metadata": {},
   "outputs": [
    {
     "data": {
      "text/plain": [
       "<AxesSubplot:xlabel='Label', ylabel='count'>"
      ]
     },
     "execution_count": 8,
     "metadata": {},
     "output_type": "execute_result"
    },
    {
     "data": {
      "image/png": "[encoded data removed]",
      "text/plain": [
       "<Figure size 432x288 with 1 Axes>"
      ]
     },
     "metadata": {
      "needs_background": "light"
     },
     "output_type": "display_data"
    }
   ],
   "source": [
    "sns.countplot(x=\"Label\", data=data)"
   ]
  },
  {
   "cell_type": "code",
   "execution_count": 9,
   "metadata": {},
   "outputs": [
    {
     "name": "stdout",
     "output_type": "stream",
     "text": [
      "Train Data size: 3878\n",
      "Test Data size 1293\n"
     ]
    }
   ],
   "source": [
    "x = data['text']\n",
    "y = data['Label']\n",
    "x_train, x_test, y_train, y_test = train_test_split(x, y, test_size=0.25,\n",
    "                                         random_state=7)\n",
    "print(\"Train Data size:\", len(x_train))\n",
    "print(\"Test Data size\", len(x_test))"
   ]
  },
  {
   "cell_type": "code",
   "execution_count": 10,
   "metadata": {},
   "outputs": [
    {
     "name": "stdout",
     "output_type": "stream",
     "text": [
      "Vocabulary Size : 43372\n"
     ]
    }
   ],
   "source": [
    "from keras.preprocessing.text import Tokenizer\n",
    "\n",
    "tokenizer = Tokenizer()\n",
    "tokenizer.fit_on_texts(x_train)\n",
    "\n",
    "word_index = tokenizer.word_index\n",
    "vocab_size = len(tokenizer.word_index) + 1000\n",
    "print(\"Vocabulary Size :\", vocab_size)"
   ]
  },
  {
   "cell_type": "code",
   "execution_count": 11,
   "metadata": {},
   "outputs": [
    {
     "name": "stdout",
     "output_type": "stream",
     "text": [
      "Training X Shape: (3878, 50)\n",
      "Testing X Shape: (1293, 50)\n"
     ]
    }
   ],
   "source": [
    "from keras.preprocessing.sequence import pad_sequences\n",
    "\n",
    "x_train = pad_sequences(tokenizer.texts_to_sequences(x_train),\n",
    "                        maxlen = 50)\n",
    "x_test = pad_sequences(tokenizer.texts_to_sequences(x_test),\n",
    "                       maxlen = 50)\n",
    "\n",
    "print(\"Training X Shape:\",x_train.shape)\n",
    "print(\"Testing X Shape:\",x_test.shape)"
   ]
  },
  {
   "cell_type": "code",
   "execution_count": 12,
   "metadata": {},
   "outputs": [],
   "source": [
    "import keras\n",
    "from keras.models import Sequential\n",
    "from keras.layers import Dense, Dropout\n",
    "ann = Sequential()\n",
    "ann.add(Dense(40, activation='relu'))\n",
    "ann.add(Dense(45, activation='relu'))\n",
    "\n",
    "# Adding dropout to prevent overfitting\n",
    "ann.add(Dropout(0.1))\n",
    "ann.add(Dense(1, activation='sigmoid'))"
   ]
  },
  {
   "cell_type": "code",
   "execution_count": 13,
   "metadata": {
    "scrolled": true
   },
   "outputs": [
    {
     "name": "stdout",
     "output_type": "stream",
     "text": [
      "Epoch 1/100\n",
      "111/111 - 0s - loss: 451.2732 - accuracy: 0.5879 - val_loss: 200.2878 - val_accuracy: 0.6265\n",
      "Epoch 2/100\n",
      "111/111 - 0s - loss: 212.1693 - accuracy: 0.6300 - val_loss: 158.2593 - val_accuracy: 0.6342\n",
      "Epoch 3/100\n",
      "111/111 - 0s - loss: 139.3723 - accuracy: 0.6434 - val_loss: 117.6402 - val_accuracy: 0.6342\n",
      "Epoch 4/100\n",
      "111/111 - 0s - loss: 94.3112 - accuracy: 0.6509 - val_loss: 100.1478 - val_accuracy: 0.6056\n",
      "Epoch 5/100\n",
      "111/111 - 0s - loss: 67.3314 - accuracy: 0.6697 - val_loss: 81.6274 - val_accuracy: 0.6381\n",
      "Epoch 6/100\n",
      "111/111 - 0s - loss: 49.7500 - accuracy: 0.6808 - val_loss: 76.0468 - val_accuracy: 0.6535\n",
      "Epoch 7/100\n",
      "111/111 - 0s - loss: 38.6013 - accuracy: 0.6831 - val_loss: 63.4061 - val_accuracy: 0.6589\n",
      "Epoch 8/100\n",
      "111/111 - 0s - loss: 29.4948 - accuracy: 0.6986 - val_loss: 57.5596 - val_accuracy: 0.6543\n",
      "Epoch 9/100\n",
      "111/111 - 0s - loss: 23.1282 - accuracy: 0.7107 - val_loss: 51.6768 - val_accuracy: 0.6845\n",
      "Epoch 10/100\n",
      "111/111 - 0s - loss: 18.0589 - accuracy: 0.7140 - val_loss: 47.7591 - val_accuracy: 0.6674\n",
      "Epoch 11/100\n",
      "111/111 - 0s - loss: 14.8381 - accuracy: 0.7259 - val_loss: 43.1301 - val_accuracy: 0.6814\n",
      "Epoch 12/100\n",
      "111/111 - 0s - loss: 12.1092 - accuracy: 0.7318 - val_loss: 38.8588 - val_accuracy: 0.6899\n",
      "Epoch 13/100\n",
      "111/111 - 0s - loss: 9.5976 - accuracy: 0.7359 - val_loss: 32.8172 - val_accuracy: 0.6744\n",
      "Epoch 14/100\n",
      "111/111 - 0s - loss: 7.8151 - accuracy: 0.7553 - val_loss: 31.0136 - val_accuracy: 0.6821\n",
      "Epoch 15/100\n",
      "111/111 - 0s - loss: 5.7117 - accuracy: 0.7599 - val_loss: 28.5384 - val_accuracy: 0.6976\n",
      "Epoch 16/100\n",
      "111/111 - 0s - loss: 5.1287 - accuracy: 0.7648 - val_loss: 27.2979 - val_accuracy: 0.7061\n",
      "Epoch 17/100\n",
      "111/111 - 0s - loss: 3.9390 - accuracy: 0.7790 - val_loss: 25.3527 - val_accuracy: 0.7022\n",
      "Epoch 18/100\n",
      "111/111 - 0s - loss: 3.1033 - accuracy: 0.7986 - val_loss: 24.0418 - val_accuracy: 0.7208\n",
      "Epoch 19/100\n",
      "111/111 - 0s - loss: 2.8102 - accuracy: 0.8051 - val_loss: 22.5970 - val_accuracy: 0.6891\n",
      "Epoch 20/100\n",
      "111/111 - 0s - loss: 2.0478 - accuracy: 0.7981 - val_loss: 20.1936 - val_accuracy: 0.7254\n",
      "Epoch 21/100\n",
      "111/111 - 0s - loss: 1.7154 - accuracy: 0.8061 - val_loss: 20.6743 - val_accuracy: 0.7301\n",
      "Epoch 22/100\n",
      "111/111 - 0s - loss: 1.3947 - accuracy: 0.8115 - val_loss: 18.0547 - val_accuracy: 0.7347\n",
      "Epoch 23/100\n",
      "111/111 - 0s - loss: 1.2662 - accuracy: 0.8208 - val_loss: 17.5669 - val_accuracy: 0.7278\n",
      "Epoch 24/100\n",
      "111/111 - 0s - loss: 1.3668 - accuracy: 0.8151 - val_loss: 18.1264 - val_accuracy: 0.7417\n",
      "Epoch 25/100\n",
      "111/111 - 0s - loss: 1.2514 - accuracy: 0.8094 - val_loss: 16.0948 - val_accuracy: 0.7123\n",
      "Epoch 26/100\n",
      "111/111 - 0s - loss: 1.4287 - accuracy: 0.8236 - val_loss: 15.6389 - val_accuracy: 0.7386\n",
      "Epoch 27/100\n",
      "111/111 - 0s - loss: 0.8984 - accuracy: 0.8125 - val_loss: 14.3022 - val_accuracy: 0.7231\n",
      "Epoch 28/100\n",
      "111/111 - 0s - loss: 0.9305 - accuracy: 0.8097 - val_loss: 14.9890 - val_accuracy: 0.7401\n",
      "Epoch 29/100\n",
      "111/111 - 0s - loss: 0.9566 - accuracy: 0.8125 - val_loss: 13.5548 - val_accuracy: 0.7479\n",
      "Epoch 30/100\n",
      "111/111 - 0s - loss: 0.7609 - accuracy: 0.8133 - val_loss: 14.0154 - val_accuracy: 0.7448\n",
      "Epoch 31/100\n",
      "111/111 - 0s - loss: 0.8400 - accuracy: 0.8138 - val_loss: 12.8637 - val_accuracy: 0.7463\n",
      "Epoch 32/100\n",
      "111/111 - 0s - loss: 0.5863 - accuracy: 0.8146 - val_loss: 13.3157 - val_accuracy: 0.7517\n",
      "Epoch 33/100\n",
      "111/111 - 0s - loss: 0.7209 - accuracy: 0.8177 - val_loss: 12.2116 - val_accuracy: 0.7525\n",
      "Epoch 34/100\n",
      "111/111 - 0s - loss: 0.6243 - accuracy: 0.8195 - val_loss: 11.7218 - val_accuracy: 0.7510\n",
      "Epoch 35/100\n",
      "111/111 - 0s - loss: 0.7606 - accuracy: 0.8161 - val_loss: 11.5816 - val_accuracy: 0.7386\n",
      "Epoch 36/100\n",
      "111/111 - 0s - loss: 0.6415 - accuracy: 0.8138 - val_loss: 11.6409 - val_accuracy: 0.7486\n",
      "Epoch 37/100\n",
      "111/111 - 0s - loss: 0.5590 - accuracy: 0.8280 - val_loss: 11.5989 - val_accuracy: 0.7463\n",
      "Epoch 38/100\n",
      "111/111 - 0s - loss: 0.5768 - accuracy: 0.8203 - val_loss: 12.1390 - val_accuracy: 0.7502\n",
      "Epoch 39/100\n",
      "111/111 - 0s - loss: 0.6323 - accuracy: 0.8192 - val_loss: 10.6595 - val_accuracy: 0.7494\n",
      "Epoch 40/100\n",
      "111/111 - 0s - loss: 0.7104 - accuracy: 0.8118 - val_loss: 10.5520 - val_accuracy: 0.7548\n",
      "Epoch 41/100\n",
      "111/111 - 0s - loss: 0.7665 - accuracy: 0.8048 - val_loss: 10.8866 - val_accuracy: 0.7502\n",
      "Epoch 42/100\n",
      "111/111 - 0s - loss: 0.8003 - accuracy: 0.8123 - val_loss: 8.5195 - val_accuracy: 0.7541\n",
      "Epoch 43/100\n",
      "111/111 - 0s - loss: 0.5724 - accuracy: 0.8174 - val_loss: 8.9644 - val_accuracy: 0.7541\n",
      "Epoch 44/100\n",
      "111/111 - 0s - loss: 0.6122 - accuracy: 0.8164 - val_loss: 8.1532 - val_accuracy: 0.7602\n",
      "Epoch 45/100\n",
      "111/111 - 0s - loss: 0.5549 - accuracy: 0.8107 - val_loss: 7.7604 - val_accuracy: 0.7564\n",
      "Epoch 46/100\n",
      "111/111 - 0s - loss: 0.5055 - accuracy: 0.8136 - val_loss: 7.9537 - val_accuracy: 0.7463\n",
      "Epoch 47/100\n",
      "111/111 - 0s - loss: 0.5256 - accuracy: 0.8247 - val_loss: 8.8718 - val_accuracy: 0.7649\n",
      "Epoch 48/100\n",
      "111/111 - 0s - loss: 0.6158 - accuracy: 0.8123 - val_loss: 9.1186 - val_accuracy: 0.7479\n",
      "Epoch 49/100\n",
      "111/111 - 0s - loss: 0.5383 - accuracy: 0.8125 - val_loss: 8.2776 - val_accuracy: 0.7626\n",
      "Epoch 50/100\n",
      "111/111 - 0s - loss: 0.4783 - accuracy: 0.8185 - val_loss: 8.7626 - val_accuracy: 0.7533\n",
      "Epoch 51/100\n",
      "111/111 - 0s - loss: 0.4789 - accuracy: 0.8141 - val_loss: 8.3552 - val_accuracy: 0.7610\n",
      "Epoch 52/100\n",
      "111/111 - 0s - loss: 0.4511 - accuracy: 0.8314 - val_loss: 8.2435 - val_accuracy: 0.7626\n",
      "Epoch 53/100\n",
      "111/111 - 0s - loss: 0.4140 - accuracy: 0.8321 - val_loss: 8.3780 - val_accuracy: 0.7525\n",
      "Epoch 54/100\n",
      "111/111 - 0s - loss: 0.5122 - accuracy: 0.8283 - val_loss: 8.2918 - val_accuracy: 0.7564\n",
      "Epoch 55/100\n",
      "111/111 - 0s - loss: 0.4322 - accuracy: 0.8293 - val_loss: 8.3442 - val_accuracy: 0.7548\n",
      "Epoch 56/100\n",
      "111/111 - 0s - loss: 0.6720 - accuracy: 0.8272 - val_loss: 7.4840 - val_accuracy: 0.7548\n",
      "Epoch 57/100\n",
      "111/111 - 0s - loss: 0.6128 - accuracy: 0.8306 - val_loss: 5.8752 - val_accuracy: 0.7556\n",
      "Epoch 58/100\n",
      "111/111 - 0s - loss: 0.5363 - accuracy: 0.8190 - val_loss: 6.0678 - val_accuracy: 0.7525\n",
      "Epoch 59/100\n",
      "111/111 - 0s - loss: 0.4419 - accuracy: 0.8205 - val_loss: 6.2495 - val_accuracy: 0.7587\n",
      "Epoch 60/100\n",
      "111/111 - 0s - loss: 0.4599 - accuracy: 0.8262 - val_loss: 6.1247 - val_accuracy: 0.7626\n",
      "Epoch 61/100\n",
      "111/111 - 0s - loss: 0.4474 - accuracy: 0.8262 - val_loss: 6.7631 - val_accuracy: 0.7370\n",
      "Epoch 62/100\n",
      "111/111 - 0s - loss: 0.4640 - accuracy: 0.8267 - val_loss: 6.1442 - val_accuracy: 0.7680\n",
      "Epoch 63/100\n",
      "111/111 - 0s - loss: 0.4610 - accuracy: 0.8290 - val_loss: 5.9031 - val_accuracy: 0.7672\n",
      "Epoch 64/100\n",
      "111/111 - 0s - loss: 0.4623 - accuracy: 0.8223 - val_loss: 5.3273 - val_accuracy: 0.7556\n",
      "Epoch 65/100\n",
      "111/111 - 0s - loss: 0.4460 - accuracy: 0.8226 - val_loss: 5.4073 - val_accuracy: 0.7641\n",
      "Epoch 66/100\n",
      "111/111 - 0s - loss: 0.4255 - accuracy: 0.8277 - val_loss: 5.7384 - val_accuracy: 0.7664\n",
      "Epoch 67/100\n",
      "111/111 - 0s - loss: 0.5043 - accuracy: 0.8290 - val_loss: 5.2403 - val_accuracy: 0.7626\n",
      "Epoch 68/100\n",
      "111/111 - 0s - loss: 0.4547 - accuracy: 0.8218 - val_loss: 5.5056 - val_accuracy: 0.7633\n",
      "Epoch 69/100\n",
      "111/111 - 0s - loss: 0.4160 - accuracy: 0.8316 - val_loss: 5.8244 - val_accuracy: 0.7680\n",
      "Epoch 70/100\n",
      "111/111 - 0s - loss: 0.4128 - accuracy: 0.8357 - val_loss: 6.2003 - val_accuracy: 0.7579\n",
      "Epoch 71/100\n",
      "111/111 - 0s - loss: 0.4151 - accuracy: 0.8324 - val_loss: 5.5583 - val_accuracy: 0.7641\n",
      "Epoch 72/100\n",
      "111/111 - 0s - loss: 0.4333 - accuracy: 0.8288 - val_loss: 5.6971 - val_accuracy: 0.7595\n",
      "Epoch 73/100\n",
      "111/111 - 0s - loss: 0.4223 - accuracy: 0.8332 - val_loss: 6.3296 - val_accuracy: 0.7649\n",
      "Epoch 74/100\n",
      "111/111 - 0s - loss: 0.4206 - accuracy: 0.8386 - val_loss: 6.5540 - val_accuracy: 0.7695\n",
      "Epoch 75/100\n",
      "111/111 - 0s - loss: 0.4216 - accuracy: 0.8373 - val_loss: 7.0700 - val_accuracy: 0.7742\n",
      "Epoch 76/100\n",
      "111/111 - 0s - loss: 0.4006 - accuracy: 0.8401 - val_loss: 5.8350 - val_accuracy: 0.7525\n",
      "Epoch 77/100\n",
      "111/111 - 0s - loss: 0.4069 - accuracy: 0.8430 - val_loss: 5.5488 - val_accuracy: 0.7610\n",
      "Epoch 78/100\n",
      "111/111 - 0s - loss: 0.4154 - accuracy: 0.8424 - val_loss: 5.3402 - val_accuracy: 0.7664\n",
      "Epoch 79/100\n",
      "111/111 - 0s - loss: 0.3973 - accuracy: 0.8375 - val_loss: 5.6150 - val_accuracy: 0.7579\n",
      "Epoch 80/100\n",
      "111/111 - 0s - loss: 0.3880 - accuracy: 0.8412 - val_loss: 5.2264 - val_accuracy: 0.7425\n"
     ]
    },
    {
     "name": "stdout",
     "output_type": "stream",
     "text": [
      "Epoch 81/100\n",
      "111/111 - 0s - loss: 0.4361 - accuracy: 0.8406 - val_loss: 6.9213 - val_accuracy: 0.7633\n",
      "Epoch 82/100\n",
      "111/111 - 0s - loss: 0.4514 - accuracy: 0.8350 - val_loss: 5.2339 - val_accuracy: 0.7726\n",
      "Epoch 83/100\n",
      "111/111 - 0s - loss: 0.4082 - accuracy: 0.8404 - val_loss: 5.4802 - val_accuracy: 0.7711\n",
      "Epoch 84/100\n",
      "111/111 - 0s - loss: 0.4449 - accuracy: 0.8360 - val_loss: 2.9932 - val_accuracy: 0.7718\n",
      "Epoch 85/100\n",
      "111/111 - 0s - loss: 0.4224 - accuracy: 0.8326 - val_loss: 3.1979 - val_accuracy: 0.7657\n",
      "Epoch 86/100\n",
      "111/111 - 0s - loss: 0.3785 - accuracy: 0.8409 - val_loss: 3.2954 - val_accuracy: 0.7773\n",
      "Epoch 87/100\n",
      "111/111 - 0s - loss: 0.3822 - accuracy: 0.8491 - val_loss: 2.9377 - val_accuracy: 0.7587\n",
      "Epoch 88/100\n",
      "111/111 - 0s - loss: 0.4197 - accuracy: 0.8476 - val_loss: 2.5619 - val_accuracy: 0.7711\n",
      "Epoch 89/100\n",
      "111/111 - 0s - loss: 0.4261 - accuracy: 0.8522 - val_loss: 2.6947 - val_accuracy: 0.7757\n",
      "Epoch 90/100\n",
      "111/111 - 0s - loss: 0.4005 - accuracy: 0.8381 - val_loss: 2.0990 - val_accuracy: 0.7633\n",
      "Epoch 91/100\n",
      "111/111 - 0s - loss: 0.3794 - accuracy: 0.8466 - val_loss: 2.0223 - val_accuracy: 0.7680\n",
      "Epoch 92/100\n",
      "111/111 - 0s - loss: 0.3778 - accuracy: 0.8520 - val_loss: 1.8529 - val_accuracy: 0.7688\n",
      "Epoch 93/100\n",
      "111/111 - 0s - loss: 0.4044 - accuracy: 0.8419 - val_loss: 2.4453 - val_accuracy: 0.7726\n",
      "Epoch 94/100\n",
      "111/111 - 0s - loss: 0.3715 - accuracy: 0.8455 - val_loss: 2.7506 - val_accuracy: 0.7804\n",
      "Epoch 95/100\n",
      "111/111 - 0s - loss: 0.4607 - accuracy: 0.8533 - val_loss: 2.2956 - val_accuracy: 0.7734\n",
      "Epoch 96/100\n",
      "111/111 - 0s - loss: 0.3598 - accuracy: 0.8479 - val_loss: 2.5788 - val_accuracy: 0.7773\n",
      "Epoch 97/100\n",
      "111/111 - 0s - loss: 0.3748 - accuracy: 0.8473 - val_loss: 2.3810 - val_accuracy: 0.7804\n",
      "Epoch 98/100\n",
      "111/111 - 0s - loss: 0.3519 - accuracy: 0.8553 - val_loss: 2.5894 - val_accuracy: 0.7773\n",
      "Epoch 99/100\n",
      "111/111 - 0s - loss: 0.3495 - accuracy: 0.8546 - val_loss: 2.6895 - val_accuracy: 0.7765\n",
      "Epoch 100/100\n",
      "111/111 - 0s - loss: 0.3550 - accuracy: 0.8566 - val_loss: 2.5050 - val_accuracy: 0.7734\n"
     ]
    }
   ],
   "source": [
    "ann.compile(optimizer='adam', loss='binary_crossentropy', metrics=['accuracy'])\n",
    "history = ann.fit(x_train, y_train,\n",
    "                  batch_size=35,\n",
    "                  epochs=100,\n",
    "                  verbose=2\n",
    "                  ,\n",
    "                  validation_data=(x_test, y_test))"
   ]
  },
  {
   "cell_type": "code",
   "execution_count": 14,
   "metadata": {},
   "outputs": [],
   "source": [
    "from ann_visualizer.visualize import ann_viz\n",
    "ann_viz(ann, title=\"ANN Model\")"
   ]
  },
  {
   "cell_type": "code",
   "execution_count": 15,
   "metadata": {},
   "outputs": [
    {
     "data": {
      "image/png": "[encoded data removed]",
      "text/plain": [
       "<Figure size 432x288 with 1 Axes>"
      ]
     },
     "metadata": {
      "needs_background": "light"
     },
     "output_type": "display_data"
    },
    {
     "data": {
      "image/png": "[encoded data removed]",
      "text/plain": [
       "<Figure size 432x288 with 1 Axes>"
      ]
     },
     "metadata": {
      "needs_background": "light"
     },
     "output_type": "display_data"
    }
   ],
   "source": [
    "metrics = pd.DataFrame(history.history)\n",
    "# Rename column\n",
    "metrics.rename(columns = {'loss': 'Training_Loss', 'accuracy': 'Training_Accuracy',\n",
    "                         'val_loss': 'Validation_Loss', 'val_accuracy': 'Validation_Accuracy'}, inplace = True)\n",
    "def plot_graphs1(var1, var2, string):\n",
    "    metrics[[var1, var2]].plot()\n",
    "    plt.title('ANN Model: Training and Validation ' + string)\n",
    "    plt.xlabel ('Number of epochs')\n",
    "    plt.ylabel(string)\n",
    "    plt.legend([var1, var2])\n",
    "# Plot\n",
    "plot_graphs1('Training_Loss', 'Validation_Loss', 'loss')\n",
    "plot_graphs1('Training_Accuracy', 'Validation_Accuracy', 'accuracy')"
   ]
  },
  {
   "cell_type": "code",
   "execution_count": null,
   "metadata": {},
   "outputs": [],
   "source": []
  },
  {
   "cell_type": "code",
   "execution_count": 16,
   "metadata": {},
   "outputs": [
    {
     "name": "stdout",
     "output_type": "stream",
     "text": [
      "Our accuracy is %86.6941750049591\n"
     ]
    }
   ],
   "source": [
    "trainPredict = ann.predict(x_train)\n",
    "testPredict= ann.predict(x_test)\n",
    "\n",
    "predicted=np.concatenate((trainPredict,testPredict),axis=0)\n",
    "trainScore = ann.evaluate(x_train, y_train, verbose=0)\n",
    "print(\"Our accuracy is %{}\".format(trainScore[1]*100))"
   ]
  },
  {
   "cell_type": "markdown",
   "metadata": {},
   "source": [
    "#### RNN"
   ]
  },
  {
   "cell_type": "code",
   "execution_count": 17,
   "metadata": {},
   "outputs": [],
   "source": [
    "from keras.layers import SimpleRNN\n",
    "rnn = Sequential()\n",
    "rnn.add(SimpleRNN(50, activation='relu', input_dim=50 , return_sequences = True))\n",
    "rnn.add(SimpleRNN(55, activation='relu' ,  return_sequences = False))\n",
    "# Adding dropout to prevent overfitting\n",
    "rnn.add(Dropout(0.1))\n",
    "rnn.add(Dense(1, activation='sigmoid'))"
   ]
  },
  {
   "cell_type": "code",
   "execution_count": 18,
   "metadata": {},
   "outputs": [
    {
     "name": "stdout",
     "output_type": "stream",
     "text": [
      "(3878, 50)\n",
      "(1293,)\n"
     ]
    }
   ],
   "source": [
    "rnn.compile(optimizer='adam', loss='binary_crossentropy', metrics=['accuracy'])\n",
    "print(x_train.shape)\n",
    "print(y_test.shape)"
   ]
  },
  {
   "cell_type": "code",
   "execution_count": 19,
   "metadata": {},
   "outputs": [],
   "source": [
    "x_train1 = x_train.reshape(3878,1,50)\n",
    "y_train1 = np.array(y_train).reshape(3878,1,1)\n",
    "x_test1 = x_test.reshape(1293,1,50)\n",
    "y_test1 = np.array(y_test).reshape(1293,1,1)"
   ]
  },
  {
   "cell_type": "code",
   "execution_count": 20,
   "metadata": {
    "scrolled": true
   },
   "outputs": [
    {
     "name": "stdout",
     "output_type": "stream",
     "text": [
      "Epoch 1/220\n",
      "103/103 - 0s - loss: 656.0249 - accuracy: 0.5686 - val_loss: 244.5258 - val_accuracy: 0.6234\n",
      "Epoch 2/220\n",
      "103/103 - 0s - loss: 259.5990 - accuracy: 0.6349 - val_loss: 190.2571 - val_accuracy: 0.6442\n",
      "Epoch 3/220\n",
      "103/103 - 0s - loss: 190.6392 - accuracy: 0.6542 - val_loss: 148.3149 - val_accuracy: 0.6388\n",
      "Epoch 4/220\n",
      "103/103 - 0s - loss: 126.3706 - accuracy: 0.6867 - val_loss: 120.1857 - val_accuracy: 0.6535\n",
      "Epoch 5/220\n",
      "103/103 - 0s - loss: 99.1559 - accuracy: 0.6854 - val_loss: 108.4850 - val_accuracy: 0.6388\n",
      "Epoch 6/220\n",
      "103/103 - 0s - loss: 79.2138 - accuracy: 0.6957 - val_loss: 99.8786 - val_accuracy: 0.6651\n",
      "Epoch 7/220\n",
      "103/103 - 0s - loss: 62.2160 - accuracy: 0.7187 - val_loss: 86.0561 - val_accuracy: 0.6342\n",
      "Epoch 8/220\n",
      "103/103 - 0s - loss: 53.3210 - accuracy: 0.7099 - val_loss: 79.3812 - val_accuracy: 0.6435\n",
      "Epoch 9/220\n",
      "103/103 - 0s - loss: 40.9727 - accuracy: 0.7380 - val_loss: 73.8570 - val_accuracy: 0.6504\n",
      "Epoch 10/220\n",
      "103/103 - 0s - loss: 36.3134 - accuracy: 0.7378 - val_loss: 71.2634 - val_accuracy: 0.6651\n",
      "Epoch 11/220\n",
      "103/103 - 0s - loss: 32.2306 - accuracy: 0.7424 - val_loss: 69.0266 - val_accuracy: 0.6875\n",
      "Epoch 12/220\n",
      "103/103 - 0s - loss: 24.8923 - accuracy: 0.7524 - val_loss: 58.1026 - val_accuracy: 0.6636\n",
      "Epoch 13/220\n",
      "103/103 - 0s - loss: 20.3002 - accuracy: 0.7739 - val_loss: 56.2686 - val_accuracy: 0.6520\n",
      "Epoch 14/220\n",
      "103/103 - 0s - loss: 17.4128 - accuracy: 0.7754 - val_loss: 52.9215 - val_accuracy: 0.6667\n",
      "Epoch 15/220\n",
      "103/103 - 0s - loss: 15.9207 - accuracy: 0.7855 - val_loss: 53.5170 - val_accuracy: 0.6984\n",
      "Epoch 16/220\n",
      "103/103 - 0s - loss: 13.9513 - accuracy: 0.7958 - val_loss: 48.0815 - val_accuracy: 0.6520\n",
      "Epoch 17/220\n",
      "103/103 - 0s - loss: 11.0751 - accuracy: 0.7947 - val_loss: 45.8730 - val_accuracy: 0.6829\n",
      "Epoch 18/220\n",
      "103/103 - 0s - loss: 10.0061 - accuracy: 0.8097 - val_loss: 43.8431 - val_accuracy: 0.6883\n",
      "Epoch 19/220\n",
      "103/103 - 0s - loss: 8.8744 - accuracy: 0.8084 - val_loss: 41.6435 - val_accuracy: 0.6837\n",
      "Epoch 20/220\n",
      "103/103 - 0s - loss: 7.5201 - accuracy: 0.8159 - val_loss: 38.7014 - val_accuracy: 0.6868\n",
      "Epoch 21/220\n",
      "103/103 - 0s - loss: 7.8468 - accuracy: 0.7940 - val_loss: 38.8856 - val_accuracy: 0.6667\n",
      "Epoch 22/220\n",
      "103/103 - 0s - loss: 8.1417 - accuracy: 0.8007 - val_loss: 36.3652 - val_accuracy: 0.6906\n",
      "Epoch 23/220\n",
      "103/103 - 0s - loss: 5.1024 - accuracy: 0.8290 - val_loss: 34.3618 - val_accuracy: 0.6829\n",
      "Epoch 24/220\n",
      "103/103 - 0s - loss: 4.4429 - accuracy: 0.8316 - val_loss: 34.3362 - val_accuracy: 0.6937\n",
      "Epoch 25/220\n",
      "103/103 - 0s - loss: 3.8571 - accuracy: 0.8303 - val_loss: 33.1535 - val_accuracy: 0.7007\n",
      "Epoch 26/220\n",
      "103/103 - 0s - loss: 3.7717 - accuracy: 0.8401 - val_loss: 31.8297 - val_accuracy: 0.6930\n",
      "Epoch 27/220\n",
      "103/103 - 0s - loss: 4.5058 - accuracy: 0.8203 - val_loss: 29.6395 - val_accuracy: 0.6891\n",
      "Epoch 28/220\n",
      "103/103 - 0s - loss: 3.5732 - accuracy: 0.8381 - val_loss: 27.6151 - val_accuracy: 0.7015\n",
      "Epoch 29/220\n",
      "103/103 - 0s - loss: 2.6909 - accuracy: 0.8510 - val_loss: 28.1273 - val_accuracy: 0.7046\n",
      "Epoch 30/220\n",
      "103/103 - 0s - loss: 2.1880 - accuracy: 0.8584 - val_loss: 26.5457 - val_accuracy: 0.7092\n",
      "Epoch 31/220\n",
      "103/103 - 0s - loss: 2.3766 - accuracy: 0.8499 - val_loss: 25.8594 - val_accuracy: 0.6984\n",
      "Epoch 32/220\n",
      "103/103 - 0s - loss: 2.0640 - accuracy: 0.8569 - val_loss: 25.1448 - val_accuracy: 0.6953\n",
      "Epoch 33/220\n",
      "103/103 - 0s - loss: 1.8679 - accuracy: 0.8577 - val_loss: 25.5231 - val_accuracy: 0.7100\n",
      "Epoch 34/220\n",
      "103/103 - 0s - loss: 1.4973 - accuracy: 0.8626 - val_loss: 24.0321 - val_accuracy: 0.6999\n",
      "Epoch 35/220\n",
      "103/103 - 0s - loss: 1.0513 - accuracy: 0.8724 - val_loss: 24.2994 - val_accuracy: 0.7162\n",
      "Epoch 36/220\n",
      "103/103 - 0s - loss: 1.5060 - accuracy: 0.8577 - val_loss: 24.0591 - val_accuracy: 0.7278\n",
      "Epoch 37/220\n",
      "103/103 - 0s - loss: 1.4835 - accuracy: 0.8556 - val_loss: 23.1079 - val_accuracy: 0.7285\n",
      "Epoch 38/220\n",
      "103/103 - 0s - loss: 1.2352 - accuracy: 0.8698 - val_loss: 22.3067 - val_accuracy: 0.7131\n",
      "Epoch 39/220\n",
      "103/103 - 0s - loss: 1.1288 - accuracy: 0.8703 - val_loss: 22.1821 - val_accuracy: 0.7069\n",
      "Epoch 40/220\n",
      "103/103 - 0s - loss: 1.2535 - accuracy: 0.8706 - val_loss: 21.1446 - val_accuracy: 0.7177\n",
      "Epoch 41/220\n",
      "103/103 - 0s - loss: 1.0594 - accuracy: 0.8602 - val_loss: 21.7107 - val_accuracy: 0.7169\n",
      "Epoch 42/220\n",
      "103/103 - 0s - loss: 0.7353 - accuracy: 0.8780 - val_loss: 21.0471 - val_accuracy: 0.7208\n",
      "Epoch 43/220\n",
      "103/103 - 0s - loss: 1.1464 - accuracy: 0.8654 - val_loss: 21.0616 - val_accuracy: 0.7254\n",
      "Epoch 44/220\n",
      "103/103 - 0s - loss: 0.7725 - accuracy: 0.8682 - val_loss: 19.2524 - val_accuracy: 0.7138\n",
      "Epoch 45/220\n",
      "103/103 - 0s - loss: 0.6472 - accuracy: 0.8724 - val_loss: 19.8422 - val_accuracy: 0.7185\n",
      "Epoch 46/220\n",
      "103/103 - 0s - loss: 0.7219 - accuracy: 0.8773 - val_loss: 19.1663 - val_accuracy: 0.7301\n",
      "Epoch 47/220\n",
      "103/103 - 0s - loss: 0.6441 - accuracy: 0.8785 - val_loss: 18.5102 - val_accuracy: 0.7293\n",
      "Epoch 48/220\n",
      "103/103 - 0s - loss: 0.7529 - accuracy: 0.8832 - val_loss: 18.1875 - val_accuracy: 0.7154\n",
      "Epoch 49/220\n",
      "103/103 - 0s - loss: 0.7413 - accuracy: 0.8749 - val_loss: 18.8035 - val_accuracy: 0.7108\n",
      "Epoch 50/220\n",
      "103/103 - 0s - loss: 0.6581 - accuracy: 0.8726 - val_loss: 16.4892 - val_accuracy: 0.7293\n",
      "Epoch 51/220\n",
      "103/103 - 0s - loss: 0.5949 - accuracy: 0.8840 - val_loss: 17.3163 - val_accuracy: 0.7363\n",
      "Epoch 52/220\n",
      "103/103 - 0s - loss: 0.4993 - accuracy: 0.8840 - val_loss: 17.7600 - val_accuracy: 0.7285\n",
      "Epoch 53/220\n",
      "103/103 - 0s - loss: 0.4734 - accuracy: 0.8901 - val_loss: 18.4995 - val_accuracy: 0.7138\n",
      "Epoch 54/220\n",
      "103/103 - 0s - loss: 0.7495 - accuracy: 0.8729 - val_loss: 14.0753 - val_accuracy: 0.7270\n",
      "Epoch 55/220\n",
      "103/103 - 0s - loss: 1.0469 - accuracy: 0.8502 - val_loss: 12.2986 - val_accuracy: 0.7285\n",
      "Epoch 56/220\n",
      "103/103 - 0s - loss: 0.6410 - accuracy: 0.8651 - val_loss: 13.0989 - val_accuracy: 0.7193\n",
      "Epoch 57/220\n",
      "103/103 - 0s - loss: 0.4900 - accuracy: 0.8703 - val_loss: 13.8595 - val_accuracy: 0.7417\n",
      "Epoch 58/220\n",
      "103/103 - 0s - loss: 0.4971 - accuracy: 0.8703 - val_loss: 12.3966 - val_accuracy: 0.7293\n",
      "Epoch 59/220\n",
      "103/103 - 0s - loss: 0.5308 - accuracy: 0.8729 - val_loss: 12.2258 - val_accuracy: 0.7309\n",
      "Epoch 60/220\n",
      "103/103 - 0s - loss: 0.6372 - accuracy: 0.8703 - val_loss: 11.6665 - val_accuracy: 0.7440\n",
      "Epoch 61/220\n",
      "103/103 - 0s - loss: 0.4566 - accuracy: 0.8724 - val_loss: 13.5126 - val_accuracy: 0.7386\n",
      "Epoch 62/220\n",
      "103/103 - 0s - loss: 0.6084 - accuracy: 0.8747 - val_loss: 12.4674 - val_accuracy: 0.7471\n",
      "Epoch 63/220\n",
      "103/103 - 0s - loss: 0.6059 - accuracy: 0.8641 - val_loss: 11.9822 - val_accuracy: 0.7278\n",
      "Epoch 64/220\n",
      "103/103 - 0s - loss: 0.5974 - accuracy: 0.8618 - val_loss: 11.1079 - val_accuracy: 0.7479\n",
      "Epoch 65/220\n",
      "103/103 - 0s - loss: 0.4858 - accuracy: 0.8626 - val_loss: 12.0532 - val_accuracy: 0.7409\n",
      "Epoch 66/220\n",
      "103/103 - 0s - loss: 0.4662 - accuracy: 0.8736 - val_loss: 13.1232 - val_accuracy: 0.7456\n",
      "Epoch 67/220\n",
      "103/103 - 0s - loss: 0.5845 - accuracy: 0.8587 - val_loss: 9.5318 - val_accuracy: 0.7494\n",
      "Epoch 68/220\n",
      "103/103 - 0s - loss: 0.5308 - accuracy: 0.8672 - val_loss: 11.6364 - val_accuracy: 0.7432\n",
      "Epoch 69/220\n",
      "103/103 - 0s - loss: 0.6200 - accuracy: 0.8700 - val_loss: 10.6992 - val_accuracy: 0.7502\n",
      "Epoch 70/220\n",
      "103/103 - 0s - loss: 0.4620 - accuracy: 0.8762 - val_loss: 10.7863 - val_accuracy: 0.7347\n",
      "Epoch 71/220\n",
      "103/103 - 0s - loss: 0.4260 - accuracy: 0.8783 - val_loss: 10.7127 - val_accuracy: 0.7448\n",
      "Epoch 72/220\n",
      "103/103 - 0s - loss: 0.3552 - accuracy: 0.8770 - val_loss: 11.2186 - val_accuracy: 0.7572\n",
      "Epoch 73/220\n",
      "103/103 - 0s - loss: 0.2983 - accuracy: 0.8871 - val_loss: 11.2404 - val_accuracy: 0.7572\n",
      "Epoch 74/220\n",
      "103/103 - 0s - loss: 0.3133 - accuracy: 0.8837 - val_loss: 10.6663 - val_accuracy: 0.7525\n",
      "Epoch 75/220\n",
      "103/103 - 0s - loss: 0.3323 - accuracy: 0.8834 - val_loss: 10.4430 - val_accuracy: 0.7610\n",
      "Epoch 76/220\n",
      "103/103 - 0s - loss: 0.3178 - accuracy: 0.8925 - val_loss: 10.2969 - val_accuracy: 0.7548\n",
      "Epoch 77/220\n",
      "103/103 - 0s - loss: 0.3258 - accuracy: 0.8881 - val_loss: 9.4490 - val_accuracy: 0.7564\n",
      "Epoch 78/220\n",
      "103/103 - 0s - loss: 0.3872 - accuracy: 0.8798 - val_loss: 8.3825 - val_accuracy: 0.7525\n",
      "Epoch 79/220\n",
      "103/103 - 0s - loss: 0.3343 - accuracy: 0.8863 - val_loss: 9.5891 - val_accuracy: 0.7541\n",
      "Epoch 80/220\n",
      "103/103 - 0s - loss: 0.3937 - accuracy: 0.8855 - val_loss: 8.7758 - val_accuracy: 0.7602\n"
     ]
    },
    {
     "name": "stdout",
     "output_type": "stream",
     "text": [
      "Epoch 81/220\n",
      "103/103 - 0s - loss: 0.3609 - accuracy: 0.8894 - val_loss: 8.3006 - val_accuracy: 0.7688\n",
      "Epoch 82/220\n",
      "103/103 - 0s - loss: 0.2997 - accuracy: 0.8920 - val_loss: 8.9726 - val_accuracy: 0.7649\n",
      "Epoch 83/220\n",
      "103/103 - 0s - loss: 0.4035 - accuracy: 0.8845 - val_loss: 7.3098 - val_accuracy: 0.7517\n",
      "Epoch 84/220\n",
      "103/103 - 0s - loss: 0.3970 - accuracy: 0.8657 - val_loss: 7.4743 - val_accuracy: 0.7649\n",
      "Epoch 85/220\n",
      "103/103 - 0s - loss: 0.3635 - accuracy: 0.8749 - val_loss: 8.2969 - val_accuracy: 0.7734\n",
      "Epoch 86/220\n",
      "103/103 - 0s - loss: 0.3972 - accuracy: 0.8865 - val_loss: 7.7692 - val_accuracy: 0.7657\n",
      "Epoch 87/220\n",
      "103/103 - 0s - loss: 0.3751 - accuracy: 0.8773 - val_loss: 5.6837 - val_accuracy: 0.7742\n",
      "Epoch 88/220\n",
      "103/103 - 0s - loss: 0.3297 - accuracy: 0.8783 - val_loss: 6.0784 - val_accuracy: 0.7703\n",
      "Epoch 89/220\n",
      "103/103 - 0s - loss: 0.2876 - accuracy: 0.8832 - val_loss: 6.9342 - val_accuracy: 0.7726\n",
      "Epoch 90/220\n",
      "103/103 - 0s - loss: 0.4742 - accuracy: 0.8765 - val_loss: 5.8546 - val_accuracy: 0.7757\n",
      "Epoch 91/220\n",
      "103/103 - 0s - loss: 0.3151 - accuracy: 0.8853 - val_loss: 6.3137 - val_accuracy: 0.7680\n",
      "Epoch 92/220\n",
      "103/103 - 0s - loss: 0.2649 - accuracy: 0.8945 - val_loss: 6.4394 - val_accuracy: 0.7773\n",
      "Epoch 93/220\n",
      "103/103 - 0s - loss: 0.3065 - accuracy: 0.8989 - val_loss: 5.9075 - val_accuracy: 0.7734\n",
      "Epoch 94/220\n",
      "103/103 - 0s - loss: 0.2835 - accuracy: 0.8886 - val_loss: 6.0023 - val_accuracy: 0.7618\n",
      "Epoch 95/220\n",
      "103/103 - 0s - loss: 0.2854 - accuracy: 0.8935 - val_loss: 5.5256 - val_accuracy: 0.7726\n",
      "Epoch 96/220\n",
      "103/103 - 0s - loss: 0.2690 - accuracy: 0.8976 - val_loss: 6.2242 - val_accuracy: 0.7703\n",
      "Epoch 97/220\n",
      "103/103 - 0s - loss: 0.2823 - accuracy: 0.8963 - val_loss: 5.9063 - val_accuracy: 0.7827\n",
      "Epoch 98/220\n",
      "103/103 - 0s - loss: 0.2936 - accuracy: 0.8987 - val_loss: 8.2775 - val_accuracy: 0.7796\n",
      "Epoch 99/220\n",
      "103/103 - 0s - loss: 0.2899 - accuracy: 0.8979 - val_loss: 6.0144 - val_accuracy: 0.7711\n",
      "Epoch 100/220\n",
      "103/103 - 0s - loss: 0.3344 - accuracy: 0.9002 - val_loss: 6.2258 - val_accuracy: 0.7804\n",
      "Epoch 101/220\n",
      "103/103 - 0s - loss: 0.2669 - accuracy: 0.9025 - val_loss: 6.0503 - val_accuracy: 0.7819\n",
      "Epoch 102/220\n",
      "103/103 - 0s - loss: 0.2549 - accuracy: 0.9067 - val_loss: 7.2692 - val_accuracy: 0.7889\n",
      "Epoch 103/220\n",
      "103/103 - 0s - loss: 0.2520 - accuracy: 0.9028 - val_loss: 6.9495 - val_accuracy: 0.7865\n",
      "Epoch 104/220\n",
      "103/103 - 0s - loss: 0.2717 - accuracy: 0.9010 - val_loss: 7.3498 - val_accuracy: 0.7834\n",
      "Epoch 105/220\n",
      "103/103 - 0s - loss: 0.3864 - accuracy: 0.8981 - val_loss: 6.1062 - val_accuracy: 0.7865\n",
      "Epoch 106/220\n",
      "103/103 - 0s - loss: 0.3005 - accuracy: 0.8922 - val_loss: 5.8812 - val_accuracy: 0.7796\n",
      "Epoch 107/220\n",
      "103/103 - 0s - loss: 0.6479 - accuracy: 0.8687 - val_loss: 4.2569 - val_accuracy: 0.7602\n",
      "Epoch 108/220\n",
      "103/103 - 0s - loss: 0.3918 - accuracy: 0.8657 - val_loss: 4.2372 - val_accuracy: 0.7726\n",
      "Epoch 109/220\n",
      "103/103 - 0s - loss: 0.3094 - accuracy: 0.8791 - val_loss: 4.7627 - val_accuracy: 0.7850\n",
      "Epoch 110/220\n",
      "103/103 - 0s - loss: 0.2996 - accuracy: 0.8855 - val_loss: 5.5212 - val_accuracy: 0.7711\n",
      "Epoch 111/220\n",
      "103/103 - 0s - loss: 0.2644 - accuracy: 0.8976 - val_loss: 5.8920 - val_accuracy: 0.7688\n",
      "Epoch 112/220\n",
      "103/103 - 0s - loss: 0.2521 - accuracy: 0.9041 - val_loss: 6.3646 - val_accuracy: 0.7718\n",
      "Epoch 113/220\n",
      "103/103 - 0s - loss: 0.2587 - accuracy: 0.9036 - val_loss: 5.6377 - val_accuracy: 0.7773\n",
      "Epoch 114/220\n",
      "103/103 - 0s - loss: 0.2486 - accuracy: 0.9100 - val_loss: 5.9429 - val_accuracy: 0.7796\n",
      "Epoch 115/220\n",
      "103/103 - 0s - loss: 0.2599 - accuracy: 0.9082 - val_loss: 6.1253 - val_accuracy: 0.7703\n",
      "Epoch 116/220\n",
      "103/103 - 0s - loss: 0.2435 - accuracy: 0.9121 - val_loss: 6.3351 - val_accuracy: 0.7819\n",
      "Epoch 117/220\n",
      "103/103 - 0s - loss: 0.2356 - accuracy: 0.9110 - val_loss: 5.6380 - val_accuracy: 0.7881\n",
      "Epoch 118/220\n",
      "103/103 - 0s - loss: 0.2412 - accuracy: 0.9118 - val_loss: 5.8214 - val_accuracy: 0.7889\n",
      "Epoch 119/220\n",
      "103/103 - 0s - loss: 0.2343 - accuracy: 0.9108 - val_loss: 6.0818 - val_accuracy: 0.7649\n",
      "Epoch 120/220\n",
      "103/103 - 0s - loss: 0.2622 - accuracy: 0.9041 - val_loss: 5.9349 - val_accuracy: 0.7657\n",
      "Epoch 121/220\n",
      "103/103 - 0s - loss: 0.3016 - accuracy: 0.9002 - val_loss: 5.3186 - val_accuracy: 0.7672\n",
      "Epoch 122/220\n",
      "103/103 - 0s - loss: 0.3704 - accuracy: 0.8886 - val_loss: 4.6695 - val_accuracy: 0.7572\n",
      "Epoch 123/220\n",
      "103/103 - 0s - loss: 0.3391 - accuracy: 0.8793 - val_loss: 4.1342 - val_accuracy: 0.7633\n",
      "Epoch 124/220\n",
      "103/103 - 0s - loss: 0.3488 - accuracy: 0.8819 - val_loss: 3.8058 - val_accuracy: 0.7626\n",
      "Epoch 125/220\n",
      "103/103 - 0s - loss: 0.3638 - accuracy: 0.8811 - val_loss: 3.3199 - val_accuracy: 0.7718\n",
      "Epoch 126/220\n",
      "103/103 - 0s - loss: 0.3008 - accuracy: 0.8912 - val_loss: 3.7703 - val_accuracy: 0.7718\n",
      "Epoch 127/220\n",
      "103/103 - 0s - loss: 0.2493 - accuracy: 0.9069 - val_loss: 4.2959 - val_accuracy: 0.7726\n",
      "Epoch 128/220\n",
      "103/103 - 0s - loss: 0.4147 - accuracy: 0.8834 - val_loss: 2.7687 - val_accuracy: 0.7564\n",
      "Epoch 129/220\n",
      "103/103 - 0s - loss: 0.3134 - accuracy: 0.8855 - val_loss: 3.1119 - val_accuracy: 0.7711\n",
      "Epoch 130/220\n",
      "103/103 - 0s - loss: 0.2724 - accuracy: 0.8981 - val_loss: 3.3604 - val_accuracy: 0.7726\n",
      "Epoch 131/220\n",
      "103/103 - 0s - loss: 0.2537 - accuracy: 0.9028 - val_loss: 3.4649 - val_accuracy: 0.7796\n",
      "Epoch 132/220\n",
      "103/103 - 0s - loss: 0.2595 - accuracy: 0.9010 - val_loss: 3.4856 - val_accuracy: 0.7734\n",
      "Epoch 133/220\n",
      "103/103 - 0s - loss: 0.2805 - accuracy: 0.9030 - val_loss: 3.8856 - val_accuracy: 0.7718\n",
      "Epoch 134/220\n",
      "103/103 - 0s - loss: 0.2700 - accuracy: 0.8971 - val_loss: 4.3529 - val_accuracy: 0.7595\n",
      "Epoch 135/220\n",
      "103/103 - 0s - loss: 0.3036 - accuracy: 0.8922 - val_loss: 3.9181 - val_accuracy: 0.7626\n",
      "Epoch 136/220\n",
      "103/103 - 0s - loss: 0.3206 - accuracy: 0.8801 - val_loss: 3.6864 - val_accuracy: 0.7718\n",
      "Epoch 137/220\n",
      "103/103 - 0s - loss: 0.2725 - accuracy: 0.8969 - val_loss: 4.3745 - val_accuracy: 0.7711\n",
      "Epoch 138/220\n",
      "103/103 - 0s - loss: 0.2607 - accuracy: 0.9028 - val_loss: 4.0944 - val_accuracy: 0.7688\n",
      "Epoch 139/220\n",
      "103/103 - 0s - loss: 0.3929 - accuracy: 0.8871 - val_loss: 3.2418 - val_accuracy: 0.7633\n",
      "Epoch 140/220\n",
      "103/103 - 0s - loss: 0.3353 - accuracy: 0.8850 - val_loss: 3.7308 - val_accuracy: 0.7556\n",
      "Epoch 141/220\n",
      "103/103 - 0s - loss: 0.3060 - accuracy: 0.8871 - val_loss: 3.6994 - val_accuracy: 0.7695\n",
      "Epoch 142/220\n",
      "103/103 - 0s - loss: 0.2642 - accuracy: 0.9012 - val_loss: 4.0570 - val_accuracy: 0.7688\n",
      "Epoch 143/220\n",
      "103/103 - 0s - loss: 0.2525 - accuracy: 0.9048 - val_loss: 4.3808 - val_accuracy: 0.7672\n",
      "Epoch 144/220\n",
      "103/103 - 0s - loss: 0.2386 - accuracy: 0.9090 - val_loss: 4.2882 - val_accuracy: 0.7819\n",
      "Epoch 145/220\n",
      "103/103 - 0s - loss: 0.2456 - accuracy: 0.9118 - val_loss: 3.7365 - val_accuracy: 0.7773\n",
      "Epoch 146/220\n",
      "103/103 - 0s - loss: 0.2574 - accuracy: 0.9072 - val_loss: 4.1409 - val_accuracy: 0.7819\n",
      "Epoch 147/220\n",
      "103/103 - 0s - loss: 0.2465 - accuracy: 0.9128 - val_loss: 4.0585 - val_accuracy: 0.7749\n",
      "Epoch 148/220\n",
      "103/103 - 0s - loss: 0.2451 - accuracy: 0.9128 - val_loss: 4.1551 - val_accuracy: 0.7773\n",
      "Epoch 149/220\n",
      "103/103 - 0s - loss: 0.2491 - accuracy: 0.9126 - val_loss: 3.1883 - val_accuracy: 0.7749\n",
      "Epoch 150/220\n",
      "103/103 - 0s - loss: 0.2389 - accuracy: 0.9157 - val_loss: 3.5610 - val_accuracy: 0.7819\n",
      "Epoch 151/220\n",
      "103/103 - 0s - loss: 0.2363 - accuracy: 0.9162 - val_loss: 3.9311 - val_accuracy: 0.7734\n",
      "Epoch 152/220\n",
      "103/103 - 0s - loss: 0.2270 - accuracy: 0.9195 - val_loss: 4.2203 - val_accuracy: 0.7695\n",
      "Epoch 153/220\n",
      "103/103 - 0s - loss: 0.2116 - accuracy: 0.9286 - val_loss: 4.4117 - val_accuracy: 0.7726\n",
      "Epoch 154/220\n",
      "103/103 - 0s - loss: 0.2406 - accuracy: 0.9224 - val_loss: 3.8043 - val_accuracy: 0.7765\n",
      "Epoch 155/220\n",
      "103/103 - 0s - loss: 0.2441 - accuracy: 0.9159 - val_loss: 3.5096 - val_accuracy: 0.7711\n",
      "Epoch 156/220\n",
      "103/103 - 0s - loss: 0.2858 - accuracy: 0.9108 - val_loss: 3.7011 - val_accuracy: 0.7742\n",
      "Epoch 157/220\n",
      "103/103 - 0s - loss: 0.2734 - accuracy: 0.9038 - val_loss: 3.6452 - val_accuracy: 0.7773\n",
      "Epoch 158/220\n",
      "103/103 - 0s - loss: 0.2510 - accuracy: 0.9082 - val_loss: 3.6386 - val_accuracy: 0.7765\n",
      "Epoch 159/220\n",
      "103/103 - 0s - loss: 0.2561 - accuracy: 0.9097 - val_loss: 3.3095 - val_accuracy: 0.7749\n",
      "Epoch 160/220\n",
      "103/103 - 0s - loss: 0.2631 - accuracy: 0.9110 - val_loss: 3.3360 - val_accuracy: 0.7749\n"
     ]
    },
    {
     "name": "stdout",
     "output_type": "stream",
     "text": [
      "Epoch 161/220\n",
      "103/103 - 0s - loss: 0.2742 - accuracy: 0.9079 - val_loss: 3.1588 - val_accuracy: 0.7788\n",
      "Epoch 162/220\n",
      "103/103 - 0s - loss: 0.2684 - accuracy: 0.9033 - val_loss: 2.8520 - val_accuracy: 0.7804\n",
      "Epoch 163/220\n",
      "103/103 - 0s - loss: 0.2418 - accuracy: 0.9097 - val_loss: 2.8250 - val_accuracy: 0.7804\n",
      "Epoch 164/220\n",
      "103/103 - 0s - loss: 0.2217 - accuracy: 0.9208 - val_loss: 3.5085 - val_accuracy: 0.7842\n",
      "Epoch 165/220\n",
      "103/103 - 0s - loss: 0.2440 - accuracy: 0.9139 - val_loss: 2.6762 - val_accuracy: 0.7819\n",
      "Epoch 166/220\n",
      "103/103 - 0s - loss: 0.2270 - accuracy: 0.9193 - val_loss: 3.3347 - val_accuracy: 0.7773\n",
      "Epoch 167/220\n",
      "103/103 - 0s - loss: 0.2038 - accuracy: 0.9281 - val_loss: 3.8219 - val_accuracy: 0.7734\n",
      "Epoch 168/220\n",
      "103/103 - 0s - loss: 0.2303 - accuracy: 0.9252 - val_loss: 2.8019 - val_accuracy: 0.7688\n",
      "Epoch 169/220\n",
      "103/103 - 0s - loss: 0.2251 - accuracy: 0.9203 - val_loss: 3.6966 - val_accuracy: 0.7804\n",
      "Epoch 170/220\n",
      "103/103 - 0s - loss: 0.2431 - accuracy: 0.9177 - val_loss: 3.3884 - val_accuracy: 0.7657\n",
      "Epoch 171/220\n",
      "103/103 - 0s - loss: 0.2413 - accuracy: 0.9157 - val_loss: 3.1255 - val_accuracy: 0.7711\n",
      "Epoch 172/220\n",
      "103/103 - 0s - loss: 0.2505 - accuracy: 0.9214 - val_loss: 3.3504 - val_accuracy: 0.7626\n",
      "Epoch 173/220\n",
      "103/103 - 0s - loss: 0.2190 - accuracy: 0.9237 - val_loss: 3.1442 - val_accuracy: 0.7780\n",
      "Epoch 174/220\n",
      "103/103 - 0s - loss: 0.2654 - accuracy: 0.9226 - val_loss: 3.0405 - val_accuracy: 0.7711\n",
      "Epoch 175/220\n",
      "103/103 - 0s - loss: 0.2962 - accuracy: 0.9012 - val_loss: 3.0670 - val_accuracy: 0.7672\n",
      "Epoch 176/220\n",
      "103/103 - 0s - loss: 0.2525 - accuracy: 0.9077 - val_loss: 3.2427 - val_accuracy: 0.7664\n",
      "Epoch 177/220\n",
      "103/103 - 0s - loss: 0.2680 - accuracy: 0.9100 - val_loss: 3.4140 - val_accuracy: 0.7718\n",
      "Epoch 178/220\n",
      "103/103 - 0s - loss: 0.2407 - accuracy: 0.9139 - val_loss: 3.7302 - val_accuracy: 0.7664\n",
      "Epoch 179/220\n",
      "103/103 - 0s - loss: 0.2634 - accuracy: 0.9121 - val_loss: 3.9166 - val_accuracy: 0.7641\n",
      "Epoch 180/220\n",
      "103/103 - 0s - loss: 0.2367 - accuracy: 0.9118 - val_loss: 3.8598 - val_accuracy: 0.7711\n",
      "Epoch 181/220\n",
      "103/103 - 0s - loss: 0.2247 - accuracy: 0.9190 - val_loss: 4.6266 - val_accuracy: 0.7780\n",
      "Epoch 182/220\n",
      "103/103 - 0s - loss: 0.2262 - accuracy: 0.9188 - val_loss: 4.8554 - val_accuracy: 0.7742\n",
      "Epoch 183/220\n",
      "103/103 - 0s - loss: 0.2251 - accuracy: 0.9216 - val_loss: 4.7317 - val_accuracy: 0.7734\n",
      "Epoch 184/220\n",
      "103/103 - 0s - loss: 0.2558 - accuracy: 0.9172 - val_loss: 4.0462 - val_accuracy: 0.7804\n",
      "Epoch 185/220\n",
      "103/103 - 0s - loss: 0.2335 - accuracy: 0.9170 - val_loss: 4.1668 - val_accuracy: 0.7804\n",
      "Epoch 186/220\n",
      "103/103 - 0s - loss: 0.2218 - accuracy: 0.9224 - val_loss: 4.7516 - val_accuracy: 0.7780\n",
      "Epoch 187/220\n",
      "103/103 - 0s - loss: 0.2256 - accuracy: 0.9242 - val_loss: 4.0868 - val_accuracy: 0.7664\n",
      "Epoch 188/220\n",
      "103/103 - 0s - loss: 0.2321 - accuracy: 0.9242 - val_loss: 4.0094 - val_accuracy: 0.7695\n",
      "Epoch 189/220\n",
      "103/103 - 0s - loss: 0.2227 - accuracy: 0.9216 - val_loss: 4.1976 - val_accuracy: 0.7819\n",
      "Epoch 190/220\n",
      "103/103 - 0s - loss: 0.2453 - accuracy: 0.9201 - val_loss: 4.3889 - val_accuracy: 0.7819\n",
      "Epoch 191/220\n",
      "103/103 - 0s - loss: 0.2354 - accuracy: 0.9201 - val_loss: 3.9823 - val_accuracy: 0.7672\n",
      "Epoch 192/220\n",
      "103/103 - 0s - loss: 0.2385 - accuracy: 0.9193 - val_loss: 4.5975 - val_accuracy: 0.7672\n",
      "Epoch 193/220\n",
      "103/103 - 0s - loss: 0.2434 - accuracy: 0.9159 - val_loss: 3.9664 - val_accuracy: 0.7703\n",
      "Epoch 194/220\n",
      "103/103 - 0s - loss: 0.2825 - accuracy: 0.9048 - val_loss: 3.5275 - val_accuracy: 0.7711\n",
      "Epoch 195/220\n",
      "103/103 - 0s - loss: 0.2453 - accuracy: 0.9159 - val_loss: 3.8969 - val_accuracy: 0.7572\n",
      "Epoch 196/220\n",
      "103/103 - 0s - loss: 0.2503 - accuracy: 0.9206 - val_loss: 3.6897 - val_accuracy: 0.7595\n",
      "Epoch 197/220\n",
      "103/103 - 0s - loss: 0.2786 - accuracy: 0.8948 - val_loss: 3.8183 - val_accuracy: 0.7564\n",
      "Epoch 198/220\n",
      "103/103 - 0s - loss: 0.2848 - accuracy: 0.9056 - val_loss: 4.8209 - val_accuracy: 0.7680\n",
      "Epoch 199/220\n",
      "103/103 - 0s - loss: 0.2229 - accuracy: 0.9226 - val_loss: 6.1924 - val_accuracy: 0.7587\n",
      "Epoch 200/220\n",
      "103/103 - 0s - loss: 0.2633 - accuracy: 0.9208 - val_loss: 4.7517 - val_accuracy: 0.7672\n",
      "Epoch 201/220\n",
      "103/103 - 0s - loss: 0.2175 - accuracy: 0.9247 - val_loss: 4.7428 - val_accuracy: 0.7672\n",
      "Epoch 202/220\n",
      "103/103 - 0s - loss: 0.2194 - accuracy: 0.9252 - val_loss: 4.4726 - val_accuracy: 0.7618\n",
      "Epoch 203/220\n",
      "103/103 - 0s - loss: 0.2424 - accuracy: 0.9175 - val_loss: 4.2253 - val_accuracy: 0.7711\n",
      "Epoch 204/220\n",
      "103/103 - 0s - loss: 0.2488 - accuracy: 0.9226 - val_loss: 4.0492 - val_accuracy: 0.7765\n",
      "Epoch 205/220\n",
      "103/103 - 0s - loss: 0.2188 - accuracy: 0.9260 - val_loss: 4.4370 - val_accuracy: 0.7664\n",
      "Epoch 206/220\n",
      "103/103 - 0s - loss: 0.2105 - accuracy: 0.9281 - val_loss: 3.7573 - val_accuracy: 0.7695\n",
      "Epoch 207/220\n",
      "103/103 - 0s - loss: 0.1942 - accuracy: 0.9342 - val_loss: 4.3111 - val_accuracy: 0.7602\n",
      "Epoch 208/220\n",
      "103/103 - 0s - loss: 0.2121 - accuracy: 0.9257 - val_loss: 3.8766 - val_accuracy: 0.7765\n",
      "Epoch 209/220\n",
      "103/103 - 0s - loss: 0.2140 - accuracy: 0.9263 - val_loss: 4.4731 - val_accuracy: 0.7641\n",
      "Epoch 210/220\n",
      "103/103 - 0s - loss: 0.2247 - accuracy: 0.9263 - val_loss: 3.5526 - val_accuracy: 0.7664\n",
      "Epoch 211/220\n",
      "103/103 - 0s - loss: 0.2160 - accuracy: 0.9278 - val_loss: 4.0999 - val_accuracy: 0.7757\n",
      "Epoch 212/220\n",
      "103/103 - 0s - loss: 0.2076 - accuracy: 0.9299 - val_loss: 4.0901 - val_accuracy: 0.7726\n",
      "Epoch 213/220\n",
      "103/103 - 0s - loss: 0.1901 - accuracy: 0.9358 - val_loss: 5.2592 - val_accuracy: 0.7757\n",
      "Epoch 214/220\n",
      "103/103 - 0s - loss: 0.2370 - accuracy: 0.9250 - val_loss: 6.5332 - val_accuracy: 0.7664\n",
      "Epoch 215/220\n",
      "103/103 - 0s - loss: 0.2224 - accuracy: 0.9232 - val_loss: 5.8210 - val_accuracy: 0.7703\n",
      "Epoch 216/220\n",
      "103/103 - 0s - loss: 0.2735 - accuracy: 0.9126 - val_loss: 4.8598 - val_accuracy: 0.7726\n",
      "Epoch 217/220\n",
      "103/103 - 0s - loss: 0.2369 - accuracy: 0.9157 - val_loss: 5.8612 - val_accuracy: 0.7765\n",
      "Epoch 218/220\n",
      "103/103 - 0s - loss: 0.2258 - accuracy: 0.9208 - val_loss: 5.8691 - val_accuracy: 0.7649\n",
      "Epoch 219/220\n",
      "103/103 - 0s - loss: 0.2695 - accuracy: 0.9118 - val_loss: 5.1808 - val_accuracy: 0.7649\n",
      "Epoch 220/220\n",
      "103/103 - 0s - loss: 0.2672 - accuracy: 0.9167 - val_loss: 4.2866 - val_accuracy: 0.7726\n"
     ]
    }
   ],
   "source": [
    "\n",
    "history2 = rnn.fit(x_train1, y_train1,\n",
    "                  batch_size=38,\n",
    "                  epochs=220,\n",
    "                  verbose=2,\n",
    "                  validation_data=(x_test1, y_test1))"
   ]
  },
  {
   "cell_type": "code",
   "execution_count": 21,
   "metadata": {},
   "outputs": [
    {
     "data": {
      "image/png": "[encoded data removed]",
      "text/plain": [
       "<IPython.core.display.Image object>"
      ]
     },
     "execution_count": 21,
     "metadata": {},
     "output_type": "execute_result"
    }
   ],
   "source": [
    "from keras.utils import plot_model,model_to_dot\n",
    "\n",
    "plot_model(rnn, to_file='model_plot.png', show_layer_names=True)\n"
   ]
  },
  {
   "cell_type": "code",
   "execution_count": 22,
   "metadata": {},
   "outputs": [
    {
     "data": {
      "image/png": "[encoded data removed]",
      "text/plain": [
       "<Figure size 432x288 with 1 Axes>"
      ]
     },
     "metadata": {
      "needs_background": "light"
     },
     "output_type": "display_data"
    },
    {
     "data": {
      "image/png": "[encoded data removed]",
      "text/plain": [
       "<Figure size 432x288 with 1 Axes>"
      ]
     },
     "metadata": {
      "needs_background": "light"
     },
     "output_type": "display_data"
    }
   ],
   "source": [
    "metrics_RNN = pd.DataFrame(history2.history)\n",
    "# Rename column\n",
    "metrics_RNN.rename(columns = {'loss': 'Training_Loss', 'accuracy': 'Training_Accuracy',\n",
    "                         'val_loss': 'Validation_Loss', 'val_accuracy': 'Validation_Accuracy'}, inplace = True)\n",
    "def plot_graphs2(var1, var2, string):\n",
    "    metrics_RNN[[var1, var2]].plot()\n",
    "    plt.title('RNN Model: Training and Validation ' + string)\n",
    "    plt.xlabel ('Number of epochs')\n",
    "    plt.ylabel(string)\n",
    "    plt.legend([var1, var2])\n",
    "# Plot\n",
    "plot_graphs2('Training_Loss', 'Validation_Loss', 'loss')\n",
    "plot_graphs2('Training_Accuracy', 'Validation_Accuracy', 'accuracy')"
   ]
  },
  {
   "cell_type": "code",
   "execution_count": 23,
   "metadata": {},
   "outputs": [
    {
     "name": "stdout",
     "output_type": "stream",
     "text": [
      "Our accuracy is %77.26218104362488\n"
     ]
    }
   ],
   "source": [
    "trainPredict = rnn.predict(x_train1)\n",
    "testPredict= rnn.predict(x_test1)\n",
    "\n",
    "predicted=np.concatenate((trainPredict,testPredict),axis=0)\n",
    "trainScore = rnn.evaluate(x_test1, y_test1, verbose=0)\n",
    "print(\"Our accuracy is %{}\".format(trainScore[1]*100))"
   ]
  },
  {
   "cell_type": "markdown",
   "metadata": {},
   "source": [
    "### ROC AUC"
   ]
  },
  {
   "cell_type": "code",
   "execution_count": 24,
   "metadata": {},
   "outputs": [
    {
     "data": {
      "image/png": "[encoded data removed]",
      "text/plain": [
       "<Figure size 432x288 with 1 Axes>"
      ]
     },
     "metadata": {
      "needs_background": "light"
     },
     "output_type": "display_data"
    }
   ],
   "source": [
    "from sklearn.metrics import roc_curve\n",
    "y_pred_keras = ann.predict(x_test).ravel()\n",
    "fpr_keras, tpr_keras, thresholds_keras = roc_curve(y_test, y_pred_keras)\n",
    "\n",
    "from sklearn.metrics import auc\n",
    "auc_keras = auc(fpr_keras, tpr_keras)\n",
    "def plot_roc_curve(fpr,tpr): \n",
    "  plt.plot(fpr,tpr) \n",
    "  plt.axis([0,1,0,1]) \n",
    "  plt.xlabel('False Positive Rate') \n",
    "  plt.ylabel('True Positive Rate') \n",
    "  plt.show()\n",
    "plot_roc_curve (fpr_keras,tpr_keras) \n"
   ]
  },
  {
   "cell_type": "code",
   "execution_count": 25,
   "metadata": {
    "scrolled": true
   },
   "outputs": [
    {
     "name": "stdout",
     "output_type": "stream",
     "text": [
      "WARNING:tensorflow:From <ipython-input-25-34ca18c33ce4>:2: Sequential.predict_proba (from tensorflow.python.keras.engine.sequential) is deprecated and will be removed after 2021-01-01.\n",
      "Instructions for updating:\n",
      "Please use `model.predict()` instead.\n"
     ]
    },
    {
     "data": {
      "image/png": "[encoded data removed]",
      "text/plain": [
       "<Figure size 432x288 with 1 Axes>"
      ]
     },
     "metadata": {
      "needs_background": "light"
     },
     "output_type": "display_data"
    }
   ],
   "source": [
    "from sklearn.metrics import roc_curve\n",
    "y_pred_rnn = rnn.predict_proba(x_test1)\n",
    "fpr_rnn, tpr_rnn, thresholds_keras = roc_curve(y_test, y_pred_rnn)\n",
    "\n",
    "\n",
    "plot_roc_curve (fpr_rnn,tpr_rnn) "
   ]
  },
  {
   "cell_type": "code",
   "execution_count": 26,
   "metadata": {},
   "outputs": [
    {
     "name": "stdout",
     "output_type": "stream",
     "text": [
      "(1293, 1, 1)\n"
     ]
    }
   ],
   "source": [
    "print(y_test1.shape)"
   ]
  },
  {
   "cell_type": "code",
   "execution_count": 27,
   "metadata": {},
   "outputs": [
    {
     "name": "stdout",
     "output_type": "stream",
     "text": [
      "WARNING:tensorflow:From <ipython-input-27-55a9b0a63485>:4: Sequential.predict_classes (from tensorflow.python.keras.engine.sequential) is deprecated and will be removed after 2021-01-01.\n",
      "Instructions for updating:\n",
      "Please use instead:* `np.argmax(model.predict(x), axis=-1)`,   if your model does multi-class classification   (e.g. if it uses a `softmax` last-layer activation).* `(model.predict(x) > 0.5).astype(\"int32\")`,   if your model does binary classification   (e.g. if it uses a `sigmoid` last-layer activation).\n",
      "Accuracy: 0.773395\n",
      "Precision: 0.739130\n",
      "Recall: 0.321622\n",
      "F1 score: 0.448211\n",
      "Cohens kappa: 0.332358\n",
      "ROC AUC: 0.709853\n",
      "[[881  42]\n",
      " [251 119]]\n"
     ]
    }
   ],
   "source": [
    "from sklearn.metrics import plot_confusion_matrix\n",
    "yhat_probs = ann.predict(x_test, verbose=0)\n",
    "# predict crisp classes for test set\n",
    "yhat_classes = ann.predict_classes(x_test, verbose=0)\n",
    "# reduce to 1d array\n",
    "yhat_probs1 = yhat_probs[:, 0]\n",
    "yhat_classes = yhat_classes[:, 0]\n",
    "\n",
    "# accuracy: (tp + tn) / (p + n)\n",
    "accuracy = accuracy_score(y_test, yhat_classes)\n",
    "print('Accuracy: %f' % accuracy)\n",
    "# precision tp / (tp + fp)\n",
    "precision = precision_score(y_test, yhat_classes)\n",
    "print('Precision: %f' % precision)\n",
    "# recall: tp / (tp + fn)\n",
    "recall = recall_score(y_test, yhat_classes)\n",
    "print('Recall: %f' % recall)\n",
    "# f1: 2 tp / (2 tp + fp + fn)\n",
    "f1 = f1_score(y_test, yhat_classes)\n",
    "print('F1 score: %f' % f1)\n",
    "\n",
    "# kappa\n",
    "kappa = cohen_kappa_score(y_test, yhat_classes)\n",
    "print('Cohens kappa: %f' % kappa)\n",
    "# ROC AUC\n",
    "auc = roc_auc_score(y_test, yhat_probs)\n",
    "print('ROC AUC: %f' % auc)\n",
    "# confusion matrix\n",
    "matrix = confusion_matrix(y_test,yhat_classes)\n",
    "print(matrix)"
   ]
  },
  {
   "cell_type": "code",
   "execution_count": 28,
   "metadata": {},
   "outputs": [
    {
     "data": {
      "text/plain": [
       "<AxesSubplot:>"
      ]
     },
     "execution_count": 28,
     "metadata": {},
     "output_type": "execute_result"
    },
    {
     "data": {
      "image/png": "[encoded data removed]",
      "text/plain": [
       "<Figure size 432x288 with 2 Axes>"
      ]
     },
     "metadata": {
      "needs_background": "light"
     },
     "output_type": "display_data"
    }
   ],
   "source": [
    "import seaborn as sns\n",
    "sns.heatmap(matrix)"
   ]
  },
  {
   "cell_type": "code",
   "execution_count": 29,
   "metadata": {},
   "outputs": [
    {
     "name": "stdout",
     "output_type": "stream",
     "text": [
      "ROC AUC: 0.687312\n"
     ]
    }
   ],
   "source": [
    "y_pred_rnn = rnn.predict(x_test1)\n",
    "auc = roc_auc_score(y_test,y_pred_rnn )\n",
    "print('ROC AUC: %f' % auc)"
   ]
  },
  {
   "cell_type": "code",
   "execution_count": 30,
   "metadata": {},
   "outputs": [
    {
     "data": {
      "image/png": "[encoded data removed]",
      "text/plain": [
       "<Figure size 576x360 with 1 Axes>"
      ]
     },
     "metadata": {
      "needs_background": "light"
     },
     "output_type": "display_data"
    }
   ],
   "source": [
    "algo = ['ANN','RNN','LSTM','Bi-LSTM']\n",
    "values = [91.98,74.16,97.29,97.37]\n",
    "fig = plt.figure(figsize = (8,5))\n",
    " \n",
    "# creating the bar plot\n",
    "plt.bar(algo, values, color ='maroon',\n",
    "        width = 0.4)\n",
    "\n",
    "\n",
    "plt.ylabel(\"Score\")\n",
    "plt.title(\"Comparision of Accuracy\")\n",
    "plt.show()"
   ]
  },
  {
   "cell_type": "code",
   "execution_count": 40,
   "metadata": {},
   "outputs": [],
   "source": [
    "from sklearn.metrics import precision_recall_curve\n",
    "y_pred=ann.predict_proba(x_test)\n",
    "p = precision_recall_curve(y_test,y_pred)"
   ]
  },
  {
   "cell_type": "code",
   "execution_count": 47,
   "metadata": {},
   "outputs": [
    {
     "data": {
      "image/png": "[encoded data removed]",
      "text/plain": [
       "<Figure size 432x288 with 1 Axes>"
      ]
     },
     "metadata": {
      "needs_background": "light"
     },
     "output_type": "display_data"
    }
   ],
   "source": [
    "plt.plot(p[1], p[0], label='ANN')\n",
    "# axis labels\n",
    "plt.xlabel('Recall')\n",
    "plt.ylabel('Precision')\n",
    "# show the legend\n",
    "plt.legend()\n",
    "# show the plot\n",
    "plt.show()"
   ]
  },
  {
   "cell_type": "code",
   "execution_count": 50,
   "metadata": {},
   "outputs": [
    {
     "ename": "TypeError",
     "evalue": "'numpy.float64' object is not callable",
     "output_type": "error",
     "traceback": [
      "\u001b[1;31m---------------------------------------------------------------------------\u001b[0m",
      "\u001b[1;31mTypeError\u001b[0m                                 Traceback (most recent call last)",
      "\u001b[1;32m<ipython-input-50-8a8db0cd90bf>\u001b[0m in \u001b[0;36m<module>\u001b[1;34m\u001b[0m\n\u001b[1;32m----> 1\u001b[1;33m \u001b[0mauc_score\u001b[0m \u001b[1;33m=\u001b[0m \u001b[0mauc\u001b[0m\u001b[1;33m(\u001b[0m\u001b[0mp\u001b[0m\u001b[1;33m[\u001b[0m\u001b[1;36m1\u001b[0m\u001b[1;33m]\u001b[0m\u001b[1;33m,\u001b[0m \u001b[0mp\u001b[0m\u001b[1;33m[\u001b[0m\u001b[1;36m0\u001b[0m\u001b[1;33m]\u001b[0m\u001b[1;33m)\u001b[0m\u001b[1;33m\u001b[0m\u001b[1;33m\u001b[0m\u001b[0m\n\u001b[0m",
      "\u001b[1;31mTypeError\u001b[0m: 'numpy.float64' object is not callable"
     ]
    }
   ],
   "source": [
    "auc_score = auc(p[1], p[0])"
   ]
  },
  {
   "cell_type": "code",
   "execution_count": 53,
   "metadata": {},
   "outputs": [],
   "source": [
    "from sklearn.metrics import precision_recall_curve\n",
    "y_pred=ann.predict_proba(x_test)\n",
    "q = precision_recall_curve(y_test,testPredict)"
   ]
  }
 ],
 "metadata": {
  "colab": {
   "collapsed_sections": [],
   "name": "A simple Perceptron-based spam filter.ipynb",
   "provenance": []
  },
  "kernelspec": {
   "display_name": "Python 3",
   "language": "python",
   "name": "python3"
  },
  "language_info": {
   "codemirror_mode": {
    "name": "ipython",
    "version": 3
   },
   "file_extension": ".py",
   "mimetype": "text/x-python",
   "name": "python",
   "nbconvert_exporter": "python",
   "pygments_lexer": "ipython3",
   "version": "3.8.8"
  }
 },
 "nbformat": 4,
 "nbformat_minor": 1
}
