{
 "cells": [
  {
   "cell_type": "code",
   "execution_count": 1,
   "id": "413a3844",
   "metadata": {},
   "outputs": [
    {
     "name": "stderr",
     "output_type": "stream",
     "text": [
      "[nltk_data] Downloading package stopwords to\n",
      "[nltk_data]     C:\\Users\\FIREBLZE\\AppData\\Roaming\\nltk_data...\n",
      "[nltk_data]   Package stopwords is already up-to-date!\n"
     ]
    }
   ],
   "source": [
    "import pandas as pd\n",
    "import numpy as np\n",
    "import tensorflow as tf\n",
    "import matplotlib.pyplot as plt\n",
    "import seaborn as sns\n",
    "import re\n",
    "from sklearn.metrics import *\n",
    "\n",
    "\n",
    "import nltk \n",
    "nltk.download('stopwords')\n",
    "from nltk.corpus import stopwords\n",
    "from nltk.stem import SnowballStemmer\n",
    "\n",
    "from sklearn.model_selection import train_test_split\n",
    "from sklearn.preprocessing import LabelEncoder"
   ]
  },
  {
   "cell_type": "code",
   "execution_count": 2,
   "id": "e8900ae1",
   "metadata": {},
   "outputs": [],
   "source": [
    "data = pd.read_csv('spam_ham_dataset.csv')\n"
   ]
  },
  {
   "cell_type": "code",
   "execution_count": 5,
   "id": "e5ec2a4c",
   "metadata": {},
   "outputs": [],
   "source": [
    "stop_words = stopwords.words('english')\n",
    "stemmer = SnowballStemmer('english')\n",
    "\n",
    "text_cleaning_re = \"@\\S+|https?:\\S+|http?:\\S+|[^A-Za-z0-9]:\\S+|subject:\\S+|nbsp\"\n",
    "def preprocess(text, stem=False):\n",
    "    text = re.sub(text_cleaning_re, ' ', str(text).lower()).strip()\n",
    "    tokens = []\n",
    "    for token in text.split():\n",
    "        if token not in stop_words:\n",
    "            if stem:\n",
    "                tokens.append(stemmer.stem(token))\n",
    "            else:\n",
    "                tokens.append(token)\n",
    "    return \" \".join(tokens)\n",
    "\n",
    "data.text = data.text.apply(lambda x: preprocess(x))\n",
    "data.head()\n",
    "\n",
    "data = data.drop(['Unnamed: 0', 'label'], axis=1)\n",
    "data = data.rename(columns = {\"label_num\" : \"Label\"})"
   ]
  },
  {
   "cell_type": "code",
   "execution_count": 6,
   "id": "605295c8",
   "metadata": {},
   "outputs": [
    {
     "name": "stdout",
     "output_type": "stream",
     "text": [
      "Train Data size: 3878\n",
      "Test Data size 1293\n"
     ]
    }
   ],
   "source": [
    "x = data['text']\n",
    "y = data['Label']\n",
    "x_train, x_test, y_train, y_test = train_test_split(x, y, test_size=0.25,\n",
    "                                         random_state=7)\n",
    "print(\"Train Data size:\", len(x_train))\n",
    "print(\"Test Data size\", len(x_test))"
   ]
  },
  {
   "cell_type": "code",
   "execution_count": 7,
   "id": "28a5e6ee",
   "metadata": {},
   "outputs": [
    {
     "name": "stdout",
     "output_type": "stream",
     "text": [
      "Vocabulary Size : 43372\n"
     ]
    }
   ],
   "source": [
    "from keras.preprocessing.text import Tokenizer\n",
    "\n",
    "tokenizer = Tokenizer()\n",
    "tokenizer.fit_on_texts(x_train)\n",
    "\n",
    "word_index = tokenizer.word_index\n",
    "vocab_size = len(tokenizer.word_index) + 1000\n",
    "print(\"Vocabulary Size :\", vocab_size)"
   ]
  },
  {
   "cell_type": "code",
   "execution_count": 8,
   "id": "c99a205c",
   "metadata": {},
   "outputs": [
    {
     "name": "stdout",
     "output_type": "stream",
     "text": [
      "Training X Shape: (3878, 50)\n",
      "Testing X Shape: (1293, 50)\n"
     ]
    }
   ],
   "source": [
    "from keras.preprocessing.sequence import pad_sequences\n",
    "\n",
    "x_train = pad_sequences(tokenizer.texts_to_sequences(x_train),\n",
    "                        maxlen = 50)\n",
    "x_test = pad_sequences(tokenizer.texts_to_sequences(x_test),\n",
    "                       maxlen = 50)\n",
    "\n",
    "print(\"Training X Shape:\",x_train.shape)\n",
    "print(\"Testing X Shape:\",x_test.shape)"
   ]
  },
  {
   "cell_type": "code",
   "execution_count": 9,
   "id": "f6842310",
   "metadata": {},
   "outputs": [],
   "source": [
    "import keras\n",
    "from keras.models import Sequential\n",
    "from keras.layers import Dense, Dropout\n",
    "ann = Sequential()\n",
    "ann.add(Dense(40, activation='relu'))\n",
    "ann.add(Dense(45, activation='relu'))\n",
    "\n",
    "# Adding dropout to prevent overfitting\n",
    "ann.add(Dropout(0.1))\n",
    "ann.add(Dense(1, activation='sigmoid'))"
   ]
  },
  {
   "cell_type": "code",
   "execution_count": 10,
   "id": "453aece5",
   "metadata": {},
   "outputs": [
    {
     "name": "stdout",
     "output_type": "stream",
     "text": [
      "Epoch 1/100\n",
      "111/111 - 0s - loss: 501.4810 - accuracy: 0.5936 - val_loss: 256.7834 - val_accuracy: 0.6342\n",
      "Epoch 2/100\n",
      "111/111 - 0s - loss: 244.4277 - accuracy: 0.6485 - val_loss: 189.8436 - val_accuracy: 0.6582\n",
      "Epoch 3/100\n",
      "111/111 - 0s - loss: 158.5407 - accuracy: 0.6547 - val_loss: 150.8145 - val_accuracy: 0.6326\n",
      "Epoch 4/100\n",
      "111/111 - 0s - loss: 111.6096 - accuracy: 0.6692 - val_loss: 135.1086 - val_accuracy: 0.6489\n",
      "Epoch 5/100\n",
      "111/111 - 0s - loss: 84.1136 - accuracy: 0.6841 - val_loss: 103.8781 - val_accuracy: 0.6133\n",
      "Epoch 6/100\n",
      "111/111 - 0s - loss: 65.4286 - accuracy: 0.6919 - val_loss: 104.1227 - val_accuracy: 0.6752\n",
      "Epoch 7/100\n",
      "111/111 - 0s - loss: 52.8635 - accuracy: 0.6973 - val_loss: 89.9227 - val_accuracy: 0.6543\n",
      "Epoch 8/100\n",
      "111/111 - 0s - loss: 43.5618 - accuracy: 0.7094 - val_loss: 77.0110 - val_accuracy: 0.6342\n",
      "Epoch 9/100\n",
      "111/111 - 0s - loss: 36.7514 - accuracy: 0.7068 - val_loss: 70.8473 - val_accuracy: 0.6450\n",
      "Epoch 10/100\n",
      "111/111 - 0s - loss: 29.9037 - accuracy: 0.7277 - val_loss: 61.3495 - val_accuracy: 0.6342\n",
      "Epoch 11/100\n",
      "111/111 - 0s - loss: 24.4195 - accuracy: 0.7390 - val_loss: 56.5737 - val_accuracy: 0.6427\n",
      "Epoch 12/100\n",
      "111/111 - 0s - loss: 19.9134 - accuracy: 0.7442 - val_loss: 51.0785 - val_accuracy: 0.6597\n",
      "Epoch 13/100\n",
      "111/111 - 0s - loss: 15.8404 - accuracy: 0.7445 - val_loss: 48.2311 - val_accuracy: 0.6543\n",
      "Epoch 14/100\n",
      "111/111 - 0s - loss: 13.3209 - accuracy: 0.7584 - val_loss: 43.5727 - val_accuracy: 0.6628\n",
      "Epoch 15/100\n",
      "111/111 - 0s - loss: 10.6018 - accuracy: 0.7754 - val_loss: 41.9376 - val_accuracy: 0.6574\n",
      "Epoch 16/100\n",
      "111/111 - 0s - loss: 9.0804 - accuracy: 0.7772 - val_loss: 38.9579 - val_accuracy: 0.6744\n",
      "Epoch 17/100\n",
      "111/111 - 0s - loss: 7.5203 - accuracy: 0.7839 - val_loss: 34.1620 - val_accuracy: 0.6574\n",
      "Epoch 18/100\n",
      "111/111 - 0s - loss: 7.2342 - accuracy: 0.7855 - val_loss: 31.5706 - val_accuracy: 0.6643\n",
      "Epoch 19/100\n",
      "111/111 - 0s - loss: 6.0811 - accuracy: 0.7824 - val_loss: 29.3673 - val_accuracy: 0.6852\n",
      "Epoch 20/100\n",
      "111/111 - 0s - loss: 5.1527 - accuracy: 0.7909 - val_loss: 26.4482 - val_accuracy: 0.6883\n",
      "Epoch 21/100\n",
      "111/111 - 0s - loss: 4.4585 - accuracy: 0.8048 - val_loss: 24.6666 - val_accuracy: 0.6922\n",
      "Epoch 22/100\n",
      "111/111 - 0s - loss: 3.3850 - accuracy: 0.8118 - val_loss: 22.4220 - val_accuracy: 0.7015\n",
      "Epoch 23/100\n",
      "111/111 - 0s - loss: 3.1696 - accuracy: 0.8177 - val_loss: 22.1939 - val_accuracy: 0.7239\n",
      "Epoch 24/100\n",
      "111/111 - 0s - loss: 2.6048 - accuracy: 0.7971 - val_loss: 20.1422 - val_accuracy: 0.6914\n",
      "Epoch 25/100\n",
      "111/111 - 0s - loss: 2.3576 - accuracy: 0.8143 - val_loss: 21.3436 - val_accuracy: 0.7069\n",
      "Epoch 26/100\n",
      "111/111 - 0s - loss: 2.1721 - accuracy: 0.8102 - val_loss: 18.2410 - val_accuracy: 0.6968\n",
      "Epoch 27/100\n",
      "111/111 - 0s - loss: 1.6255 - accuracy: 0.8247 - val_loss: 17.9989 - val_accuracy: 0.7301\n",
      "Epoch 28/100\n",
      "111/111 - 0s - loss: 1.9330 - accuracy: 0.8128 - val_loss: 16.9984 - val_accuracy: 0.7193\n",
      "Epoch 29/100\n",
      "111/111 - 0s - loss: 1.2122 - accuracy: 0.8298 - val_loss: 16.5028 - val_accuracy: 0.7177\n",
      "Epoch 30/100\n",
      "111/111 - 0s - loss: 1.3844 - accuracy: 0.8265 - val_loss: 15.3265 - val_accuracy: 0.7138\n",
      "Epoch 31/100\n",
      "111/111 - 0s - loss: 1.2804 - accuracy: 0.8239 - val_loss: 14.9780 - val_accuracy: 0.7401\n",
      "Epoch 32/100\n",
      "111/111 - 0s - loss: 1.1000 - accuracy: 0.8296 - val_loss: 14.9414 - val_accuracy: 0.7479\n",
      "Epoch 33/100\n",
      "111/111 - 0s - loss: 1.1563 - accuracy: 0.8301 - val_loss: 13.7977 - val_accuracy: 0.7363\n",
      "Epoch 34/100\n",
      "111/111 - 0s - loss: 1.2788 - accuracy: 0.8112 - val_loss: 13.6194 - val_accuracy: 0.7324\n",
      "Epoch 35/100\n",
      "111/111 - 0s - loss: 0.8603 - accuracy: 0.8285 - val_loss: 14.0722 - val_accuracy: 0.7401\n",
      "Epoch 36/100\n",
      "111/111 - 0s - loss: 0.9033 - accuracy: 0.8329 - val_loss: 14.1057 - val_accuracy: 0.7556\n",
      "Epoch 37/100\n",
      "111/111 - 0s - loss: 0.9610 - accuracy: 0.8339 - val_loss: 14.8959 - val_accuracy: 0.7463\n",
      "Epoch 38/100\n",
      "111/111 - 0s - loss: 0.9715 - accuracy: 0.8285 - val_loss: 12.1584 - val_accuracy: 0.7556\n",
      "Epoch 39/100\n",
      "111/111 - 0s - loss: 0.7089 - accuracy: 0.8347 - val_loss: 11.6274 - val_accuracy: 0.7285\n",
      "Epoch 40/100\n",
      "111/111 - 0s - loss: 0.6042 - accuracy: 0.8414 - val_loss: 12.9397 - val_accuracy: 0.7370\n",
      "Epoch 41/100\n",
      "111/111 - 0s - loss: 0.7546 - accuracy: 0.8450 - val_loss: 11.1482 - val_accuracy: 0.7417\n",
      "Epoch 42/100\n",
      "111/111 - 0s - loss: 0.7793 - accuracy: 0.8401 - val_loss: 12.1470 - val_accuracy: 0.7548\n",
      "Epoch 43/100\n",
      "111/111 - 0s - loss: 0.6530 - accuracy: 0.8473 - val_loss: 11.3121 - val_accuracy: 0.7224\n",
      "Epoch 44/100\n",
      "111/111 - 0s - loss: 0.6708 - accuracy: 0.8363 - val_loss: 10.6202 - val_accuracy: 0.7602\n",
      "Epoch 45/100\n",
      "111/111 - 0s - loss: 0.6347 - accuracy: 0.8378 - val_loss: 10.2643 - val_accuracy: 0.7595\n",
      "Epoch 46/100\n",
      "111/111 - 0s - loss: 0.6455 - accuracy: 0.8394 - val_loss: 10.2499 - val_accuracy: 0.7541\n",
      "Epoch 47/100\n",
      "111/111 - 0s - loss: 0.7724 - accuracy: 0.8350 - val_loss: 8.7819 - val_accuracy: 0.7456\n",
      "Epoch 48/100\n",
      "111/111 - 0s - loss: 0.6247 - accuracy: 0.8394 - val_loss: 8.8037 - val_accuracy: 0.7401\n",
      "Epoch 49/100\n",
      "111/111 - 0s - loss: 0.7579 - accuracy: 0.8301 - val_loss: 9.3595 - val_accuracy: 0.7131\n",
      "Epoch 50/100\n",
      "111/111 - 0s - loss: 0.5974 - accuracy: 0.8378 - val_loss: 9.0587 - val_accuracy: 0.7463\n",
      "Epoch 51/100\n",
      "111/111 - 0s - loss: 0.5727 - accuracy: 0.8396 - val_loss: 9.3462 - val_accuracy: 0.7618\n",
      "Epoch 52/100\n",
      "111/111 - 0s - loss: 0.5003 - accuracy: 0.8455 - val_loss: 9.7934 - val_accuracy: 0.7456\n",
      "Epoch 53/100\n",
      "111/111 - 0s - loss: 0.4913 - accuracy: 0.8468 - val_loss: 10.0800 - val_accuracy: 0.7602\n",
      "Epoch 54/100\n",
      "111/111 - 0s - loss: 0.4521 - accuracy: 0.8461 - val_loss: 11.3729 - val_accuracy: 0.7664\n",
      "Epoch 55/100\n",
      "111/111 - 0s - loss: 0.5051 - accuracy: 0.8510 - val_loss: 10.6002 - val_accuracy: 0.7432\n",
      "Epoch 56/100\n",
      "111/111 - 0s - loss: 0.5247 - accuracy: 0.8455 - val_loss: 10.1730 - val_accuracy: 0.7602\n",
      "Epoch 57/100\n",
      "111/111 - 0s - loss: 0.4473 - accuracy: 0.8499 - val_loss: 9.8092 - val_accuracy: 0.7595\n",
      "Epoch 58/100\n",
      "111/111 - 0s - loss: 0.4876 - accuracy: 0.8579 - val_loss: 10.1202 - val_accuracy: 0.7672\n",
      "Epoch 59/100\n",
      "111/111 - 0s - loss: 0.4402 - accuracy: 0.8535 - val_loss: 9.0008 - val_accuracy: 0.7517\n",
      "Epoch 60/100\n",
      "111/111 - 0s - loss: 0.5010 - accuracy: 0.8394 - val_loss: 9.3897 - val_accuracy: 0.7626\n",
      "Epoch 61/100\n",
      "111/111 - 0s - loss: 0.4901 - accuracy: 0.8458 - val_loss: 9.5206 - val_accuracy: 0.7510\n",
      "Epoch 62/100\n",
      "111/111 - 0s - loss: 0.5723 - accuracy: 0.8427 - val_loss: 9.7712 - val_accuracy: 0.7610\n",
      "Epoch 63/100\n",
      "111/111 - 0s - loss: 0.5654 - accuracy: 0.8272 - val_loss: 7.7409 - val_accuracy: 0.7548\n",
      "Epoch 64/100\n",
      "111/111 - 0s - loss: 0.5237 - accuracy: 0.8357 - val_loss: 8.2694 - val_accuracy: 0.7672\n",
      "Epoch 65/100\n",
      "111/111 - 0s - loss: 0.4531 - accuracy: 0.8314 - val_loss: 7.8871 - val_accuracy: 0.7610\n",
      "Epoch 66/100\n",
      "111/111 - 0s - loss: 0.4757 - accuracy: 0.8345 - val_loss: 7.4201 - val_accuracy: 0.7494\n",
      "Epoch 67/100\n",
      "111/111 - 0s - loss: 0.4436 - accuracy: 0.8350 - val_loss: 8.4358 - val_accuracy: 0.7610\n",
      "Epoch 68/100\n",
      "111/111 - 0s - loss: 0.4504 - accuracy: 0.8461 - val_loss: 7.8848 - val_accuracy: 0.7587\n",
      "Epoch 69/100\n",
      "111/111 - 0s - loss: 0.4419 - accuracy: 0.8450 - val_loss: 7.5676 - val_accuracy: 0.7633\n",
      "Epoch 70/100\n",
      "111/111 - 0s - loss: 0.4802 - accuracy: 0.8388 - val_loss: 6.9397 - val_accuracy: 0.7649\n",
      "Epoch 71/100\n",
      "111/111 - 0s - loss: 0.3975 - accuracy: 0.8399 - val_loss: 7.3480 - val_accuracy: 0.7680\n",
      "Epoch 72/100\n",
      "111/111 - 0s - loss: 0.4183 - accuracy: 0.8520 - val_loss: 8.5427 - val_accuracy: 0.7718\n",
      "Epoch 73/100\n",
      "111/111 - 0s - loss: 0.3874 - accuracy: 0.8533 - val_loss: 7.4508 - val_accuracy: 0.7695\n",
      "Epoch 74/100\n",
      "111/111 - 0s - loss: 0.4595 - accuracy: 0.8522 - val_loss: 7.7283 - val_accuracy: 0.7680\n",
      "Epoch 75/100\n",
      "111/111 - 0s - loss: 0.3904 - accuracy: 0.8571 - val_loss: 7.2810 - val_accuracy: 0.7804\n",
      "Epoch 76/100\n",
      "111/111 - 0s - loss: 0.6373 - accuracy: 0.8314 - val_loss: 4.1677 - val_accuracy: 0.7711\n",
      "Epoch 77/100\n",
      "111/111 - 0s - loss: 0.4352 - accuracy: 0.8412 - val_loss: 5.0178 - val_accuracy: 0.7742\n",
      "Epoch 78/100\n",
      "111/111 - 0s - loss: 0.4067 - accuracy: 0.8368 - val_loss: 5.7666 - val_accuracy: 0.7680\n",
      "Epoch 79/100\n",
      "111/111 - 0s - loss: 0.4092 - accuracy: 0.8458 - val_loss: 4.9950 - val_accuracy: 0.7626\n",
      "Epoch 80/100\n",
      "111/111 - 0s - loss: 0.5817 - accuracy: 0.8375 - val_loss: 5.6851 - val_accuracy: 0.7718\n"
     ]
    },
    {
     "name": "stdout",
     "output_type": "stream",
     "text": [
      "Epoch 81/100\n",
      "111/111 - 0s - loss: 0.4181 - accuracy: 0.8409 - val_loss: 3.3584 - val_accuracy: 0.7819\n",
      "Epoch 82/100\n",
      "111/111 - 0s - loss: 0.3964 - accuracy: 0.8424 - val_loss: 3.5341 - val_accuracy: 0.7641\n",
      "Epoch 83/100\n",
      "111/111 - 0s - loss: 0.4066 - accuracy: 0.8471 - val_loss: 3.4144 - val_accuracy: 0.7703\n",
      "Epoch 84/100\n",
      "111/111 - 0s - loss: 0.3788 - accuracy: 0.8448 - val_loss: 3.4869 - val_accuracy: 0.7610\n",
      "Epoch 85/100\n",
      "111/111 - 0s - loss: 0.3532 - accuracy: 0.8540 - val_loss: 3.5450 - val_accuracy: 0.7742\n",
      "Epoch 86/100\n",
      "111/111 - 0s - loss: 0.3685 - accuracy: 0.8525 - val_loss: 2.9926 - val_accuracy: 0.7726\n",
      "Epoch 87/100\n",
      "111/111 - 0s - loss: 0.3528 - accuracy: 0.8651 - val_loss: 3.9083 - val_accuracy: 0.7858\n",
      "Epoch 88/100\n",
      "111/111 - 0s - loss: 0.3472 - accuracy: 0.8651 - val_loss: 4.9876 - val_accuracy: 0.7773\n",
      "Epoch 89/100\n",
      "111/111 - 0s - loss: 0.3296 - accuracy: 0.8662 - val_loss: 5.0424 - val_accuracy: 0.7842\n",
      "Epoch 90/100\n",
      "111/111 - 0s - loss: 0.3292 - accuracy: 0.8711 - val_loss: 4.9884 - val_accuracy: 0.7718\n",
      "Epoch 91/100\n",
      "111/111 - 0s - loss: 0.3596 - accuracy: 0.8600 - val_loss: 4.5827 - val_accuracy: 0.7572\n",
      "Epoch 92/100\n",
      "111/111 - 0s - loss: 0.3362 - accuracy: 0.8698 - val_loss: 4.4367 - val_accuracy: 0.7734\n",
      "Epoch 93/100\n",
      "111/111 - 0s - loss: 0.3605 - accuracy: 0.8703 - val_loss: 4.2616 - val_accuracy: 0.7749\n",
      "Epoch 94/100\n",
      "111/111 - 0s - loss: 0.3339 - accuracy: 0.8703 - val_loss: 4.0165 - val_accuracy: 0.7742\n",
      "Epoch 95/100\n",
      "111/111 - 0s - loss: 0.3651 - accuracy: 0.8785 - val_loss: 4.8585 - val_accuracy: 0.7796\n",
      "Epoch 96/100\n",
      "111/111 - 0s - loss: 0.3742 - accuracy: 0.8600 - val_loss: 4.1522 - val_accuracy: 0.7718\n",
      "Epoch 97/100\n",
      "111/111 - 0s - loss: 0.3279 - accuracy: 0.8739 - val_loss: 4.0142 - val_accuracy: 0.7819\n",
      "Epoch 98/100\n",
      "111/111 - 0s - loss: 0.2970 - accuracy: 0.8827 - val_loss: 4.4655 - val_accuracy: 0.7804\n",
      "Epoch 99/100\n",
      "111/111 - 0s - loss: 0.2907 - accuracy: 0.8816 - val_loss: 3.9790 - val_accuracy: 0.7757\n",
      "Epoch 100/100\n",
      "111/111 - 0s - loss: 0.3426 - accuracy: 0.8801 - val_loss: 4.0290 - val_accuracy: 0.7804\n"
     ]
    }
   ],
   "source": [
    "ann.compile(optimizer='adam', loss='binary_crossentropy', metrics=['accuracy'])\n",
    "history = ann.fit(x_train, y_train,\n",
    "                  batch_size=35,\n",
    "                  epochs=100,\n",
    "                  verbose=2\n",
    "                  ,\n",
    "                  validation_data=(x_test, y_test))"
   ]
  },
  {
   "cell_type": "code",
   "execution_count": 11,
   "id": "3644815d",
   "metadata": {},
   "outputs": [
    {
     "name": "stdout",
     "output_type": "stream",
     "text": [
      "WARNING:tensorflow:From <ipython-input-11-ca2e0b3bf079>:2: Sequential.predict_proba (from tensorflow.python.keras.engine.sequential) is deprecated and will be removed after 2021-01-01.\n",
      "Instructions for updating:\n",
      "Please use `model.predict()` instead.\n"
     ]
    }
   ],
   "source": [
    "from sklearn.metrics import precision_recall_curve\n",
    "y_pred=ann.predict_proba(x_test)\n",
    "p = precision_recall_curve(y_test,y_pred)"
   ]
  },
  {
   "cell_type": "code",
   "execution_count": 12,
   "id": "8ba2dd79",
   "metadata": {},
   "outputs": [
    {
     "data": {
      "image/png": "[encoded data removed]",
      "text/plain": [
       "<Figure size 432x288 with 1 Axes>"
      ]
     },
     "metadata": {
      "needs_background": "light"
     },
     "output_type": "display_data"
    }
   ],
   "source": [
    "plt.plot(p[1], p[0], label='ANN')\n",
    "# axis labels\n",
    "plt.xlabel('Recall')\n",
    "plt.ylabel('Precision')\n",
    "# show the legend\n",
    "plt.legend()\n",
    "# show the plot\n",
    "plt.show()"
   ]
  },
  {
   "cell_type": "code",
   "execution_count": null,
   "id": "2f67f2ad",
   "metadata": {},
   "outputs": [],
   "source": []
  }
 ],
 "metadata": {
  "kernelspec": {
   "display_name": "Python 3",
   "language": "python",
   "name": "python3"
  },
  "language_info": {
   "codemirror_mode": {
    "name": "ipython",
    "version": 3
   },
   "file_extension": ".py",
   "mimetype": "text/x-python",
   "name": "python",
   "nbconvert_exporter": "python",
   "pygments_lexer": "ipython3",
   "version": "3.8.8"
  }
 },
 "nbformat": 4,
 "nbformat_minor": 5
}
