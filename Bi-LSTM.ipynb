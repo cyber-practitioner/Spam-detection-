{
 "cells": [
  {
   "cell_type": "code",
   "execution_count": 1,
   "id": "bca60f63",
   "metadata": {},
   "outputs": [
    {
     "name": "stderr",
     "output_type": "stream",
     "text": [
      "[nltk_data] Downloading package stopwords to\n",
      "[nltk_data]     C:\\Users\\FIREBLZE\\AppData\\Roaming\\nltk_data...\n",
      "[nltk_data]   Package stopwords is already up-to-date!\n"
     ]
    }
   ],
   "source": [
    "import pandas as pd\n",
    "import numpy as np\n",
    "import tensorflow as tf\n",
    "import matplotlib.pyplot as plt\n",
    "import seaborn as sns\n",
    "import re\n",
    "from sklearn.metrics import *\n",
    "\n",
    "from sklearn.metrics import accuracy_score\n",
    "\n",
    "import nltk \n",
    "nltk.download('stopwords')\n",
    "from nltk.corpus import stopwords\n",
    "from nltk.stem import SnowballStemmer\n",
    "\n",
    "from sklearn.model_selection import train_test_split\n",
    "from sklearn.preprocessing import LabelEncoder\n",
    "from keras import regularizers "
   ]
  },
  {
   "cell_type": "code",
   "execution_count": 2,
   "id": "94ddcad7",
   "metadata": {},
   "outputs": [
    {
     "name": "stdout",
     "output_type": "stream",
     "text": [
      "<class 'pandas.core.frame.DataFrame'>\n",
      "RangeIndex: 5171 entries, 0 to 5170\n",
      "Data columns (total 4 columns):\n",
      " #   Column      Non-Null Count  Dtype \n",
      "---  ------      --------------  ----- \n",
      " 0   Unnamed: 0  5171 non-null   int64 \n",
      " 1   label       5171 non-null   object\n",
      " 2   text        5171 non-null   object\n",
      " 3   label_num   5171 non-null   int64 \n",
      "dtypes: int64(2), object(2)\n",
      "memory usage: 161.7+ KB\n"
     ]
    }
   ],
   "source": [
    "data = pd.read_csv('spam_ham_dataset.csv')\n",
    "data.info()\n",
    "data=data.replace(to_replace =\"ham\",\n",
    "                 value =\"Legit\")"
   ]
  },
  {
   "cell_type": "code",
   "execution_count": 3,
   "id": "e3a2f9a7",
   "metadata": {},
   "outputs": [
    {
     "data": {
      "text/plain": [
       "<AxesSubplot:xlabel='label', ylabel='count'>"
      ]
     },
     "execution_count": 3,
     "metadata": {},
     "output_type": "execute_result"
    },
    {
     "data": {
      "image/png": "[encoded data removed]",
      "text/plain": [
       "<Figure size 432x288 with 1 Axes>"
      ]
     },
     "metadata": {
      "needs_background": "light"
     },
     "output_type": "display_data"
    }
   ],
   "source": [
    "sns.countplot(x=\"label\", data=data)"
   ]
  },
  {
   "cell_type": "code",
   "execution_count": 4,
   "id": "82f010d8",
   "metadata": {},
   "outputs": [],
   "source": [
    "stop_words = stopwords.words('english')\n",
    "stemmer = SnowballStemmer('english')\n",
    "\n",
    "text_cleaning_re = \"@\\S+|https?:\\S+|http?:\\S+|[^A-Za-z0-9]:\\S+|subject:\\S+|nbsp\""
   ]
  },
  {
   "cell_type": "code",
   "execution_count": 5,
   "id": "c9130a3d",
   "metadata": {},
   "outputs": [
    {
     "data": {
      "text/html": [
       "<div>\n",
       "<style scoped>\n",
       "    .dataframe tbody tr th:only-of-type {\n",
       "        vertical-align: middle;\n",
       "    }\n",
       "\n",
       "    .dataframe tbody tr th {\n",
       "        vertical-align: top;\n",
       "    }\n",
       "\n",
       "    .dataframe thead th {\n",
       "        text-align: right;\n",
       "    }\n",
       "</style>\n",
       "<table border=\"1\" class=\"dataframe\">\n",
       "  <thead>\n",
       "    <tr style=\"text-align: right;\">\n",
       "      <th></th>\n",
       "      <th>Unnamed: 0</th>\n",
       "      <th>label</th>\n",
       "      <th>text</th>\n",
       "      <th>label_num</th>\n",
       "    </tr>\n",
       "  </thead>\n",
       "  <tbody>\n",
       "    <tr>\n",
       "      <th>0</th>\n",
       "      <td>605</td>\n",
       "      <td>Legit</td>\n",
       "      <td>subject: enron methanol ; meter # : 988291 fol...</td>\n",
       "      <td>0</td>\n",
       "    </tr>\n",
       "    <tr>\n",
       "      <th>1</th>\n",
       "      <td>2349</td>\n",
       "      <td>Legit</td>\n",
       "      <td>subject: hpl nom january 9 , 2001 ( see attach...</td>\n",
       "      <td>0</td>\n",
       "    </tr>\n",
       "    <tr>\n",
       "      <th>2</th>\n",
       "      <td>3624</td>\n",
       "      <td>Legit</td>\n",
       "      <td>subject: neon retreat ho ho ho , ' around wond...</td>\n",
       "      <td>0</td>\n",
       "    </tr>\n",
       "    <tr>\n",
       "      <th>3</th>\n",
       "      <td>4685</td>\n",
       "      <td>spam</td>\n",
       "      <td>subject: photoshop , windows , office . cheap ...</td>\n",
       "      <td>1</td>\n",
       "    </tr>\n",
       "    <tr>\n",
       "      <th>4</th>\n",
       "      <td>2030</td>\n",
       "      <td>Legit</td>\n",
       "      <td>subject: : indian springs deal book teco pvr r...</td>\n",
       "      <td>0</td>\n",
       "    </tr>\n",
       "  </tbody>\n",
       "</table>\n",
       "</div>"
      ],
      "text/plain": [
       "   Unnamed: 0  label                                               text  \\\n",
       "0         605  Legit  subject: enron methanol ; meter # : 988291 fol...   \n",
       "1        2349  Legit  subject: hpl nom january 9 , 2001 ( see attach...   \n",
       "2        3624  Legit  subject: neon retreat ho ho ho , ' around wond...   \n",
       "3        4685   spam  subject: photoshop , windows , office . cheap ...   \n",
       "4        2030  Legit  subject: : indian springs deal book teco pvr r...   \n",
       "\n",
       "   label_num  \n",
       "0          0  \n",
       "1          0  \n",
       "2          0  \n",
       "3          1  \n",
       "4          0  "
      ]
     },
     "execution_count": 5,
     "metadata": {},
     "output_type": "execute_result"
    }
   ],
   "source": [
    "def preprocess(text, stem=False):\n",
    "    text = re.sub(text_cleaning_re, ' ', str(text).lower()).strip()\n",
    "    tokens = []\n",
    "    for token in text.split():\n",
    "        if token not in stop_words:\n",
    "            if stem:\n",
    "                tokens.append(stemmer.stem(token))\n",
    "            else:\n",
    "                tokens.append(token)\n",
    "    return \" \".join(tokens)\n",
    "\n",
    "data.text = data.text.apply(lambda x: preprocess(x))\n",
    "data.head()\n"
   ]
  },
  {
   "cell_type": "code",
   "execution_count": 6,
   "id": "2eca8b3a",
   "metadata": {},
   "outputs": [
    {
     "data": {
      "text/html": [
       "<div>\n",
       "<style scoped>\n",
       "    .dataframe tbody tr th:only-of-type {\n",
       "        vertical-align: middle;\n",
       "    }\n",
       "\n",
       "    .dataframe tbody tr th {\n",
       "        vertical-align: top;\n",
       "    }\n",
       "\n",
       "    .dataframe thead th {\n",
       "        text-align: right;\n",
       "    }\n",
       "</style>\n",
       "<table border=\"1\" class=\"dataframe\">\n",
       "  <thead>\n",
       "    <tr style=\"text-align: right;\">\n",
       "      <th></th>\n",
       "      <th>text</th>\n",
       "      <th>Label</th>\n",
       "    </tr>\n",
       "  </thead>\n",
       "  <tbody>\n",
       "    <tr>\n",
       "      <th>0</th>\n",
       "      <td>subject: enron methanol ; meter # : 988291 fol...</td>\n",
       "      <td>0</td>\n",
       "    </tr>\n",
       "    <tr>\n",
       "      <th>1</th>\n",
       "      <td>subject: hpl nom january 9 , 2001 ( see attach...</td>\n",
       "      <td>0</td>\n",
       "    </tr>\n",
       "    <tr>\n",
       "      <th>2</th>\n",
       "      <td>subject: neon retreat ho ho ho , ' around wond...</td>\n",
       "      <td>0</td>\n",
       "    </tr>\n",
       "    <tr>\n",
       "      <th>3</th>\n",
       "      <td>subject: photoshop , windows , office . cheap ...</td>\n",
       "      <td>1</td>\n",
       "    </tr>\n",
       "    <tr>\n",
       "      <th>4</th>\n",
       "      <td>subject: : indian springs deal book teco pvr r...</td>\n",
       "      <td>0</td>\n",
       "    </tr>\n",
       "    <tr>\n",
       "      <th>...</th>\n",
       "      <td>...</td>\n",
       "      <td>...</td>\n",
       "    </tr>\n",
       "    <tr>\n",
       "      <th>5166</th>\n",
       "      <td>subject: put 10 ft transport volumes decreased...</td>\n",
       "      <td>0</td>\n",
       "    </tr>\n",
       "    <tr>\n",
       "      <th>5167</th>\n",
       "      <td>subject: 3 / 4 / 2000 following noms hpl ' tak...</td>\n",
       "      <td>0</td>\n",
       "    </tr>\n",
       "    <tr>\n",
       "      <th>5168</th>\n",
       "      <td>subject: calpine daily gas nomination &gt; &gt; juli...</td>\n",
       "      <td>0</td>\n",
       "    </tr>\n",
       "    <tr>\n",
       "      <th>5169</th>\n",
       "      <td>subject: industrial worksheets august 2000 act...</td>\n",
       "      <td>0</td>\n",
       "    </tr>\n",
       "    <tr>\n",
       "      <th>5170</th>\n",
       "      <td>subject: important online banking alert dear v...</td>\n",
       "      <td>1</td>\n",
       "    </tr>\n",
       "  </tbody>\n",
       "</table>\n",
       "<p>5171 rows × 2 columns</p>\n",
       "</div>"
      ],
      "text/plain": [
       "                                                   text  Label\n",
       "0     subject: enron methanol ; meter # : 988291 fol...      0\n",
       "1     subject: hpl nom january 9 , 2001 ( see attach...      0\n",
       "2     subject: neon retreat ho ho ho , ' around wond...      0\n",
       "3     subject: photoshop , windows , office . cheap ...      1\n",
       "4     subject: : indian springs deal book teco pvr r...      0\n",
       "...                                                 ...    ...\n",
       "5166  subject: put 10 ft transport volumes decreased...      0\n",
       "5167  subject: 3 / 4 / 2000 following noms hpl ' tak...      0\n",
       "5168  subject: calpine daily gas nomination > > juli...      0\n",
       "5169  subject: industrial worksheets august 2000 act...      0\n",
       "5170  subject: important online banking alert dear v...      1\n",
       "\n",
       "[5171 rows x 2 columns]"
      ]
     },
     "execution_count": 6,
     "metadata": {},
     "output_type": "execute_result"
    }
   ],
   "source": [
    "data = data.drop(['Unnamed: 0', 'label'], axis=1)\n",
    "data = data.rename(columns = {\"label_num\" : \"Label\"})\n",
    "data"
   ]
  },
  {
   "cell_type": "code",
   "execution_count": 7,
   "id": "4ab2a62b",
   "metadata": {},
   "outputs": [
    {
     "name": "stdout",
     "output_type": "stream",
     "text": [
      "Train Data size: 3878\n",
      "Test Data size 1293\n"
     ]
    }
   ],
   "source": [
    "x = data['text']\n",
    "y = data['Label']\n",
    "x_train, x_test, y_train, y_test = train_test_split(x, y, test_size=0.25,\n",
    "                                         random_state=7)\n",
    "print(\"Train Data size:\", len(x_train))\n",
    "print(\"Test Data size\", len(x_test))"
   ]
  },
  {
   "cell_type": "code",
   "execution_count": 8,
   "id": "ad542364",
   "metadata": {},
   "outputs": [
    {
     "name": "stdout",
     "output_type": "stream",
     "text": [
      "Vocabulary Size : 43372\n"
     ]
    }
   ],
   "source": [
    "from keras.preprocessing.text import Tokenizer\n",
    "\n",
    "tokenizer = Tokenizer()\n",
    "tokenizer.fit_on_texts(x_train)\n",
    "\n",
    "word_index = tokenizer.word_index\n",
    "vocab_size = len(tokenizer.word_index) + 1000\n",
    "print(\"Vocabulary Size :\", vocab_size)"
   ]
  },
  {
   "cell_type": "code",
   "execution_count": 9,
   "id": "ee7d2e98",
   "metadata": {},
   "outputs": [
    {
     "name": "stdout",
     "output_type": "stream",
     "text": [
      "Training X Shape: (3878, 50)\n",
      "Testing X Shape: (1293, 50)\n"
     ]
    }
   ],
   "source": [
    "from keras.preprocessing.sequence import pad_sequences\n",
    "\n",
    "x_train = pad_sequences(tokenizer.texts_to_sequences(x_train),\n",
    "                        maxlen = 50)\n",
    "x_test = pad_sequences(tokenizer.texts_to_sequences(x_test),\n",
    "                       maxlen = 50)\n",
    "\n",
    "print(\"Training X Shape:\",x_train.shape)\n",
    "print(\"Testing X Shape:\",x_test.shape)"
   ]
  },
  {
   "cell_type": "code",
   "execution_count": 10,
   "id": "5a7b3197",
   "metadata": {
    "scrolled": true
   },
   "outputs": [
    {
     "name": "stdout",
     "output_type": "stream",
     "text": [
      "Epoch 1/40\n",
      "122/122 - 3s - loss: 0.5675 - accuracy: 0.7071 - val_loss: 0.3881 - val_accuracy: 0.7579\n",
      "Epoch 2/40\n",
      "122/122 - 3s - loss: 0.2318 - accuracy: 0.9456 - val_loss: 0.1603 - val_accuracy: 0.9706\n",
      "Epoch 3/40\n",
      "122/122 - 3s - loss: 0.0994 - accuracy: 0.9920 - val_loss: 0.1229 - val_accuracy: 0.9675\n",
      "Epoch 4/40\n",
      "122/122 - 3s - loss: 0.0519 - accuracy: 0.9977 - val_loss: 0.0958 - val_accuracy: 0.9714\n",
      "Epoch 5/40\n",
      "122/122 - 3s - loss: 0.0298 - accuracy: 0.9987 - val_loss: 0.0886 - val_accuracy: 0.9706\n",
      "Epoch 6/40\n",
      "122/122 - 3s - loss: 0.0186 - accuracy: 0.9995 - val_loss: 0.0861 - val_accuracy: 0.9722\n",
      "Epoch 7/40\n",
      "122/122 - 2s - loss: 0.0151 - accuracy: 0.9990 - val_loss: 0.0876 - val_accuracy: 0.9714\n",
      "Epoch 8/40\n",
      "122/122 - 3s - loss: 0.0103 - accuracy: 0.9995 - val_loss: 0.0860 - val_accuracy: 0.9729\n",
      "Epoch 9/40\n",
      "122/122 - 3s - loss: 0.0089 - accuracy: 0.9990 - val_loss: 0.0880 - val_accuracy: 0.9714\n",
      "Epoch 10/40\n",
      "122/122 - 3s - loss: 0.0072 - accuracy: 0.9995 - val_loss: 0.0896 - val_accuracy: 0.9753\n",
      "Epoch 11/40\n",
      "122/122 - 3s - loss: 0.0056 - accuracy: 0.9995 - val_loss: 0.1040 - val_accuracy: 0.9722\n",
      "Epoch 12/40\n",
      "122/122 - 3s - loss: 0.0066 - accuracy: 0.9987 - val_loss: 0.0952 - val_accuracy: 0.9722\n",
      "Epoch 13/40\n",
      "122/122 - 3s - loss: 0.0031 - accuracy: 1.0000 - val_loss: 0.0995 - val_accuracy: 0.9722\n",
      "Epoch 14/40\n",
      "122/122 - 3s - loss: 0.0047 - accuracy: 0.9995 - val_loss: 0.0995 - val_accuracy: 0.9729\n",
      "Epoch 15/40\n",
      "122/122 - 3s - loss: 0.0024 - accuracy: 1.0000 - val_loss: 0.1011 - val_accuracy: 0.9753\n",
      "Epoch 16/40\n",
      "122/122 - 3s - loss: 0.0030 - accuracy: 0.9997 - val_loss: 0.1024 - val_accuracy: 0.9745\n",
      "Epoch 17/40\n",
      "122/122 - 3s - loss: 0.0019 - accuracy: 1.0000 - val_loss: 0.1050 - val_accuracy: 0.9745\n",
      "Epoch 18/40\n",
      "122/122 - 3s - loss: 0.0049 - accuracy: 0.9990 - val_loss: 0.1073 - val_accuracy: 0.9753\n",
      "Epoch 19/40\n",
      "122/122 - 3s - loss: 0.0029 - accuracy: 0.9997 - val_loss: 0.1089 - val_accuracy: 0.9768\n",
      "Epoch 20/40\n",
      "122/122 - 3s - loss: 0.0028 - accuracy: 0.9997 - val_loss: 0.1032 - val_accuracy: 0.9776\n",
      "Epoch 21/40\n",
      "122/122 - 3s - loss: 0.0023 - accuracy: 0.9997 - val_loss: 0.1063 - val_accuracy: 0.9768\n",
      "Epoch 22/40\n",
      "122/122 - 2s - loss: 0.0014 - accuracy: 1.0000 - val_loss: 0.1074 - val_accuracy: 0.9760\n",
      "Epoch 23/40\n",
      "122/122 - 3s - loss: 0.0013 - accuracy: 1.0000 - val_loss: 0.1105 - val_accuracy: 0.9760\n",
      "Epoch 24/40\n",
      "122/122 - 3s - loss: 0.0012 - accuracy: 1.0000 - val_loss: 0.1137 - val_accuracy: 0.9753\n",
      "Epoch 25/40\n",
      "122/122 - 3s - loss: 0.0011 - accuracy: 1.0000 - val_loss: 0.1160 - val_accuracy: 0.9760\n",
      "Epoch 26/40\n",
      "122/122 - 3s - loss: 0.0010 - accuracy: 1.0000 - val_loss: 0.1177 - val_accuracy: 0.9760\n",
      "Epoch 27/40\n",
      "122/122 - 3s - loss: 0.0020 - accuracy: 0.9997 - val_loss: 0.1140 - val_accuracy: 0.9768\n",
      "Epoch 28/40\n",
      "122/122 - 3s - loss: 9.7297e-04 - accuracy: 1.0000 - val_loss: 0.1179 - val_accuracy: 0.9753\n",
      "Epoch 29/40\n",
      "122/122 - 3s - loss: 9.1920e-04 - accuracy: 1.0000 - val_loss: 0.1190 - val_accuracy: 0.9760\n",
      "Epoch 30/40\n",
      "122/122 - 3s - loss: 8.7640e-04 - accuracy: 1.0000 - val_loss: 0.1177 - val_accuracy: 0.9760\n",
      "Epoch 31/40\n",
      "122/122 - 3s - loss: 8.3886e-04 - accuracy: 1.0000 - val_loss: 0.1189 - val_accuracy: 0.9760\n",
      "Epoch 32/40\n",
      "122/122 - 3s - loss: 8.0513e-04 - accuracy: 1.0000 - val_loss: 0.1203 - val_accuracy: 0.9760\n",
      "Epoch 33/40\n",
      "122/122 - 3s - loss: 8.1337e-04 - accuracy: 1.0000 - val_loss: 0.1206 - val_accuracy: 0.9753\n",
      "Epoch 34/40\n",
      "122/122 - 3s - loss: 7.6233e-04 - accuracy: 1.0000 - val_loss: 0.1197 - val_accuracy: 0.9753\n",
      "Epoch 35/40\n",
      "122/122 - 3s - loss: 7.3681e-04 - accuracy: 1.0000 - val_loss: 0.1199 - val_accuracy: 0.9753\n",
      "Epoch 36/40\n",
      "122/122 - 3s - loss: 7.1764e-04 - accuracy: 1.0000 - val_loss: 0.1222 - val_accuracy: 0.9753\n",
      "Epoch 37/40\n",
      "122/122 - 3s - loss: 7.2986e-04 - accuracy: 1.0000 - val_loss: 0.1214 - val_accuracy: 0.9760\n",
      "Epoch 38/40\n",
      "122/122 - 3s - loss: 6.8877e-04 - accuracy: 1.0000 - val_loss: 0.1240 - val_accuracy: 0.9783\n",
      "Epoch 39/40\n",
      "122/122 - 3s - loss: 6.6809e-04 - accuracy: 1.0000 - val_loss: 0.1259 - val_accuracy: 0.9768\n",
      "Epoch 40/40\n",
      "122/122 - 3s - loss: 6.5025e-04 - accuracy: 1.0000 - val_loss: 0.1272 - val_accuracy: 0.9768\n"
     ]
    }
   ],
   "source": [
    "MAX_SEQUENCE_LENGTH = 50\n",
    "n_lstm = 6\n",
    "drop_lstm =0.2\n",
    "embeding_dim = 16\n",
    "drop_value = 0.2\n",
    "n_dense = 24\n",
    "num_epochs = 29\n",
    "from keras.layers import RepeatVector\n",
    "\n",
    "from tensorflow.keras.models import Sequential\n",
    "from tensorflow.keras.layers import Embedding, GlobalAveragePooling1D, Dense, Dropout, LSTM, Bidirectional, GRU\n",
    "from keras.models import Sequential\n",
    "from keras.layers import Dense, Dropout\n",
    "bi_lstm = Sequential()\n",
    "bi_lstm.add(Embedding(vocab_size, embeding_dim, input_length=MAX_SEQUENCE_LENGTH))\n",
    "bi_lstm.add(Bidirectional(LSTM(4, dropout=drop_lstm, return_sequences=False,activity_regularizer=regularizers.l2(1e-4))))\n",
    "bi_lstm.add(Dense(1, activation='sigmoid'))\n",
    "bi_lstm.compile(loss = 'binary_crossentropy', optimizer = 'adam', metrics=['accuracy'])\n",
    "# Training\n",
    "num_epochs = 40\n",
    "\n",
    "history2 = bi_lstm.fit(x_train, y_train, epochs=num_epochs,\n",
    "                    validation_data=(x_test, y_test),\n",
    "                     verbose=2)"
   ]
  },
  {
   "cell_type": "code",
   "execution_count": 11,
   "id": "fbb687cd",
   "metadata": {},
   "outputs": [
    {
     "name": "stdout",
     "output_type": "stream",
     "text": [
      "Our accuracy is %97.67981171607971\n"
     ]
    }
   ],
   "source": [
    "# make predictions\n",
    "trainPredict3 = bi_lstm.predict(x_train, batch_size=256)\n",
    "bi_lstm.reset_states()\n",
    "testPredict3 = bi_lstm.predict(x_test, batch_size=256)\n",
    "predicted3=np.concatenate((trainPredict3,testPredict3),axis=0)\n",
    "trainScore3 = bi_lstm.evaluate(x_test, y_test, verbose=0)\n",
    "print(\"Our accuracy is %{}\".format(trainScore3[1]*100))"
   ]
  },
  {
   "cell_type": "markdown",
   "id": "43e2bb9e",
   "metadata": {},
   "source": [
    "### P-R curve"
   ]
  },
  {
   "cell_type": "code",
   "execution_count": 13,
   "id": "1aa04a5a",
   "metadata": {},
   "outputs": [
    {
     "data": {
      "text/plain": [
       "<sklearn.metrics._plot.precision_recall_curve.PrecisionRecallDisplay at 0x23606ffcfa0>"
      ]
     },
     "execution_count": 13,
     "metadata": {},
     "output_type": "execute_result"
    },
    {
     "data": {
      "image/png": "[encoded data removed]",
      "text/plain": [
       "<Figure size 432x288 with 1 Axes>"
      ]
     },
     "metadata": {
      "needs_background": "light"
     },
     "output_type": "display_data"
    }
   ],
   "source": [
    "from sklearn.metrics import precision_recall_curve\n",
    "\n",
    "p,r,_ = precision_recall_curve(y_test,testPredict3)\n",
    "auc_score = auc(r, p)\n",
    "disp = PrecisionRecallDisplay(precision=p, recall=r)\n",
    "disp.plot()"
   ]
  },
  {
   "cell_type": "code",
   "execution_count": 14,
   "id": "c30a42cb",
   "metadata": {},
   "outputs": [
    {
     "name": "stdout",
     "output_type": "stream",
     "text": [
      "ROC AUC: 0.988867\n"
     ]
    }
   ],
   "source": [
    "print('ROC AUC: %f' % auc_score)"
   ]
  },
  {
   "cell_type": "code",
   "execution_count": null,
   "id": "7d7569e7",
   "metadata": {},
   "outputs": [],
   "source": [
    "metrics_LSTM = pd.DataFrame(history2.history)\n",
    "\n",
    "metrics_LSTM.rename(columns= {'loss': 'Training_Loss', 'accuracy': 'Training_Accuracy', \n",
    "                         'val_loss': 'Validation_Loss', 'val_accuracy': 'Validation_Accuracy'}, \n",
    "               inplace = True)\n",
    "\n",
    "def plot_graphs(var1, var2, string):\n",
    "    metrics_LSTM[[var1, var2]].plot()\n",
    "    plt.title('Bi-LSTM Model: Training and Validation ' + string)\n",
    "    plt.xlabel ('Number of epochs')\n",
    "    plt.ylabel(string)\n",
    "    plt.legend([var1, var2])\n",
    "\n",
    "plot_graphs('Training_Loss', 'Validation_Loss', 'loss')\n",
    "plot_graphs('Training_Accuracy', 'Validation_Accuracy', 'accuracy')"
   ]
  },
  {
   "cell_type": "code",
   "execution_count": null,
   "id": "971c63ba",
   "metadata": {},
   "outputs": [],
   "source": []
  }
 ],
 "metadata": {
  "kernelspec": {
   "display_name": "Python 3",
   "language": "python",
   "name": "python3"
  },
  "language_info": {
   "codemirror_mode": {
    "name": "ipython",
    "version": 3
   },
   "file_extension": ".py",
   "mimetype": "text/x-python",
   "name": "python",
   "nbconvert_exporter": "python",
   "pygments_lexer": "ipython3",
   "version": "3.8.8"
  }
 },
 "nbformat": 4,
 "nbformat_minor": 5
}
