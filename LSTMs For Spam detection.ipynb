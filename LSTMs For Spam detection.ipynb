{
 "cells": [
  {
   "cell_type": "code",
   "execution_count": 1,
   "id": "099b12a8",
   "metadata": {},
   "outputs": [
    {
     "name": "stderr",
     "output_type": "stream",
     "text": [
      "[nltk_data] Downloading package stopwords to\n",
      "[nltk_data]     C:\\Users\\FIREBLZE\\AppData\\Roaming\\nltk_data...\n",
      "[nltk_data]   Package stopwords is already up-to-date!\n"
     ]
    }
   ],
   "source": [
    "import pandas as pd\n",
    "import numpy as np\n",
    "import tensorflow as tf\n",
    "import matplotlib.pyplot as plt\n",
    "import seaborn as sns\n",
    "import re\n",
    "from sklearn.metrics import *\n",
    "\n",
    "from sklearn.metrics import accuracy_score\n",
    "\n",
    "import nltk \n",
    "nltk.download('stopwords')\n",
    "from nltk.corpus import stopwords\n",
    "from nltk.stem import SnowballStemmer\n",
    "\n",
    "from sklearn.model_selection import train_test_split\n",
    "from sklearn.preprocessing import LabelEncoder\n",
    "from keras import regularizers "
   ]
  },
  {
   "cell_type": "code",
   "execution_count": 2,
   "id": "6f6b56da",
   "metadata": {},
   "outputs": [
    {
     "name": "stdout",
     "output_type": "stream",
     "text": [
      "<class 'pandas.core.frame.DataFrame'>\n",
      "RangeIndex: 5171 entries, 0 to 5170\n",
      "Data columns (total 4 columns):\n",
      " #   Column      Non-Null Count  Dtype \n",
      "---  ------      --------------  ----- \n",
      " 0   Unnamed: 0  5171 non-null   int64 \n",
      " 1   label       5171 non-null   object\n",
      " 2   text        5171 non-null   object\n",
      " 3   label_num   5171 non-null   int64 \n",
      "dtypes: int64(2), object(2)\n",
      "memory usage: 161.7+ KB\n"
     ]
    }
   ],
   "source": [
    "data = pd.read_csv('spam_ham_dataset.csv')\n",
    "data.info()\n",
    "data=data.replace(to_replace =\"ham\",\n",
    "                 value =\"Legit\")"
   ]
  },
  {
   "cell_type": "code",
   "execution_count": 3,
   "id": "461416d0",
   "metadata": {},
   "outputs": [
    {
     "data": {
      "text/plain": [
       "<AxesSubplot:xlabel='label', ylabel='count'>"
      ]
     },
     "execution_count": 3,
     "metadata": {},
     "output_type": "execute_result"
    },
    {
     "data": {
      "image/png": "[encoded data removed]",
      "text/plain": [
       "<Figure size 432x288 with 1 Axes>"
      ]
     },
     "metadata": {
      "needs_background": "light"
     },
     "output_type": "display_data"
    }
   ],
   "source": [
    "sns.countplot(x=\"label\", data=data)"
   ]
  },
  {
   "cell_type": "code",
   "execution_count": 4,
   "id": "4f66353b",
   "metadata": {},
   "outputs": [],
   "source": [
    "stop_words = stopwords.words('english')\n",
    "stemmer = SnowballStemmer('english')\n",
    "\n",
    "text_cleaning_re = \"@\\S+|https?:\\S+|http?:\\S+|[^A-Za-z0-9]:\\S+|subject:\\S+|nbsp\""
   ]
  },
  {
   "cell_type": "code",
   "execution_count": 5,
   "id": "60c8aa01",
   "metadata": {},
   "outputs": [
    {
     "data": {
      "text/html": [
       "<div>\n",
       "<style scoped>\n",
       "    .dataframe tbody tr th:only-of-type {\n",
       "        vertical-align: middle;\n",
       "    }\n",
       "\n",
       "    .dataframe tbody tr th {\n",
       "        vertical-align: top;\n",
       "    }\n",
       "\n",
       "    .dataframe thead th {\n",
       "        text-align: right;\n",
       "    }\n",
       "</style>\n",
       "<table border=\"1\" class=\"dataframe\">\n",
       "  <thead>\n",
       "    <tr style=\"text-align: right;\">\n",
       "      <th></th>\n",
       "      <th>Unnamed: 0</th>\n",
       "      <th>label</th>\n",
       "      <th>text</th>\n",
       "      <th>label_num</th>\n",
       "    </tr>\n",
       "  </thead>\n",
       "  <tbody>\n",
       "    <tr>\n",
       "      <th>0</th>\n",
       "      <td>605</td>\n",
       "      <td>Legit</td>\n",
       "      <td>subject: enron methanol ; meter # : 988291 fol...</td>\n",
       "      <td>0</td>\n",
       "    </tr>\n",
       "    <tr>\n",
       "      <th>1</th>\n",
       "      <td>2349</td>\n",
       "      <td>Legit</td>\n",
       "      <td>subject: hpl nom january 9 , 2001 ( see attach...</td>\n",
       "      <td>0</td>\n",
       "    </tr>\n",
       "    <tr>\n",
       "      <th>2</th>\n",
       "      <td>3624</td>\n",
       "      <td>Legit</td>\n",
       "      <td>subject: neon retreat ho ho ho , ' around wond...</td>\n",
       "      <td>0</td>\n",
       "    </tr>\n",
       "    <tr>\n",
       "      <th>3</th>\n",
       "      <td>4685</td>\n",
       "      <td>spam</td>\n",
       "      <td>subject: photoshop , windows , office . cheap ...</td>\n",
       "      <td>1</td>\n",
       "    </tr>\n",
       "    <tr>\n",
       "      <th>4</th>\n",
       "      <td>2030</td>\n",
       "      <td>Legit</td>\n",
       "      <td>subject: : indian springs deal book teco pvr r...</td>\n",
       "      <td>0</td>\n",
       "    </tr>\n",
       "  </tbody>\n",
       "</table>\n",
       "</div>"
      ],
      "text/plain": [
       "   Unnamed: 0  label                                               text  \\\n",
       "0         605  Legit  subject: enron methanol ; meter # : 988291 fol...   \n",
       "1        2349  Legit  subject: hpl nom january 9 , 2001 ( see attach...   \n",
       "2        3624  Legit  subject: neon retreat ho ho ho , ' around wond...   \n",
       "3        4685   spam  subject: photoshop , windows , office . cheap ...   \n",
       "4        2030  Legit  subject: : indian springs deal book teco pvr r...   \n",
       "\n",
       "   label_num  \n",
       "0          0  \n",
       "1          0  \n",
       "2          0  \n",
       "3          1  \n",
       "4          0  "
      ]
     },
     "execution_count": 5,
     "metadata": {},
     "output_type": "execute_result"
    }
   ],
   "source": [
    "def preprocess(text, stem=False):\n",
    "    text = re.sub(text_cleaning_re, ' ', str(text).lower()).strip()\n",
    "    tokens = []\n",
    "    for token in text.split():\n",
    "        if token not in stop_words:\n",
    "            if stem:\n",
    "                tokens.append(stemmer.stem(token))\n",
    "            else:\n",
    "                tokens.append(token)\n",
    "    return \" \".join(tokens)\n",
    "\n",
    "data.text = data.text.apply(lambda x: preprocess(x))\n",
    "data.head()\n"
   ]
  },
  {
   "cell_type": "code",
   "execution_count": 6,
   "id": "4823f905",
   "metadata": {},
   "outputs": [
    {
     "data": {
      "text/html": [
       "<div>\n",
       "<style scoped>\n",
       "    .dataframe tbody tr th:only-of-type {\n",
       "        vertical-align: middle;\n",
       "    }\n",
       "\n",
       "    .dataframe tbody tr th {\n",
       "        vertical-align: top;\n",
       "    }\n",
       "\n",
       "    .dataframe thead th {\n",
       "        text-align: right;\n",
       "    }\n",
       "</style>\n",
       "<table border=\"1\" class=\"dataframe\">\n",
       "  <thead>\n",
       "    <tr style=\"text-align: right;\">\n",
       "      <th></th>\n",
       "      <th>text</th>\n",
       "      <th>Label</th>\n",
       "    </tr>\n",
       "  </thead>\n",
       "  <tbody>\n",
       "    <tr>\n",
       "      <th>0</th>\n",
       "      <td>subject: enron methanol ; meter # : 988291 fol...</td>\n",
       "      <td>0</td>\n",
       "    </tr>\n",
       "    <tr>\n",
       "      <th>1</th>\n",
       "      <td>subject: hpl nom january 9 , 2001 ( see attach...</td>\n",
       "      <td>0</td>\n",
       "    </tr>\n",
       "    <tr>\n",
       "      <th>2</th>\n",
       "      <td>subject: neon retreat ho ho ho , ' around wond...</td>\n",
       "      <td>0</td>\n",
       "    </tr>\n",
       "    <tr>\n",
       "      <th>3</th>\n",
       "      <td>subject: photoshop , windows , office . cheap ...</td>\n",
       "      <td>1</td>\n",
       "    </tr>\n",
       "    <tr>\n",
       "      <th>4</th>\n",
       "      <td>subject: : indian springs deal book teco pvr r...</td>\n",
       "      <td>0</td>\n",
       "    </tr>\n",
       "    <tr>\n",
       "      <th>...</th>\n",
       "      <td>...</td>\n",
       "      <td>...</td>\n",
       "    </tr>\n",
       "    <tr>\n",
       "      <th>5166</th>\n",
       "      <td>subject: put 10 ft transport volumes decreased...</td>\n",
       "      <td>0</td>\n",
       "    </tr>\n",
       "    <tr>\n",
       "      <th>5167</th>\n",
       "      <td>subject: 3 / 4 / 2000 following noms hpl ' tak...</td>\n",
       "      <td>0</td>\n",
       "    </tr>\n",
       "    <tr>\n",
       "      <th>5168</th>\n",
       "      <td>subject: calpine daily gas nomination &gt; &gt; juli...</td>\n",
       "      <td>0</td>\n",
       "    </tr>\n",
       "    <tr>\n",
       "      <th>5169</th>\n",
       "      <td>subject: industrial worksheets august 2000 act...</td>\n",
       "      <td>0</td>\n",
       "    </tr>\n",
       "    <tr>\n",
       "      <th>5170</th>\n",
       "      <td>subject: important online banking alert dear v...</td>\n",
       "      <td>1</td>\n",
       "    </tr>\n",
       "  </tbody>\n",
       "</table>\n",
       "<p>5171 rows × 2 columns</p>\n",
       "</div>"
      ],
      "text/plain": [
       "                                                   text  Label\n",
       "0     subject: enron methanol ; meter # : 988291 fol...      0\n",
       "1     subject: hpl nom january 9 , 2001 ( see attach...      0\n",
       "2     subject: neon retreat ho ho ho , ' around wond...      0\n",
       "3     subject: photoshop , windows , office . cheap ...      1\n",
       "4     subject: : indian springs deal book teco pvr r...      0\n",
       "...                                                 ...    ...\n",
       "5166  subject: put 10 ft transport volumes decreased...      0\n",
       "5167  subject: 3 / 4 / 2000 following noms hpl ' tak...      0\n",
       "5168  subject: calpine daily gas nomination > > juli...      0\n",
       "5169  subject: industrial worksheets august 2000 act...      0\n",
       "5170  subject: important online banking alert dear v...      1\n",
       "\n",
       "[5171 rows x 2 columns]"
      ]
     },
     "execution_count": 6,
     "metadata": {},
     "output_type": "execute_result"
    }
   ],
   "source": [
    "data = data.drop(['Unnamed: 0', 'label'], axis=1)\n",
    "data = data.rename(columns = {\"label_num\" : \"Label\"})\n",
    "data"
   ]
  },
  {
   "cell_type": "code",
   "execution_count": 7,
   "id": "3d956b0f",
   "metadata": {},
   "outputs": [
    {
     "name": "stdout",
     "output_type": "stream",
     "text": [
      "Train Data size: 3878\n",
      "Test Data size 1293\n"
     ]
    }
   ],
   "source": [
    "x = data['text']\n",
    "y = data['Label']\n",
    "x_train, x_test, y_train, y_test = train_test_split(x, y, test_size=0.25,\n",
    "                                         random_state=7)\n",
    "print(\"Train Data size:\", len(x_train))\n",
    "print(\"Test Data size\", len(x_test))"
   ]
  },
  {
   "cell_type": "code",
   "execution_count": 8,
   "id": "7032e363",
   "metadata": {},
   "outputs": [
    {
     "name": "stdout",
     "output_type": "stream",
     "text": [
      "Vocabulary Size : 43372\n"
     ]
    }
   ],
   "source": [
    "from keras.preprocessing.text import Tokenizer\n",
    "\n",
    "tokenizer = Tokenizer()\n",
    "tokenizer.fit_on_texts(x_train)\n",
    "\n",
    "word_index = tokenizer.word_index\n",
    "vocab_size = len(tokenizer.word_index) + 1000\n",
    "print(\"Vocabulary Size :\", vocab_size)"
   ]
  },
  {
   "cell_type": "code",
   "execution_count": 9,
   "id": "ccf42fe6",
   "metadata": {},
   "outputs": [
    {
     "name": "stdout",
     "output_type": "stream",
     "text": [
      "Training X Shape: (3878, 50)\n",
      "Testing X Shape: (1293, 50)\n"
     ]
    }
   ],
   "source": [
    "from keras.preprocessing.sequence import pad_sequences\n",
    "\n",
    "x_train = pad_sequences(tokenizer.texts_to_sequences(x_train),\n",
    "                        maxlen = 50)\n",
    "x_test = pad_sequences(tokenizer.texts_to_sequences(x_test),\n",
    "                       maxlen = 50)\n",
    "\n",
    "print(\"Training X Shape:\",x_train.shape)\n",
    "print(\"Testing X Shape:\",x_test.shape)"
   ]
  },
  {
   "cell_type": "code",
   "execution_count": 10,
   "id": "89a03a16",
   "metadata": {},
   "outputs": [],
   "source": [
    "MAX_SEQUENCE_LENGTH = 50\n",
    "n_lstm = 60\n",
    "drop_lstm =0.2\n",
    "from keras.layers import RepeatVector\n",
    "from keras.layers import TimeDistributed\n",
    "from tensorflow.keras.models import Sequential\n",
    "from tensorflow.keras.layers import Embedding, GlobalAveragePooling1D, Dense, Dropout, LSTM, Bidirectional, GRU\n",
    "embeding_dim = 16\n",
    "drop_value = 0.2\n",
    "n_dense = 24\n",
    "num_epochs = 20"
   ]
  },
  {
   "cell_type": "code",
   "execution_count": 11,
   "id": "1883d77c",
   "metadata": {
    "scrolled": false
   },
   "outputs": [
    {
     "name": "stdout",
     "output_type": "stream",
     "text": [
      "Epoch 1/20\n",
      "122/122 - 3s - loss: 0.5396 - accuracy: 0.7127 - val_loss: 0.2858 - val_accuracy: 0.8175\n",
      "Epoch 2/20\n",
      "122/122 - 2s - loss: 0.1999 - accuracy: 0.9675 - val_loss: 0.2030 - val_accuracy: 0.9606\n",
      "Epoch 3/20\n",
      "122/122 - 2s - loss: 0.1172 - accuracy: 0.9897 - val_loss: 0.1429 - val_accuracy: 0.9652\n",
      "Epoch 4/20\n",
      "122/122 - 3s - loss: 0.0679 - accuracy: 0.9941 - val_loss: 0.1099 - val_accuracy: 0.9706\n",
      "Epoch 5/20\n",
      "122/122 - 2s - loss: 0.0413 - accuracy: 0.9969 - val_loss: 0.1042 - val_accuracy: 0.9691\n",
      "Epoch 6/20\n",
      "122/122 - 2s - loss: 0.0275 - accuracy: 0.9985 - val_loss: 0.1004 - val_accuracy: 0.9683\n",
      "Epoch 7/20\n",
      "122/122 - 3s - loss: 0.0195 - accuracy: 0.9987 - val_loss: 0.1067 - val_accuracy: 0.9667\n",
      "Epoch 8/20\n",
      "122/122 - 2s - loss: 0.0142 - accuracy: 0.9992 - val_loss: 0.1055 - val_accuracy: 0.9683\n",
      "Epoch 9/20\n",
      "122/122 - 2s - loss: 0.0108 - accuracy: 0.9995 - val_loss: 0.1137 - val_accuracy: 0.9675\n",
      "Epoch 10/20\n",
      "122/122 - 2s - loss: 0.0080 - accuracy: 0.9997 - val_loss: 0.1242 - val_accuracy: 0.9660\n",
      "Epoch 11/20\n",
      "122/122 - 2s - loss: 0.0117 - accuracy: 0.9969 - val_loss: 0.0966 - val_accuracy: 0.9714\n",
      "Epoch 12/20\n",
      "122/122 - 2s - loss: 0.0059 - accuracy: 0.9997 - val_loss: 0.1040 - val_accuracy: 0.9698\n",
      "Epoch 13/20\n",
      "122/122 - 2s - loss: 0.0049 - accuracy: 0.9997 - val_loss: 0.1103 - val_accuracy: 0.9698\n",
      "Epoch 14/20\n",
      "122/122 - 2s - loss: 0.0057 - accuracy: 0.9990 - val_loss: 0.0915 - val_accuracy: 0.9745\n",
      "Epoch 15/20\n",
      "122/122 - 2s - loss: 0.0037 - accuracy: 0.9997 - val_loss: 0.0982 - val_accuracy: 0.9753\n",
      "Epoch 16/20\n",
      "122/122 - 3s - loss: 0.0032 - accuracy: 0.9997 - val_loss: 0.1037 - val_accuracy: 0.9722\n",
      "Epoch 17/20\n",
      "122/122 - 3s - loss: 0.0031 - accuracy: 0.9997 - val_loss: 0.1091 - val_accuracy: 0.9722\n",
      "Epoch 18/20\n",
      "122/122 - 3s - loss: 0.0028 - accuracy: 0.9995 - val_loss: 0.1117 - val_accuracy: 0.9714\n",
      "Epoch 19/20\n",
      "122/122 - 3s - loss: 0.0024 - accuracy: 1.0000 - val_loss: 0.1167 - val_accuracy: 0.9706\n",
      "Epoch 20/20\n",
      "122/122 - 2s - loss: 0.0025 - accuracy: 0.9997 - val_loss: 0.1218 - val_accuracy: 0.9706\n",
      "Model: \"sequential\"\n",
      "_________________________________________________________________\n",
      "Layer (type)                 Output Shape              Param #   \n",
      "=================================================================\n",
      "embedding (Embedding)        (None, 50, 16)            693952    \n",
      "_________________________________________________________________\n",
      "lstm (LSTM)                  (None, 7)                 672       \n",
      "_________________________________________________________________\n",
      "dense (Dense)                (None, 1)                 8         \n",
      "=================================================================\n",
      "Total params: 694,632\n",
      "Trainable params: 694,632\n",
      "Non-trainable params: 0\n",
      "_________________________________________________________________\n"
     ]
    }
   ],
   "source": [
    "#LSTM Spam detection architecture\n",
    "lstm = Sequential()\n",
    "lstm.add(Embedding(vocab_size, embeding_dim, input_length=MAX_SEQUENCE_LENGTH))\n",
    "lstm.add(LSTM(7, dropout=drop_lstm,activity_regularizer=regularizers.l2(1e-4) ,return_sequences=False))\n",
    "#lstm.add(LSTM(3, dropout=drop_lstm,activity_regularizer=regularizers.l2(1e-4) ,return_sequences=False))\n",
    "lstm.add(Dense(1, activation='sigmoid'))\n",
    "lstm.compile(loss = 'binary_crossentropy', optimizer = 'adam', metrics=['accuracy'])\n",
    "history = lstm.fit(x_train, y_train,validation_data=(x_test, y_test), epochs=num_epochs, verbose=2)\n",
    "lstm.summary()\n"
   ]
  },
  {
   "cell_type": "code",
   "execution_count": 12,
   "id": "eb770247",
   "metadata": {},
   "outputs": [
    {
     "data": {
      "image/png": "[encoded data removed]",
      "text/plain": [
       "<IPython.core.display.Image object>"
      ]
     },
     "execution_count": 12,
     "metadata": {},
     "output_type": "execute_result"
    }
   ],
   "source": [
    "from keras_visualizer import visualizer \n",
    "from keras.utils import plot_model,model_to_dot\n",
    "\n",
    "#visualizer(lstm,format='pdf', view=True)\n",
    "plot_model(lstm, to_file='lstm_plot.png', show_layer_names=True,expand_nested=True)\n"
   ]
  },
  {
   "cell_type": "code",
   "execution_count": 13,
   "id": "cbdcd336",
   "metadata": {},
   "outputs": [
    {
     "name": "stdout",
     "output_type": "stream",
     "text": [
      "Our accuracy is %97.06109762191772\n"
     ]
    }
   ],
   "source": [
    "trainPredict2 = lstm.predict(x_train, batch_size=256)\n",
    "lstm.reset_states()\n",
    "testPredict2 = lstm.predict(x_test, batch_size=256)\n",
    "predicted2=np.concatenate((trainPredict2,testPredict2),axis=0)\n",
    "Score = lstm.evaluate(x_test, y_test, verbose=100)\n",
    "print(\"Our accuracy is %{}\".format(Score[1]*100))\n",
    "\n"
   ]
  },
  {
   "cell_type": "code",
   "execution_count": 14,
   "id": "c5f238fc",
   "metadata": {},
   "outputs": [
    {
     "name": "stdout",
     "output_type": "stream",
     "text": [
      "(1293, 1)\n"
     ]
    }
   ],
   "source": [
    "print(testPredict2.shape)"
   ]
  },
  {
   "cell_type": "markdown",
   "id": "9b67850d",
   "metadata": {},
   "source": [
    "###  LSTM"
   ]
  },
  {
   "cell_type": "markdown",
   "id": "cde1c358",
   "metadata": {},
   "source": [
    "#### TRAINING AND VALIDATION GRAPHS"
   ]
  },
  {
   "cell_type": "code",
   "execution_count": 15,
   "id": "40a1f1f6",
   "metadata": {},
   "outputs": [
    {
     "data": {
      "image/png": "[encoded data removed]",
      "text/plain": [
       "<Figure size 432x288 with 1 Axes>"
      ]
     },
     "metadata": {
      "needs_background": "light"
     },
     "output_type": "display_data"
    },
    {
     "data": {
      "image/png": "[encoded data removed]",
      "text/plain": [
       "<Figure size 432x288 with 1 Axes>"
      ]
     },
     "metadata": {
      "needs_background": "light"
     },
     "output_type": "display_data"
    }
   ],
   "source": [
    "metrics = pd.DataFrame(history.history)\n",
    "\n",
    "metrics.rename(columns= {'loss': 'Training_Loss', 'accuracy': 'Training_Accuracy', \n",
    "                         'val_loss': 'Validation_Loss', 'val_accuracy': 'Validation_Accuracy'}, \n",
    "               inplace = True)\n",
    "\n",
    "def plot_graphs(var1, var2, string):\n",
    "    metrics[[var1, var2]].plot()\n",
    "    plt.title('LSTM Model: Training and Validation ' + string)\n",
    "    plt.xlabel ('Number of epochs')\n",
    "    plt.ylabel(string)\n",
    "    plt.legend([var1, var2])\n",
    "\n",
    "plot_graphs('Training_Loss', 'Validation_Loss', 'loss')\n",
    "plot_graphs('Training_Accuracy', 'Validation_Accuracy', 'accuracy')"
   ]
  },
  {
   "cell_type": "markdown",
   "id": "5ca07465",
   "metadata": {},
   "source": [
    "### P-R CURVE"
   ]
  },
  {
   "cell_type": "code",
   "execution_count": 17,
   "id": "2bdcf432",
   "metadata": {},
   "outputs": [
    {
     "data": {
      "text/plain": [
       "<sklearn.metrics._plot.precision_recall_curve.PrecisionRecallDisplay at 0x1f586e51250>"
      ]
     },
     "execution_count": 17,
     "metadata": {},
     "output_type": "execute_result"
    },
    {
     "data": {
      "image/png": "[encoded data removed]",
      "text/plain": [
       "<Figure size 432x288 with 1 Axes>"
      ]
     },
     "metadata": {
      "needs_background": "light"
     },
     "output_type": "display_data"
    }
   ],
   "source": [
    "from sklearn.metrics import precision_recall_curve\n",
    "\n",
    "p,r,_ = precision_recall_curve(y_test,testPredict2)\n",
    "auc_score = auc(r, p)\n",
    "disp = PrecisionRecallDisplay(precision=p, recall=r)\n",
    "disp.plot()"
   ]
  },
  {
   "cell_type": "code",
   "execution_count": 19,
   "id": "90dea1c8",
   "metadata": {},
   "outputs": [
    {
     "name": "stdout",
     "output_type": "stream",
     "text": [
      "ROC AUC: 0.984447\n"
     ]
    }
   ],
   "source": [
    "print('ROC AUC: %f' % auc_score)"
   ]
  },
  {
   "cell_type": "code",
   "execution_count": null,
   "id": "28f9e091",
   "metadata": {},
   "outputs": [],
   "source": [
    "algo = ['ANN','RNN','LSTM','Bi-LSTM']\n",
    "values = [91.98,74.16,format(Score[1]*100),97.37]\n",
    "fig = plt.figure(figsize = (8,5))\n",
    " \n",
    "# creating the bar plot\n",
    "plt.bar(algo, values, color ='maroon',\n",
    "        width = 0.4)\n",
    "\n",
    "\n",
    "plt.ylabel(\"Score\")\n",
    "plt.title(\"Comparision of Accuracy\")\n",
    "plt.show()"
   ]
  },
  {
   "cell_type": "code",
   "execution_count": null,
   "id": "e4508efa",
   "metadata": {},
   "outputs": [],
   "source": []
  }
 ],
 "metadata": {
  "kernelspec": {
   "display_name": "Python 3",
   "language": "python",
   "name": "python3"
  },
  "language_info": {
   "codemirror_mode": {
    "name": "ipython",
    "version": 3
   },
   "file_extension": ".py",
   "mimetype": "text/x-python",
   "name": "python",
   "nbconvert_exporter": "python",
   "pygments_lexer": "ipython3",
   "version": "3.8.8"
  }
 },
 "nbformat": 4,
 "nbformat_minor": 5
}
