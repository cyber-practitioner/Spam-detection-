{
 "cells": [
  {
   "cell_type": "code",
   "execution_count": 1,
   "id": "099b12a8",
   "metadata": {},
   "outputs": [
    {
     "name": "stderr",
     "output_type": "stream",
     "text": [
      "[nltk_data] Downloading package stopwords to\n",
      "[nltk_data]     C:\\Users\\FIREBLZE\\AppData\\Roaming\\nltk_data...\n",
      "[nltk_data]   Package stopwords is already up-to-date!\n"
     ]
    }
   ],
   "source": [
    "import pandas as pd\n",
    "import numpy as np\n",
    "import tensorflow as tf\n",
    "import matplotlib.pyplot as plt\n",
    "import seaborn as sns\n",
    "import re\n",
    "from sklearn.metrics import *\n",
    "\n",
    "\n",
    "import nltk \n",
    "nltk.download('stopwords')\n",
    "from nltk.corpus import stopwords\n",
    "from nltk.stem import SnowballStemmer\n",
    "\n",
    "from sklearn.model_selection import train_test_split\n",
    "from sklearn.preprocessing import LabelEncoder"
   ]
  },
  {
   "cell_type": "code",
   "execution_count": 2,
   "id": "6f6b56da",
   "metadata": {},
   "outputs": [
    {
     "name": "stdout",
     "output_type": "stream",
     "text": [
      "<class 'pandas.core.frame.DataFrame'>\n",
      "RangeIndex: 5171 entries, 0 to 5170\n",
      "Data columns (total 4 columns):\n",
      " #   Column      Non-Null Count  Dtype \n",
      "---  ------      --------------  ----- \n",
      " 0   Unnamed: 0  5171 non-null   int64 \n",
      " 1   label       5171 non-null   object\n",
      " 2   text        5171 non-null   object\n",
      " 3   label_num   5171 non-null   int64 \n",
      "dtypes: int64(2), object(2)\n",
      "memory usage: 161.7+ KB\n"
     ]
    }
   ],
   "source": [
    "data = pd.read_csv('spam_ham_dataset.csv')\n",
    "data.info()\n",
    "data=data.replace(to_replace =\"ham\",\n",
    "                 value =\"Legit\")"
   ]
  },
  {
   "cell_type": "code",
   "execution_count": 3,
   "id": "461416d0",
   "metadata": {},
   "outputs": [
    {
     "data": {
      "text/plain": [
       "<AxesSubplot:xlabel='label', ylabel='count'>"
      ]
     },
     "execution_count": 3,
     "metadata": {},
     "output_type": "execute_result"
    },
    {
     "data": {
      "image/png": "[encoded data removed]",
      "text/plain": [
       "<Figure size 432x288 with 1 Axes>"
      ]
     },
     "metadata": {
      "needs_background": "light"
     },
     "output_type": "display_data"
    }
   ],
   "source": [
    "sns.countplot(x=\"label\", data=data)"
   ]
  },
  {
   "cell_type": "code",
   "execution_count": 4,
   "id": "4f66353b",
   "metadata": {},
   "outputs": [],
   "source": [
    "stop_words = stopwords.words('english')\n",
    "stemmer = SnowballStemmer('english')\n",
    "\n",
    "text_cleaning_re = \"@\\S+|https?:\\S+|http?:\\S+|[^A-Za-z0-9]:\\S+|subject:\\S+|nbsp\""
   ]
  },
  {
   "cell_type": "code",
   "execution_count": 5,
   "id": "60c8aa01",
   "metadata": {},
   "outputs": [
    {
     "data": {
      "text/html": [
       "<div>\n",
       "<style scoped>\n",
       "    .dataframe tbody tr th:only-of-type {\n",
       "        vertical-align: middle;\n",
       "    }\n",
       "\n",
       "    .dataframe tbody tr th {\n",
       "        vertical-align: top;\n",
       "    }\n",
       "\n",
       "    .dataframe thead th {\n",
       "        text-align: right;\n",
       "    }\n",
       "</style>\n",
       "<table border=\"1\" class=\"dataframe\">\n",
       "  <thead>\n",
       "    <tr style=\"text-align: right;\">\n",
       "      <th></th>\n",
       "      <th>Unnamed: 0</th>\n",
       "      <th>label</th>\n",
       "      <th>text</th>\n",
       "      <th>label_num</th>\n",
       "    </tr>\n",
       "  </thead>\n",
       "  <tbody>\n",
       "    <tr>\n",
       "      <th>0</th>\n",
       "      <td>605</td>\n",
       "      <td>Legit</td>\n",
       "      <td>subject: enron methanol ; meter # : 988291 fol...</td>\n",
       "      <td>0</td>\n",
       "    </tr>\n",
       "    <tr>\n",
       "      <th>1</th>\n",
       "      <td>2349</td>\n",
       "      <td>Legit</td>\n",
       "      <td>subject: hpl nom january 9 , 2001 ( see attach...</td>\n",
       "      <td>0</td>\n",
       "    </tr>\n",
       "    <tr>\n",
       "      <th>2</th>\n",
       "      <td>3624</td>\n",
       "      <td>Legit</td>\n",
       "      <td>subject: neon retreat ho ho ho , ' around wond...</td>\n",
       "      <td>0</td>\n",
       "    </tr>\n",
       "    <tr>\n",
       "      <th>3</th>\n",
       "      <td>4685</td>\n",
       "      <td>spam</td>\n",
       "      <td>subject: photoshop , windows , office . cheap ...</td>\n",
       "      <td>1</td>\n",
       "    </tr>\n",
       "    <tr>\n",
       "      <th>4</th>\n",
       "      <td>2030</td>\n",
       "      <td>Legit</td>\n",
       "      <td>subject: : indian springs deal book teco pvr r...</td>\n",
       "      <td>0</td>\n",
       "    </tr>\n",
       "  </tbody>\n",
       "</table>\n",
       "</div>"
      ],
      "text/plain": [
       "   Unnamed: 0  label                                               text  \\\n",
       "0         605  Legit  subject: enron methanol ; meter # : 988291 fol...   \n",
       "1        2349  Legit  subject: hpl nom january 9 , 2001 ( see attach...   \n",
       "2        3624  Legit  subject: neon retreat ho ho ho , ' around wond...   \n",
       "3        4685   spam  subject: photoshop , windows , office . cheap ...   \n",
       "4        2030  Legit  subject: : indian springs deal book teco pvr r...   \n",
       "\n",
       "   label_num  \n",
       "0          0  \n",
       "1          0  \n",
       "2          0  \n",
       "3          1  \n",
       "4          0  "
      ]
     },
     "execution_count": 5,
     "metadata": {},
     "output_type": "execute_result"
    }
   ],
   "source": [
    "def preprocess(text, stem=False):\n",
    "    text = re.sub(text_cleaning_re, ' ', str(text).lower()).strip()\n",
    "    tokens = []\n",
    "    for token in text.split():\n",
    "        if token not in stop_words:\n",
    "            if stem:\n",
    "                tokens.append(stemmer.stem(token))\n",
    "            else:\n",
    "                tokens.append(token)\n",
    "    return \" \".join(tokens)\n",
    "\n",
    "data.text = data.text.apply(lambda x: preprocess(x))\n",
    "data.head()\n"
   ]
  },
  {
   "cell_type": "code",
   "execution_count": 6,
   "id": "4823f905",
   "metadata": {},
   "outputs": [
    {
     "data": {
      "text/html": [
       "<div>\n",
       "<style scoped>\n",
       "    .dataframe tbody tr th:only-of-type {\n",
       "        vertical-align: middle;\n",
       "    }\n",
       "\n",
       "    .dataframe tbody tr th {\n",
       "        vertical-align: top;\n",
       "    }\n",
       "\n",
       "    .dataframe thead th {\n",
       "        text-align: right;\n",
       "    }\n",
       "</style>\n",
       "<table border=\"1\" class=\"dataframe\">\n",
       "  <thead>\n",
       "    <tr style=\"text-align: right;\">\n",
       "      <th></th>\n",
       "      <th>text</th>\n",
       "      <th>Label</th>\n",
       "    </tr>\n",
       "  </thead>\n",
       "  <tbody>\n",
       "    <tr>\n",
       "      <th>0</th>\n",
       "      <td>subject: enron methanol ; meter # : 988291 fol...</td>\n",
       "      <td>0</td>\n",
       "    </tr>\n",
       "    <tr>\n",
       "      <th>1</th>\n",
       "      <td>subject: hpl nom january 9 , 2001 ( see attach...</td>\n",
       "      <td>0</td>\n",
       "    </tr>\n",
       "    <tr>\n",
       "      <th>2</th>\n",
       "      <td>subject: neon retreat ho ho ho , ' around wond...</td>\n",
       "      <td>0</td>\n",
       "    </tr>\n",
       "    <tr>\n",
       "      <th>3</th>\n",
       "      <td>subject: photoshop , windows , office . cheap ...</td>\n",
       "      <td>1</td>\n",
       "    </tr>\n",
       "    <tr>\n",
       "      <th>4</th>\n",
       "      <td>subject: : indian springs deal book teco pvr r...</td>\n",
       "      <td>0</td>\n",
       "    </tr>\n",
       "    <tr>\n",
       "      <th>...</th>\n",
       "      <td>...</td>\n",
       "      <td>...</td>\n",
       "    </tr>\n",
       "    <tr>\n",
       "      <th>5166</th>\n",
       "      <td>subject: put 10 ft transport volumes decreased...</td>\n",
       "      <td>0</td>\n",
       "    </tr>\n",
       "    <tr>\n",
       "      <th>5167</th>\n",
       "      <td>subject: 3 / 4 / 2000 following noms hpl ' tak...</td>\n",
       "      <td>0</td>\n",
       "    </tr>\n",
       "    <tr>\n",
       "      <th>5168</th>\n",
       "      <td>subject: calpine daily gas nomination &gt; &gt; juli...</td>\n",
       "      <td>0</td>\n",
       "    </tr>\n",
       "    <tr>\n",
       "      <th>5169</th>\n",
       "      <td>subject: industrial worksheets august 2000 act...</td>\n",
       "      <td>0</td>\n",
       "    </tr>\n",
       "    <tr>\n",
       "      <th>5170</th>\n",
       "      <td>subject: important online banking alert dear v...</td>\n",
       "      <td>1</td>\n",
       "    </tr>\n",
       "  </tbody>\n",
       "</table>\n",
       "<p>5171 rows × 2 columns</p>\n",
       "</div>"
      ],
      "text/plain": [
       "                                                   text  Label\n",
       "0     subject: enron methanol ; meter # : 988291 fol...      0\n",
       "1     subject: hpl nom january 9 , 2001 ( see attach...      0\n",
       "2     subject: neon retreat ho ho ho , ' around wond...      0\n",
       "3     subject: photoshop , windows , office . cheap ...      1\n",
       "4     subject: : indian springs deal book teco pvr r...      0\n",
       "...                                                 ...    ...\n",
       "5166  subject: put 10 ft transport volumes decreased...      0\n",
       "5167  subject: 3 / 4 / 2000 following noms hpl ' tak...      0\n",
       "5168  subject: calpine daily gas nomination > > juli...      0\n",
       "5169  subject: industrial worksheets august 2000 act...      0\n",
       "5170  subject: important online banking alert dear v...      1\n",
       "\n",
       "[5171 rows x 2 columns]"
      ]
     },
     "execution_count": 6,
     "metadata": {},
     "output_type": "execute_result"
    }
   ],
   "source": [
    "data = data.drop(['Unnamed: 0', 'label'], axis=1)\n",
    "data = data.rename(columns = {\"label_num\" : \"Label\"})\n",
    "data"
   ]
  },
  {
   "cell_type": "code",
   "execution_count": 7,
   "id": "3d956b0f",
   "metadata": {},
   "outputs": [
    {
     "name": "stdout",
     "output_type": "stream",
     "text": [
      "Train Data size: 3878\n",
      "Test Data size 1293\n"
     ]
    }
   ],
   "source": [
    "x = data['text']\n",
    "y = data['Label']\n",
    "x_train, x_test, y_train, y_test = train_test_split(x, y, test_size=0.25,\n",
    "                                         random_state=7)\n",
    "print(\"Train Data size:\", len(x_train))\n",
    "print(\"Test Data size\", len(x_test))"
   ]
  },
  {
   "cell_type": "code",
   "execution_count": 8,
   "id": "7032e363",
   "metadata": {},
   "outputs": [
    {
     "name": "stdout",
     "output_type": "stream",
     "text": [
      "Vocabulary Size : 43372\n"
     ]
    }
   ],
   "source": [
    "from keras.preprocessing.text import Tokenizer\n",
    "\n",
    "tokenizer = Tokenizer()\n",
    "tokenizer.fit_on_texts(x_train)\n",
    "\n",
    "word_index = tokenizer.word_index\n",
    "vocab_size = len(tokenizer.word_index) + 1000\n",
    "print(\"Vocabulary Size :\", vocab_size)"
   ]
  },
  {
   "cell_type": "code",
   "execution_count": 9,
   "id": "ccf42fe6",
   "metadata": {},
   "outputs": [
    {
     "name": "stdout",
     "output_type": "stream",
     "text": [
      "Training X Shape: (3878, 50)\n",
      "Testing X Shape: (1293, 50)\n"
     ]
    }
   ],
   "source": [
    "from keras.preprocessing.sequence import pad_sequences\n",
    "\n",
    "x_train = pad_sequences(tokenizer.texts_to_sequences(x_train),\n",
    "                        maxlen = 50)\n",
    "x_test = pad_sequences(tokenizer.texts_to_sequences(x_test),\n",
    "                       maxlen = 50)\n",
    "\n",
    "print(\"Training X Shape:\",x_train.shape)\n",
    "print(\"Testing X Shape:\",x_test.shape)"
   ]
  },
  {
   "cell_type": "code",
   "execution_count": 10,
   "id": "89a03a16",
   "metadata": {},
   "outputs": [],
   "source": [
    "MAX_SEQUENCE_LENGTH = 50\n",
    "n_lstm = 200\n",
    "drop_lstm =0.2\n",
    "from keras.layers import RepeatVector\n",
    "from keras.layers import TimeDistributed\n",
    "from tensorflow.keras.models import Sequential\n",
    "from tensorflow.keras.layers import Embedding, GlobalAveragePooling1D, Dense, Dropout, LSTM, Bidirectional, GRU\n",
    "embeding_dim = 16\n",
    "drop_value = 0.2\n",
    "n_dense = 24\n",
    "num_epochs = 19"
   ]
  },
  {
   "cell_type": "code",
   "execution_count": 14,
   "id": "1883d77c",
   "metadata": {
    "scrolled": false
   },
   "outputs": [
    {
     "name": "stdout",
     "output_type": "stream",
     "text": [
      "Epoch 1/19\n",
      "122/122 - 16s - loss: 0.3145 - accuracy: 0.8564 - val_loss: 0.1838 - val_accuracy: 0.9490\n",
      "Epoch 2/19\n",
      "122/122 - 16s - loss: 0.0381 - accuracy: 0.9871 - val_loss: 0.0799 - val_accuracy: 0.9783\n",
      "Epoch 3/19\n",
      "122/122 - 16s - loss: 0.0133 - accuracy: 0.9964 - val_loss: 0.0983 - val_accuracy: 0.9791\n",
      "Epoch 4/19\n",
      "122/122 - 16s - loss: 0.0044 - accuracy: 0.9987 - val_loss: 0.0889 - val_accuracy: 0.9791\n",
      "Epoch 5/19\n",
      "122/122 - 16s - loss: 0.0022 - accuracy: 0.9995 - val_loss: 0.1174 - val_accuracy: 0.9776\n",
      "Epoch 6/19\n",
      "122/122 - 17s - loss: 0.0015 - accuracy: 0.9995 - val_loss: 0.1197 - val_accuracy: 0.9799\n",
      "Epoch 7/19\n",
      "122/122 - 16s - loss: 0.0015 - accuracy: 0.9995 - val_loss: 0.1079 - val_accuracy: 0.9799\n",
      "Epoch 8/19\n",
      "122/122 - 17s - loss: 7.5166e-04 - accuracy: 0.9997 - val_loss: 0.1285 - val_accuracy: 0.9807\n",
      "Epoch 9/19\n",
      "122/122 - 17s - loss: 0.0017 - accuracy: 0.9995 - val_loss: 0.1175 - val_accuracy: 0.9807\n",
      "Epoch 10/19\n",
      "122/122 - 19s - loss: 5.2578e-04 - accuracy: 0.9997 - val_loss: 0.0984 - val_accuracy: 0.9807\n",
      "Epoch 11/19\n",
      "122/122 - 19s - loss: 5.2556e-04 - accuracy: 0.9997 - val_loss: 0.1047 - val_accuracy: 0.9807\n",
      "Epoch 12/19\n",
      "122/122 - 17s - loss: 2.4763e-04 - accuracy: 1.0000 - val_loss: 0.1286 - val_accuracy: 0.9814\n",
      "Epoch 13/19\n",
      "122/122 - 17s - loss: 2.8774e-04 - accuracy: 1.0000 - val_loss: 0.1064 - val_accuracy: 0.9783\n",
      "Epoch 14/19\n",
      "122/122 - 17s - loss: 2.2757e-04 - accuracy: 1.0000 - val_loss: 0.1200 - val_accuracy: 0.9822\n",
      "Epoch 15/19\n",
      "122/122 - 17s - loss: 3.5365e-05 - accuracy: 1.0000 - val_loss: 0.1429 - val_accuracy: 0.9814\n",
      "Epoch 16/19\n",
      "122/122 - 17s - loss: 4.8718e-05 - accuracy: 1.0000 - val_loss: 0.1347 - val_accuracy: 0.9814\n",
      "Epoch 17/19\n",
      "122/122 - 17s - loss: 4.8789e-05 - accuracy: 1.0000 - val_loss: 0.1549 - val_accuracy: 0.9799\n",
      "Epoch 18/19\n",
      "122/122 - 17s - loss: 1.0745e-04 - accuracy: 1.0000 - val_loss: 0.1444 - val_accuracy: 0.9799\n",
      "Epoch 19/19\n",
      "122/122 - 18s - loss: 2.0923e-05 - accuracy: 1.0000 - val_loss: 0.1439 - val_accuracy: 0.9807\n",
      "Model: \"sequential_1\"\n",
      "_________________________________________________________________\n",
      "Layer (type)                 Output Shape              Param #   \n",
      "=================================================================\n",
      "embedding_1 (Embedding)      (None, 50, 16)            693952    \n",
      "_________________________________________________________________\n",
      "lstm_2 (LSTM)                (None, 50, 200)           173600    \n",
      "_________________________________________________________________\n",
      "lstm_3 (LSTM)                (None, 200)               320800    \n",
      "_________________________________________________________________\n",
      "dense_1 (Dense)              (None, 1)                 201       \n",
      "=================================================================\n",
      "Total params: 1,188,553\n",
      "Trainable params: 1,188,553\n",
      "Non-trainable params: 0\n",
      "_________________________________________________________________\n"
     ]
    }
   ],
   "source": [
    "#LSTM Spam detection architecture\n",
    "lstm = Sequential()\n",
    "lstm.add(Embedding(vocab_size, embeding_dim, input_length=MAX_SEQUENCE_LENGTH))\n",
    "lstm.add(LSTM(n_lstm, dropout=drop_lstm, return_sequences=True))\n",
    "lstm.add(LSTM(n_lstm, dropout=drop_lstm, return_sequences=False))\n",
    "lstm.add(Dense(1, activation='sigmoid'))\n",
    "lstm.compile(loss = 'binary_crossentropy', optimizer = 'adam', metrics=['accuracy'])\n",
    "history = lstm.fit(x_train, y_train,validation_data=(x_test, y_test), epochs=num_epochs, verbose=2)\n",
    "lstm.summary()\n"
   ]
  },
  {
   "cell_type": "code",
   "execution_count": 15,
   "id": "cbdcd336",
   "metadata": {},
   "outputs": [
    {
     "name": "stdout",
     "output_type": "stream",
     "text": [
      "Our accuracy is %100.0\n"
     ]
    }
   ],
   "source": [
    "trainPredict2 = lstm.predict(x_train, batch_size=256)\n",
    "lstm.reset_states()\n",
    "testPredict2 = lstm.predict(x_test, batch_size=256)\n",
    "predicted2=np.concatenate((trainPredict2,testPredict2),axis=0)\n",
    "trainScore2 = lstm.evaluate(x_train, y_train, verbose=0)\n",
    "print(\"Our accuracy is %{}\".format(trainScore2[1]*100))\n",
    "\n"
   ]
  },
  {
   "cell_type": "markdown",
   "id": "9b67850d",
   "metadata": {},
   "source": [
    "### Bi LSTM"
   ]
  },
  {
   "cell_type": "code",
   "execution_count": 16,
   "id": "0aaf49ae",
   "metadata": {},
   "outputs": [
    {
     "name": "stdout",
     "output_type": "stream",
     "text": [
      "Epoch 1/23\n",
      "122/122 - 14s - loss: 0.3577 - accuracy: 0.8324 - val_loss: 0.1021 - val_accuracy: 0.9629\n",
      "Epoch 2/23\n",
      "122/122 - 13s - loss: 0.0841 - accuracy: 0.9776 - val_loss: 0.1261 - val_accuracy: 0.9629\n",
      "Epoch 3/23\n",
      "122/122 - 13s - loss: 0.0587 - accuracy: 0.9838 - val_loss: 0.1067 - val_accuracy: 0.9675\n",
      "Epoch 4/23\n",
      "122/122 - 14s - loss: 0.0256 - accuracy: 0.9946 - val_loss: 0.1129 - val_accuracy: 0.9729\n",
      "Epoch 5/23\n",
      "122/122 - 13s - loss: 0.0222 - accuracy: 0.9951 - val_loss: 0.0916 - val_accuracy: 0.9745\n",
      "Epoch 6/23\n",
      "122/122 - 13s - loss: 0.0066 - accuracy: 0.9987 - val_loss: 0.0897 - val_accuracy: 0.9745\n",
      "Epoch 7/23\n",
      "122/122 - 13s - loss: 0.0030 - accuracy: 0.9995 - val_loss: 0.1081 - val_accuracy: 0.9737\n",
      "Epoch 8/23\n",
      "122/122 - 13s - loss: 0.0027 - accuracy: 0.9990 - val_loss: 0.1094 - val_accuracy: 0.9760\n",
      "Epoch 9/23\n",
      "122/122 - 13s - loss: 0.0033 - accuracy: 0.9992 - val_loss: 0.1345 - val_accuracy: 0.9729\n",
      "Epoch 10/23\n",
      "122/122 - 13s - loss: 0.0084 - accuracy: 0.9992 - val_loss: 0.0920 - val_accuracy: 0.9776\n",
      "Epoch 11/23\n",
      "122/122 - 14s - loss: 0.0040 - accuracy: 0.9992 - val_loss: 0.0966 - val_accuracy: 0.9791\n",
      "Epoch 12/23\n",
      "122/122 - 13s - loss: 0.0052 - accuracy: 0.9995 - val_loss: 0.0848 - val_accuracy: 0.9768\n",
      "Epoch 13/23\n",
      "122/122 - 13s - loss: 0.0022 - accuracy: 0.9997 - val_loss: 0.1101 - val_accuracy: 0.9745\n",
      "Epoch 14/23\n",
      "122/122 - 13s - loss: 7.1697e-04 - accuracy: 1.0000 - val_loss: 0.1369 - val_accuracy: 0.9768\n",
      "Epoch 15/23\n",
      "122/122 - 13s - loss: 5.9148e-04 - accuracy: 1.0000 - val_loss: 0.1213 - val_accuracy: 0.9706\n",
      "Epoch 16/23\n",
      "122/122 - 13s - loss: 0.0029 - accuracy: 0.9997 - val_loss: 0.1317 - val_accuracy: 0.9698\n",
      "Epoch 17/23\n",
      "122/122 - 13s - loss: 0.0035 - accuracy: 0.9997 - val_loss: 0.0982 - val_accuracy: 0.9760\n",
      "Epoch 18/23\n",
      "122/122 - 13s - loss: 5.4411e-04 - accuracy: 1.0000 - val_loss: 0.1019 - val_accuracy: 0.9698\n",
      "Epoch 19/23\n",
      "122/122 - 13s - loss: 5.7835e-04 - accuracy: 0.9997 - val_loss: 0.1069 - val_accuracy: 0.9698\n",
      "Epoch 20/23\n",
      "122/122 - 13s - loss: 3.0018e-04 - accuracy: 1.0000 - val_loss: 0.1376 - val_accuracy: 0.9745\n",
      "Epoch 21/23\n",
      "122/122 - 13s - loss: 1.7817e-04 - accuracy: 1.0000 - val_loss: 0.1258 - val_accuracy: 0.9737\n",
      "Epoch 22/23\n",
      "122/122 - 13s - loss: 0.0016 - accuracy: 0.9997 - val_loss: 0.1539 - val_accuracy: 0.9729\n",
      "Epoch 23/23\n",
      "122/122 - 13s - loss: 3.1578e-04 - accuracy: 1.0000 - val_loss: 0.1441 - val_accuracy: 0.9760\n"
     ]
    }
   ],
   "source": [
    "bi_lstm = Sequential()\n",
    "bi_lstm.add(Embedding(vocab_size, embeding_dim, input_length=MAX_SEQUENCE_LENGTH))\n",
    "bi_lstm.add(Bidirectional(LSTM(n_lstm, dropout=drop_lstm, return_sequences=False)))\n",
    "bi_lstm.add(Dense(1, activation='sigmoid'))\n",
    "bi_lstm.compile(loss = 'binary_crossentropy', optimizer = 'adam', metrics=['accuracy'])\n",
    "# Training\n",
    "num_epochs = 23\n",
    "\n",
    "history2 = bi_lstm.fit(x_train, y_train, epochs=num_epochs,\n",
    "                    validation_data=(x_test, y_test),\n",
    "                     verbose=2)"
   ]
  },
  {
   "cell_type": "code",
   "execution_count": 17,
   "id": "c67acf70",
   "metadata": {},
   "outputs": [
    {
     "name": "stdout",
     "output_type": "stream",
     "text": [
      "Our accuracy is %100.0\n"
     ]
    }
   ],
   "source": [
    "# make predictions\n",
    "trainPredict3 = bi_lstm.predict(x_train, batch_size=256)\n",
    "bi_lstm.reset_states()\n",
    "testPredict3 = bi_lstm.predict(x_test, batch_size=256)\n",
    "predicted3=np.concatenate((trainPredict3,testPredict3),axis=0)\n",
    "trainScore3 = bi_lstm.evaluate(x_train, y_train, verbose=0)\n",
    "print(\"Our accuracy is %{}\".format(trainScore3[1]*100))"
   ]
  },
  {
   "cell_type": "markdown",
   "id": "cde1c358",
   "metadata": {},
   "source": [
    "#### TRAINING AND VALIDATION GRAPHS"
   ]
  },
  {
   "cell_type": "code",
   "execution_count": 19,
   "id": "40a1f1f6",
   "metadata": {},
   "outputs": [
    {
     "data": {
      "image/png": "[encoded data removed]",
      "text/plain": [
       "<Figure size 432x288 with 1 Axes>"
      ]
     },
     "metadata": {
      "needs_background": "light"
     },
     "output_type": "display_data"
    },
    {
     "data": {
      "image/png": "[encoded data removed]",
      "text/plain": [
       "<Figure size 432x288 with 1 Axes>"
      ]
     },
     "metadata": {
      "needs_background": "light"
     },
     "output_type": "display_data"
    }
   ],
   "source": [
    "metrics = pd.DataFrame(history.history)\n",
    "\n",
    "metrics.rename(columns= {'loss': 'Training_Loss', 'accuracy': 'Training_Accuracy', \n",
    "                         'val_loss': 'Validation_Loss', 'val_accuracy': 'Validation_Accuracy'}, \n",
    "               inplace = True)\n",
    "\n",
    "def plot_graphs(var1, var2, string):\n",
    "    metrics[[var1, var2]].plot()\n",
    "    plt.title('LSTM Model: Training and Validation ' + string)\n",
    "    plt.xlabel ('Number of epochs')\n",
    "    plt.ylabel(string)\n",
    "    plt.legend([var1, var2])\n",
    "\n",
    "plot_graphs('Training_Loss', 'Validation_Loss', 'loss')\n",
    "plot_graphs('Training_Accuracy', 'Validation_Accuracy', 'accuracy')"
   ]
  },
  {
   "cell_type": "code",
   "execution_count": 20,
   "id": "ef050241",
   "metadata": {},
   "outputs": [
    {
     "data": {
      "image/png": "[encoded data removed]",
      "text/plain": [
       "<Figure size 432x288 with 1 Axes>"
      ]
     },
     "metadata": {
      "needs_background": "light"
     },
     "output_type": "display_data"
    },
    {
     "data": {
      "image/png": "[encoded data removed]",
      "text/plain": [
       "<Figure size 432x288 with 1 Axes>"
      ]
     },
     "metadata": {
      "needs_background": "light"
     },
     "output_type": "display_data"
    }
   ],
   "source": [
    "metrics = pd.DataFrame(history2.history)\n",
    "\n",
    "metrics.rename(columns= {'loss': 'Training_Loss', 'accuracy': 'Training_Accuracy', \n",
    "                         'val_loss': 'Validation_Loss', 'val_accuracy': 'Validation_Accuracy'}, \n",
    "               inplace = True)\n",
    "\n",
    "def plot_graphs(var1, var2, string):\n",
    "    metrics[[var1, var2]].plot()\n",
    "    plt.title('Bi-LSTM Model: Training and Validation ' + string)\n",
    "    plt.xlabel ('Number of epochs')\n",
    "    plt.ylabel(string)\n",
    "    plt.legend([var1, var2])\n",
    "\n",
    "plot_graphs('Training_Loss', 'Validation_Loss', 'loss')\n",
    "plot_graphs('Training_Accuracy', 'Validation_Accuracy', 'accuracy')"
   ]
  },
  {
   "cell_type": "markdown",
   "id": "5ca07465",
   "metadata": {},
   "source": [
    "### ROC AUC"
   ]
  },
  {
   "cell_type": "code",
   "execution_count": 21,
   "id": "2bdcf432",
   "metadata": {},
   "outputs": [
    {
     "data": {
      "image/png": "[encoded data removed]",
      "text/plain": [
       "<Figure size 432x288 with 1 Axes>"
      ]
     },
     "metadata": {
      "needs_background": "light"
     },
     "output_type": "display_data"
    }
   ],
   "source": [
    "from sklearn.metrics import roc_curve\n",
    "y_pred_LSTM = lstm.predict(x_test)\n",
    "fpr_lstm, tpr_lstm, thresholds_keras = roc_curve(y_test,testPredict2)\n",
    "\n",
    "from sklearn.metrics import auc\n",
    "auc_keras = auc(fpr_lstm, tpr_lstm)\n",
    "def plot_roc_curve(fpr,tpr): \n",
    "  plt.plot(fpr,tpr) \n",
    "  plt.axis([0,1,0,1]) \n",
    "  plt.xlabel('False Positive Rate') \n",
    "  plt.ylabel('True Positive Rate') \n",
    "  plt.show()\n",
    "plot_roc_curve(fpr_lstm,tpr_lstm)"
   ]
  },
  {
   "cell_type": "code",
   "execution_count": 23,
   "id": "0e5739f1",
   "metadata": {},
   "outputs": [
    {
     "name": "stdout",
     "output_type": "stream",
     "text": [
      "WARNING:tensorflow:From <ipython-input-23-50b5596846cd>:2: Sequential.predict_proba (from tensorflow.python.keras.engine.sequential) is deprecated and will be removed after 2021-01-01.\n",
      "Instructions for updating:\n",
      "Please use `model.predict()` instead.\n"
     ]
    },
    {
     "data": {
      "image/png": "[encoded data removed]",
      "text/plain": [
       "<Figure size 432x288 with 1 Axes>"
      ]
     },
     "metadata": {
      "needs_background": "light"
     },
     "output_type": "display_data"
    }
   ],
   "source": [
    "from sklearn.metrics import roc_curve\n",
    "y_pred_bi_LSTM = bi_lstm.predict_proba(x_test)\n",
    "fpr_bi_lstm, tpr_bi_lstm, thresholds_keras = roc_curve(y_test,testPredict3)\n",
    "\n",
    "from sklearn.metrics import auc\n",
    "auc_keras = auc(fpr_bi_lstm, tpr_bi_lstm)\n",
    "def plot_roc_curve(fpr,tpr): \n",
    "  plt.plot(fpr,tpr) \n",
    "  plt.axis([0,1,0,1]) \n",
    "  plt.xlabel('False Positive Rate') \n",
    "  plt.ylabel('True Positive Rate')\n",
    "  \n",
    "  plt.show()\n",
    "plot_roc_curve(fpr_bi_lstm,tpr_bi_lstm)"
   ]
  },
  {
   "cell_type": "code",
   "execution_count": null,
   "id": "90dea1c8",
   "metadata": {},
   "outputs": [],
   "source": []
  }
 ],
 "metadata": {
  "kernelspec": {
   "display_name": "Python 3",
   "language": "python",
   "name": "python3"
  },
  "language_info": {
   "codemirror_mode": {
    "name": "ipython",
    "version": 3
   },
   "file_extension": ".py",
   "mimetype": "text/x-python",
   "name": "python",
   "nbconvert_exporter": "python",
   "pygments_lexer": "ipython3",
   "version": "3.8.8"
  }
 },
 "nbformat": 4,
 "nbformat_minor": 5
}
